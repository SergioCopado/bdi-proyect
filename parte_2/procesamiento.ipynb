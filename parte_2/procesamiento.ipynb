{
 "cells": [
  {
   "cell_type": "code",
   "execution_count": 1,
   "id": "ae63eca1-a769-4510-a5a9-e7aa762d174d",
   "metadata": {},
   "outputs": [
    {
     "name": "stdout",
     "output_type": "stream",
     "text": [
      "Collecting elasticsearch\n",
      "  Downloading elasticsearch-8.13.1-py3-none-any.whl (477 kB)\n",
      "\u001b[K     |████████████████████████████████| 477 kB 2.5 MB/s eta 0:00:01\n",
      "\u001b[?25hCollecting elastic-transport<9,>=8.13\n",
      "  Downloading elastic_transport-8.13.0-py3-none-any.whl (64 kB)\n",
      "\u001b[K     |████████████████████████████████| 64 kB 1.4 MB/s  eta 0:00:01\n",
      "\u001b[?25hRequirement already satisfied: certifi in /usr/local/lib/python3.9/site-packages (from elastic-transport<9,>=8.13->elasticsearch) (2024.2.2)\n",
      "Requirement already satisfied: urllib3<3,>=1.26.2 in /usr/local/lib/python3.9/site-packages (from elastic-transport<9,>=8.13->elasticsearch) (2.2.1)\n",
      "Installing collected packages: elastic-transport, elasticsearch\n",
      "Successfully installed elastic-transport-8.13.0 elasticsearch-8.13.1\n",
      "\u001b[33mWARNING: Running pip as the 'root' user can result in broken permissions and conflicting behaviour with the system package manager. It is recommended to use a virtual environment instead: https://pip.pypa.io/warnings/venv\u001b[0m\n",
      "\u001b[33mWARNING: You are using pip version 21.2.3; however, version 24.0 is available.\n",
      "You should consider upgrading via the '/usr/local/bin/python3.9 -m pip install --upgrade pip' command.\u001b[0m\n",
      "Note: you may need to restart the kernel to use updated packages.\n"
     ]
    }
   ],
   "source": [
    "pip install elasticsearch"
   ]
  },
  {
   "cell_type": "code",
   "execution_count": 2,
   "id": "23aa8056-d748-4f31-90c2-90a9e4c6183f",
   "metadata": {},
   "outputs": [
    {
     "name": "stdout",
     "output_type": "stream",
     "text": [
      "Collecting pandas\n",
      "  Downloading pandas-2.2.2-cp39-cp39-manylinux_2_17_x86_64.manylinux2014_x86_64.whl (13.1 MB)\n",
      "\u001b[K     |████████████████████████████████| 13.1 MB 11.5 MB/s eta 0:00:01\n",
      "\u001b[?25hCollecting tzdata>=2022.7\n",
      "  Downloading tzdata-2024.1-py2.py3-none-any.whl (345 kB)\n",
      "\u001b[K     |████████████████████████████████| 345 kB 8.7 MB/s eta 0:00:01\n",
      "\u001b[?25hRequirement already satisfied: numpy>=1.22.4 in /usr/local/lib/python3.9/site-packages (from pandas) (1.26.4)\n",
      "Collecting pytz>=2020.1\n",
      "  Downloading pytz-2024.1-py2.py3-none-any.whl (505 kB)\n",
      "\u001b[K     |████████████████████████████████| 505 kB 7.2 MB/s eta 0:00:01\n",
      "\u001b[?25hRequirement already satisfied: python-dateutil>=2.8.2 in /usr/local/lib/python3.9/site-packages (from pandas) (2.9.0.post0)\n",
      "Requirement already satisfied: six>=1.5 in /usr/local/lib/python3.9/site-packages (from python-dateutil>=2.8.2->pandas) (1.16.0)\n",
      "Installing collected packages: tzdata, pytz, pandas\n",
      "Successfully installed pandas-2.2.2 pytz-2024.1 tzdata-2024.1\n",
      "\u001b[33mWARNING: Running pip as the 'root' user can result in broken permissions and conflicting behaviour with the system package manager. It is recommended to use a virtual environment instead: https://pip.pypa.io/warnings/venv\u001b[0m\n",
      "\u001b[33mWARNING: You are using pip version 21.2.3; however, version 24.0 is available.\n",
      "You should consider upgrading via the '/usr/local/bin/python3.9 -m pip install --upgrade pip' command.\u001b[0m\n",
      "Note: you may need to restart the kernel to use updated packages.\n"
     ]
    }
   ],
   "source": [
    "pip install pandas"
   ]
  },
  {
   "cell_type": "code",
   "execution_count": 3,
   "id": "5b1fb3f5-afe0-42cd-b99e-9b2cce8b6222",
   "metadata": {},
   "outputs": [],
   "source": [
    "import pyspark \n",
    "from pyspark.sql import SparkSession\n",
    "from pyspark.sql.functions import udf\n",
    "from pyspark.sql.types import ArrayType, StringType\n",
    "\n",
    "import os\n",
    "import json\n",
    "from elasticsearch import Elasticsearch"
   ]
  },
  {
   "cell_type": "markdown",
   "id": "faa8c569-2eed-47eb-b5b2-f10e986199bd",
   "metadata": {},
   "source": [
    "#### Spark"
   ]
  },
  {
   "cell_type": "code",
   "execution_count": 4,
   "id": "8a8ba11c-265b-470e-a059-6dda9b9c6f9b",
   "metadata": {},
   "outputs": [
    {
     "name": "stderr",
     "output_type": "stream",
     "text": [
      "Setting default log level to \"WARN\".\n",
      "To adjust logging level use sc.setLogLevel(newLevel). For SparkR, use setLogLevel(newLevel).\n",
      "24/05/18 10:59:50 WARN NativeCodeLoader: Unable to load native-hadoop library for your platform... using builtin-java classes where applicable\n"
     ]
    }
   ],
   "source": [
    "# Creamos una sesión de Spark\n",
    "spark = SparkSession.builder.master(\"local[*]\").appName(\"practica_ibd\").getOrCreate()"
   ]
  },
  {
   "cell_type": "code",
   "execution_count": 5,
   "id": "54600ad9-ddf7-4fef-b831-010a73bd565d",
   "metadata": {},
   "outputs": [
    {
     "name": "stderr",
     "output_type": "stream",
     "text": [
      "                                                                                \r"
     ]
    }
   ],
   "source": [
    "# Leemos los archivos JSON en un DataFrame\n",
    "archivos_json = spark.read.option(\"multiline\", \"true\").json(\"/opt/workspace\")\n",
    "\n",
    "# Seleccionamos los campos interesantes\n",
    "campos_seleccionados = archivos_json.select(\n",
    "    archivos_json['title'].alias('title'),\n",
    "    archivos_json['author_name'].getItem(0).alias('author_name'),\n",
    "    archivos_json['first_publish_year'].alias('publish_year'),\n",
    "    archivos_json['language'].alias('language'),\n",
    "    archivos_json['subject'].alias('subject'),\n",
    "    archivos_json['number_of_pages_median'].alias('num_pages'),\n",
    "    archivos_json['id_amazon'].alias('id_amazon'),\n",
    "    archivos_json['ratings_average'].alias('ratings')\n",
    ")"
   ]
  },
  {
   "cell_type": "code",
   "execution_count": null,
   "id": "365bf235-33d0-4389-a9a9-ba6c504748f3",
   "metadata": {},
   "outputs": [],
   "source": [
    "# Se supone que facilita ciertas cosas en spark crear un id pero ns para qué\n",
    "#from pyspark.sql.functions import monotonically_increasing_id\n",
    "\n",
    "# Añadir una columna de identificador único al DataFrame\n",
    "#campos_seleccionados = campos_seleccionados.withColumn(\"id\", monotonically_increasing_id())\n",
    "\n",
    "#campos_seleccionados.show()"
   ]
  },
  {
   "cell_type": "code",
   "execution_count": 6,
   "id": "ef1c4a7e-31c9-4bcb-948e-92ca5085af36",
   "metadata": {},
   "outputs": [
    {
     "name": "stderr",
     "output_type": "stream",
     "text": [
      "                                                                                \r"
     ]
    },
    {
     "data": {
      "text/plain": [
       "2399"
      ]
     },
     "execution_count": 6,
     "metadata": {},
     "output_type": "execute_result"
    }
   ],
   "source": [
    "campos_seleccionados.count()"
   ]
  },
  {
   "cell_type": "code",
   "execution_count": 7,
   "id": "eb5012a3-b0d6-4229-9b31-73dc04202d2d",
   "metadata": {},
   "outputs": [
    {
     "name": "stderr",
     "output_type": "stream",
     "text": [
      "                                                                                \r"
     ]
    },
    {
     "data": {
      "text/html": [
       "<div>\n",
       "<style scoped>\n",
       "    .dataframe tbody tr th:only-of-type {\n",
       "        vertical-align: middle;\n",
       "    }\n",
       "\n",
       "    .dataframe tbody tr th {\n",
       "        vertical-align: top;\n",
       "    }\n",
       "\n",
       "    .dataframe thead th {\n",
       "        text-align: right;\n",
       "    }\n",
       "</style>\n",
       "<table border=\"1\" class=\"dataframe\">\n",
       "  <thead>\n",
       "    <tr style=\"text-align: right;\">\n",
       "      <th></th>\n",
       "      <th>title</th>\n",
       "      <th>author_name</th>\n",
       "      <th>publish_year</th>\n",
       "      <th>language</th>\n",
       "      <th>subject</th>\n",
       "      <th>num_pages</th>\n",
       "      <th>id_amazon</th>\n",
       "      <th>ratings</th>\n",
       "    </tr>\n",
       "  </thead>\n",
       "  <tbody>\n",
       "    <tr>\n",
       "      <th>0</th>\n",
       "      <td>Frankenstein or The Modern Prometheus</td>\n",
       "      <td>Mary Wollstonecraft Shelley</td>\n",
       "      <td>1818.0</td>\n",
       "      <td>[fre, ita, por, ger, chi, rus, spa, eng, dut]</td>\n",
       "      <td>[Frankenstein (Fictitious character), Frankens...</td>\n",
       "      <td>240.0</td>\n",
       "      <td>[B08M25T3PW, B093XMVLXF, B000LQ3XU2, 198604261...</td>\n",
       "      <td>3.900585</td>\n",
       "    </tr>\n",
       "    <tr>\n",
       "      <th>1</th>\n",
       "      <td>A Christmas Carol</td>\n",
       "      <td>Charles Dickens</td>\n",
       "      <td>1843.0</td>\n",
       "      <td>[chi, spa, rus, eng, kor, fre, und, ita, fin, ...</td>\n",
       "      <td>[Ghost stories, Readers, Ebenzer Scrooge (Fict...</td>\n",
       "      <td>114.0</td>\n",
       "      <td>[B002D6DY1G, B000QNQ8J8, , B01N40IX3W, B0022WF...</td>\n",
       "      <td>3.883117</td>\n",
       "    </tr>\n",
       "    <tr>\n",
       "      <th>2</th>\n",
       "      <td>The Picture of Dorian Gray</td>\n",
       "      <td>Oscar Wilde</td>\n",
       "      <td>1890.0</td>\n",
       "      <td>[dut, chi, heb, arm, ukr, spa, fre, rus, cze, ...</td>\n",
       "      <td>[British and irish fiction (fictional works by...</td>\n",
       "      <td>253.0</td>\n",
       "      <td>[B000OKWFA4, B008MWZR1A, B00ABMJJSQ, B00XF4RG4...</td>\n",
       "      <td>4.041666</td>\n",
       "    </tr>\n",
       "    <tr>\n",
       "      <th>3</th>\n",
       "      <td>Kalender 2021</td>\n",
       "      <td>Paula Paulsen</td>\n",
       "      <td>2020.0</td>\n",
       "      <td>[ger]</td>\n",
       "      <td>None</td>\n",
       "      <td>120.0</td>\n",
       "      <td>None</td>\n",
       "      <td>NaN</td>\n",
       "    </tr>\n",
       "    <tr>\n",
       "      <th>4</th>\n",
       "      <td>Northanger Abbey</td>\n",
       "      <td>Jane Austen</td>\n",
       "      <td>1818.0</td>\n",
       "      <td>[por, ger, mul, spa, heb, chi, pol, und, ita, ...</td>\n",
       "      <td>[Mate selection, Cousins, Fiction, Young women...</td>\n",
       "      <td>254.0</td>\n",
       "      <td>[B000H8TULK, B0012BZNYE, B000HMBM7Q, B0017HFQN...</td>\n",
       "      <td>3.785714</td>\n",
       "    </tr>\n",
       "    <tr>\n",
       "      <th>...</th>\n",
       "      <td>...</td>\n",
       "      <td>...</td>\n",
       "      <td>...</td>\n",
       "      <td>...</td>\n",
       "      <td>...</td>\n",
       "      <td>...</td>\n",
       "      <td>...</td>\n",
       "      <td>...</td>\n",
       "    </tr>\n",
       "    <tr>\n",
       "      <th>95</th>\n",
       "      <td>Full Dark, No Stars</td>\n",
       "      <td>Stephen King</td>\n",
       "      <td>2010.0</td>\n",
       "      <td>[dut, chi, spa, fre, rus, pol, ger, eng]</td>\n",
       "      <td>[Chevrolet Suburbans, 1955 doubled die cents, ...</td>\n",
       "      <td>427.0</td>\n",
       "      <td>[1444712551, 2226239936, 1501197940, 189295053...</td>\n",
       "      <td>4.071429</td>\n",
       "    </tr>\n",
       "    <tr>\n",
       "      <th>96</th>\n",
       "      <td>If There Be Thorns</td>\n",
       "      <td>V. C. Andrews</td>\n",
       "      <td>1981.0</td>\n",
       "      <td>[und, dut, pol, ger, fre, rus, spa, eng]</td>\n",
       "      <td>[series:dollanganger, Novel, half-brothers, ba...</td>\n",
       "      <td>374.0</td>\n",
       "      <td>[1476799466, 0671415085, 0671606859, , B01F9FR...</td>\n",
       "      <td>3.500000</td>\n",
       "    </tr>\n",
       "    <tr>\n",
       "      <th>97</th>\n",
       "      <td>The Haunted Hotel</td>\n",
       "      <td>Wilkie Collins</td>\n",
       "      <td>1878.0</td>\n",
       "      <td>[eng, fre, spa]</td>\n",
       "      <td>[Fiction, English fiction, Hotels, Horror fict...</td>\n",
       "      <td>216.0</td>\n",
       "      <td>[069271345X, 1985276585, 1983593230, 849682919...</td>\n",
       "      <td>3.000000</td>\n",
       "    </tr>\n",
       "    <tr>\n",
       "      <th>98</th>\n",
       "      <td>The Drawing of the Three</td>\n",
       "      <td>Stephen King</td>\n",
       "      <td>1987.0</td>\n",
       "      <td>[ger, spa, chi, rus, eng, fre]</td>\n",
       "      <td>[sociopaths, dissociative identity disorder, c...</td>\n",
       "      <td>455.0</td>\n",
       "      <td>[B0026L4HTG, 2738206751, 0451210859, , 1471232...</td>\n",
       "      <td>4.166666</td>\n",
       "    </tr>\n",
       "    <tr>\n",
       "      <th>99</th>\n",
       "      <td>Cycle of the Werewolf</td>\n",
       "      <td>Stephen King</td>\n",
       "      <td>1983.0</td>\n",
       "      <td>[eng, fre, ita, ger, spa]</td>\n",
       "      <td>[Maine in fiction, Werewolves, Fiction, Ficció...</td>\n",
       "      <td>150.0</td>\n",
       "      <td>[0451821114, 1501177222, 0451822196]</td>\n",
       "      <td>3.500000</td>\n",
       "    </tr>\n",
       "  </tbody>\n",
       "</table>\n",
       "<p>100 rows × 8 columns</p>\n",
       "</div>"
      ],
      "text/plain": [
       "                                    title                  author_name  \\\n",
       "0   Frankenstein or The Modern Prometheus  Mary Wollstonecraft Shelley   \n",
       "1                       A Christmas Carol              Charles Dickens   \n",
       "2              The Picture of Dorian Gray                  Oscar Wilde   \n",
       "3                           Kalender 2021                Paula Paulsen   \n",
       "4                        Northanger Abbey                  Jane Austen   \n",
       "..                                    ...                          ...   \n",
       "95                    Full Dark, No Stars                 Stephen King   \n",
       "96                     If There Be Thorns                V. C. Andrews   \n",
       "97                      The Haunted Hotel               Wilkie Collins   \n",
       "98               The Drawing of the Three                 Stephen King   \n",
       "99                  Cycle of the Werewolf                 Stephen King   \n",
       "\n",
       "    publish_year                                           language  \\\n",
       "0         1818.0      [fre, ita, por, ger, chi, rus, spa, eng, dut]   \n",
       "1         1843.0  [chi, spa, rus, eng, kor, fre, und, ita, fin, ...   \n",
       "2         1890.0  [dut, chi, heb, arm, ukr, spa, fre, rus, cze, ...   \n",
       "3         2020.0                                              [ger]   \n",
       "4         1818.0  [por, ger, mul, spa, heb, chi, pol, und, ita, ...   \n",
       "..           ...                                                ...   \n",
       "95        2010.0           [dut, chi, spa, fre, rus, pol, ger, eng]   \n",
       "96        1981.0           [und, dut, pol, ger, fre, rus, spa, eng]   \n",
       "97        1878.0                                    [eng, fre, spa]   \n",
       "98        1987.0                     [ger, spa, chi, rus, eng, fre]   \n",
       "99        1983.0                          [eng, fre, ita, ger, spa]   \n",
       "\n",
       "                                              subject  num_pages  \\\n",
       "0   [Frankenstein (Fictitious character), Frankens...      240.0   \n",
       "1   [Ghost stories, Readers, Ebenzer Scrooge (Fict...      114.0   \n",
       "2   [British and irish fiction (fictional works by...      253.0   \n",
       "3                                                None      120.0   \n",
       "4   [Mate selection, Cousins, Fiction, Young women...      254.0   \n",
       "..                                                ...        ...   \n",
       "95  [Chevrolet Suburbans, 1955 doubled die cents, ...      427.0   \n",
       "96  [series:dollanganger, Novel, half-brothers, ba...      374.0   \n",
       "97  [Fiction, English fiction, Hotels, Horror fict...      216.0   \n",
       "98  [sociopaths, dissociative identity disorder, c...      455.0   \n",
       "99  [Maine in fiction, Werewolves, Fiction, Ficció...      150.0   \n",
       "\n",
       "                                            id_amazon   ratings  \n",
       "0   [B08M25T3PW, B093XMVLXF, B000LQ3XU2, 198604261...  3.900585  \n",
       "1   [B002D6DY1G, B000QNQ8J8, , B01N40IX3W, B0022WF...  3.883117  \n",
       "2   [B000OKWFA4, B008MWZR1A, B00ABMJJSQ, B00XF4RG4...  4.041666  \n",
       "3                                                None       NaN  \n",
       "4   [B000H8TULK, B0012BZNYE, B000HMBM7Q, B0017HFQN...  3.785714  \n",
       "..                                                ...       ...  \n",
       "95  [1444712551, 2226239936, 1501197940, 189295053...  4.071429  \n",
       "96  [1476799466, 0671415085, 0671606859, , B01F9FR...  3.500000  \n",
       "97  [069271345X, 1985276585, 1983593230, 849682919...  3.000000  \n",
       "98  [B0026L4HTG, 2738206751, 0451210859, , 1471232...  4.166666  \n",
       "99               [0451821114, 1501177222, 0451822196]  3.500000  \n",
       "\n",
       "[100 rows x 8 columns]"
      ]
     },
     "execution_count": 7,
     "metadata": {},
     "output_type": "execute_result"
    }
   ],
   "source": [
    "# Convertimos el Dataframe a Pandas para facilitar la inserción en elasticsearch\n",
    "campos_pandas = campos_seleccionados.toPandas()\n",
    "campos_pandas[:100]"
   ]
  },
  {
   "cell_type": "code",
   "execution_count": 8,
   "id": "cfb4a167-f6c0-4322-8921-19161ec6d383",
   "metadata": {},
   "outputs": [
    {
     "name": "stdout",
     "output_type": "stream",
     "text": [
      "    title author_name  publish_year language subject  num_pages id_amazon  \\\n",
      "27   None        None           NaN     None    None        NaN      None   \n",
      "511  None        None           NaN     None    None        NaN      None   \n",
      "\n",
      "     ratings  \n",
      "27       NaN  \n",
      "511      NaN  \n"
     ]
    }
   ],
   "source": [
    "# Buscamos las filas que son nulas completas\n",
    "filas_con_nulos = campos_pandas[campos_pandas.isnull().all(axis=1)]\n",
    "print(filas_con_nulos)"
   ]
  },
  {
   "cell_type": "code",
   "execution_count": 9,
   "id": "61bec83e-3882-4571-aa88-42a15d8dfc9c",
   "metadata": {},
   "outputs": [
    {
     "data": {
      "text/plain": [
       "[27, 511]"
      ]
     },
     "execution_count": 9,
     "metadata": {},
     "output_type": "execute_result"
    }
   ],
   "source": [
    "indices_eliminar = filas_con_nulos.index.tolist()\n",
    "indices_eliminar"
   ]
  },
  {
   "cell_type": "code",
   "execution_count": 10,
   "id": "ee2949b0-0147-4165-9677-764315c8ad0c",
   "metadata": {},
   "outputs": [],
   "source": [
    "campos_pandas.drop(indices_eliminar, inplace=True)"
   ]
  },
  {
   "cell_type": "code",
   "execution_count": 11,
   "id": "2ec6efd5-5f3d-4c57-b5b8-5473005e7e74",
   "metadata": {},
   "outputs": [
    {
     "data": {
      "text/html": [
       "<div>\n",
       "<style scoped>\n",
       "    .dataframe tbody tr th:only-of-type {\n",
       "        vertical-align: middle;\n",
       "    }\n",
       "\n",
       "    .dataframe tbody tr th {\n",
       "        vertical-align: top;\n",
       "    }\n",
       "\n",
       "    .dataframe thead th {\n",
       "        text-align: right;\n",
       "    }\n",
       "</style>\n",
       "<table border=\"1\" class=\"dataframe\">\n",
       "  <thead>\n",
       "    <tr style=\"text-align: right;\">\n",
       "      <th></th>\n",
       "      <th>title</th>\n",
       "      <th>author_name</th>\n",
       "      <th>publish_year</th>\n",
       "      <th>language</th>\n",
       "      <th>subject</th>\n",
       "      <th>num_pages</th>\n",
       "      <th>id_amazon</th>\n",
       "      <th>ratings</th>\n",
       "    </tr>\n",
       "  </thead>\n",
       "  <tbody>\n",
       "    <tr>\n",
       "      <th>0</th>\n",
       "      <td>Frankenstein or The Modern Prometheus</td>\n",
       "      <td>Mary Wollstonecraft Shelley</td>\n",
       "      <td>1818.0</td>\n",
       "      <td>[fre, ita, por, ger, chi, rus, spa, eng, dut]</td>\n",
       "      <td>[Frankenstein (Fictitious character), Frankens...</td>\n",
       "      <td>240.0</td>\n",
       "      <td>[B08M25T3PW, B093XMVLXF, B000LQ3XU2, 198604261...</td>\n",
       "      <td>3.900585</td>\n",
       "    </tr>\n",
       "    <tr>\n",
       "      <th>1</th>\n",
       "      <td>A Christmas Carol</td>\n",
       "      <td>Charles Dickens</td>\n",
       "      <td>1843.0</td>\n",
       "      <td>[chi, spa, rus, eng, kor, fre, und, ita, fin, ...</td>\n",
       "      <td>[Ghost stories, Readers, Ebenzer Scrooge (Fict...</td>\n",
       "      <td>114.0</td>\n",
       "      <td>[B002D6DY1G, B000QNQ8J8, , B01N40IX3W, B0022WF...</td>\n",
       "      <td>3.883117</td>\n",
       "    </tr>\n",
       "    <tr>\n",
       "      <th>2</th>\n",
       "      <td>The Picture of Dorian Gray</td>\n",
       "      <td>Oscar Wilde</td>\n",
       "      <td>1890.0</td>\n",
       "      <td>[dut, chi, heb, arm, ukr, spa, fre, rus, cze, ...</td>\n",
       "      <td>[British and irish fiction (fictional works by...</td>\n",
       "      <td>253.0</td>\n",
       "      <td>[B000OKWFA4, B008MWZR1A, B00ABMJJSQ, B00XF4RG4...</td>\n",
       "      <td>4.041666</td>\n",
       "    </tr>\n",
       "    <tr>\n",
       "      <th>3</th>\n",
       "      <td>Kalender 2021</td>\n",
       "      <td>Paula Paulsen</td>\n",
       "      <td>2020.0</td>\n",
       "      <td>[ger]</td>\n",
       "      <td>None</td>\n",
       "      <td>120.0</td>\n",
       "      <td>None</td>\n",
       "      <td>NaN</td>\n",
       "    </tr>\n",
       "    <tr>\n",
       "      <th>4</th>\n",
       "      <td>Northanger Abbey</td>\n",
       "      <td>Jane Austen</td>\n",
       "      <td>1818.0</td>\n",
       "      <td>[por, ger, mul, spa, heb, chi, pol, und, ita, ...</td>\n",
       "      <td>[Mate selection, Cousins, Fiction, Young women...</td>\n",
       "      <td>254.0</td>\n",
       "      <td>[B000H8TULK, B0012BZNYE, B000HMBM7Q, B0017HFQN...</td>\n",
       "      <td>3.785714</td>\n",
       "    </tr>\n",
       "    <tr>\n",
       "      <th>...</th>\n",
       "      <td>...</td>\n",
       "      <td>...</td>\n",
       "      <td>...</td>\n",
       "      <td>...</td>\n",
       "      <td>...</td>\n",
       "      <td>...</td>\n",
       "      <td>...</td>\n",
       "      <td>...</td>\n",
       "    </tr>\n",
       "    <tr>\n",
       "      <th>2394</th>\n",
       "      <td>Awful Horror Stories</td>\n",
       "      <td>None</td>\n",
       "      <td>NaN</td>\n",
       "      <td>None</td>\n",
       "      <td>None</td>\n",
       "      <td>NaN</td>\n",
       "      <td>[B000GJ5WEY]</td>\n",
       "      <td>NaN</td>\n",
       "    </tr>\n",
       "    <tr>\n",
       "      <th>2395</th>\n",
       "      <td>Besessen. Roman. ( Horror).</td>\n",
       "      <td>None</td>\n",
       "      <td>NaN</td>\n",
       "      <td>None</td>\n",
       "      <td>None</td>\n",
       "      <td>NaN</td>\n",
       "      <td>None</td>\n",
       "      <td>NaN</td>\n",
       "    </tr>\n",
       "    <tr>\n",
       "      <th>2396</th>\n",
       "      <td>Gaslit Horror</td>\n",
       "      <td>Hugh Lamb</td>\n",
       "      <td>NaN</td>\n",
       "      <td>None</td>\n",
       "      <td>None</td>\n",
       "      <td>NaN</td>\n",
       "      <td>None</td>\n",
       "      <td>NaN</td>\n",
       "    </tr>\n",
       "    <tr>\n",
       "      <th>2397</th>\n",
       "      <td>HORROR-7.</td>\n",
       "      <td>None</td>\n",
       "      <td>NaN</td>\n",
       "      <td>None</td>\n",
       "      <td>None</td>\n",
       "      <td>NaN</td>\n",
       "      <td>[B0010TAAGE]</td>\n",
       "      <td>NaN</td>\n",
       "    </tr>\n",
       "    <tr>\n",
       "      <th>2398</th>\n",
       "      <td>Northern Horror</td>\n",
       "      <td>None</td>\n",
       "      <td>NaN</td>\n",
       "      <td>None</td>\n",
       "      <td>None</td>\n",
       "      <td>NaN</td>\n",
       "      <td>None</td>\n",
       "      <td>NaN</td>\n",
       "    </tr>\n",
       "  </tbody>\n",
       "</table>\n",
       "<p>2397 rows × 8 columns</p>\n",
       "</div>"
      ],
      "text/plain": [
       "                                      title                  author_name  \\\n",
       "0     Frankenstein or The Modern Prometheus  Mary Wollstonecraft Shelley   \n",
       "1                         A Christmas Carol              Charles Dickens   \n",
       "2                The Picture of Dorian Gray                  Oscar Wilde   \n",
       "3                             Kalender 2021                Paula Paulsen   \n",
       "4                          Northanger Abbey                  Jane Austen   \n",
       "...                                     ...                          ...   \n",
       "2394                   Awful Horror Stories                         None   \n",
       "2395            Besessen. Roman. ( Horror).                         None   \n",
       "2396                          Gaslit Horror                    Hugh Lamb   \n",
       "2397                              HORROR-7.                         None   \n",
       "2398                        Northern Horror                         None   \n",
       "\n",
       "      publish_year                                           language  \\\n",
       "0           1818.0      [fre, ita, por, ger, chi, rus, spa, eng, dut]   \n",
       "1           1843.0  [chi, spa, rus, eng, kor, fre, und, ita, fin, ...   \n",
       "2           1890.0  [dut, chi, heb, arm, ukr, spa, fre, rus, cze, ...   \n",
       "3           2020.0                                              [ger]   \n",
       "4           1818.0  [por, ger, mul, spa, heb, chi, pol, und, ita, ...   \n",
       "...            ...                                                ...   \n",
       "2394           NaN                                               None   \n",
       "2395           NaN                                               None   \n",
       "2396           NaN                                               None   \n",
       "2397           NaN                                               None   \n",
       "2398           NaN                                               None   \n",
       "\n",
       "                                                subject  num_pages  \\\n",
       "0     [Frankenstein (Fictitious character), Frankens...      240.0   \n",
       "1     [Ghost stories, Readers, Ebenzer Scrooge (Fict...      114.0   \n",
       "2     [British and irish fiction (fictional works by...      253.0   \n",
       "3                                                  None      120.0   \n",
       "4     [Mate selection, Cousins, Fiction, Young women...      254.0   \n",
       "...                                                 ...        ...   \n",
       "2394                                               None        NaN   \n",
       "2395                                               None        NaN   \n",
       "2396                                               None        NaN   \n",
       "2397                                               None        NaN   \n",
       "2398                                               None        NaN   \n",
       "\n",
       "                                              id_amazon   ratings  \n",
       "0     [B08M25T3PW, B093XMVLXF, B000LQ3XU2, 198604261...  3.900585  \n",
       "1     [B002D6DY1G, B000QNQ8J8, , B01N40IX3W, B0022WF...  3.883117  \n",
       "2     [B000OKWFA4, B008MWZR1A, B00ABMJJSQ, B00XF4RG4...  4.041666  \n",
       "3                                                  None       NaN  \n",
       "4     [B000H8TULK, B0012BZNYE, B000HMBM7Q, B0017HFQN...  3.785714  \n",
       "...                                                 ...       ...  \n",
       "2394                                       [B000GJ5WEY]       NaN  \n",
       "2395                                               None       NaN  \n",
       "2396                                               None       NaN  \n",
       "2397                                       [B0010TAAGE]       NaN  \n",
       "2398                                               None       NaN  \n",
       "\n",
       "[2397 rows x 8 columns]"
      ]
     },
     "execution_count": 11,
     "metadata": {},
     "output_type": "execute_result"
    }
   ],
   "source": [
    "campos_pandas"
   ]
  },
  {
   "cell_type": "code",
   "execution_count": 12,
   "id": "e872030f-c927-409d-bd3a-8fb116bfad60",
   "metadata": {},
   "outputs": [],
   "source": [
    "spark.stop()"
   ]
  },
  {
   "cell_type": "markdown",
   "id": "9b77dfc3-6773-4f71-b123-d4a7ada9a426",
   "metadata": {},
   "source": [
    "#### Elasticsearch"
   ]
  },
  {
   "cell_type": "code",
   "execution_count": 13,
   "id": "0a96b0b0-580f-4f2c-a465-b685f7ebaf73",
   "metadata": {},
   "outputs": [],
   "source": [
    "client = Elasticsearch(\"http://elasticsearch:9200\")"
   ]
  },
  {
   "cell_type": "code",
   "execution_count": 16,
   "id": "be05ba0a-9ae1-466a-a36b-bed850c46077",
   "metadata": {},
   "outputs": [],
   "source": [
    "# Iterar sobre cada fila del Pandas DataFrame\n",
    "for index, row in campos_pandas.iterrows():\n",
    "    # Convertir la fila a un objeto JSON\n",
    "    json_obj = row.to_json()\n",
    "    \n",
    "    # Insertar el objeto JSON en Elasticsearch\n",
    "    client.index(index='my_index', body=json_obj)"
   ]
  },
  {
   "cell_type": "code",
   "execution_count": 17,
   "id": "83190427-cc1c-44cc-a9d7-4a77b7ced829",
   "metadata": {},
   "outputs": [
    {
     "name": "stdout",
     "output_type": "stream",
     "text": [
      "{'title': 'Frankenstein or The Modern Prometheus', 'author_name': 'Mary Wollstonecraft Shelley', 'publish_year': 1818.0, 'language': ['fre', 'ita', 'por', 'ger', 'chi', 'rus', 'spa', 'eng', 'dut'], 'subject': ['Frankenstein (Fictitious character)', \"Frankenstein's monster (Fictitious character)\", 'Fiction', 'Victor Frankenstein (Fictitious character)', 'Scientists', 'Monsters', 'Fiction, horror', 'Frankenstein (fictitious character), fiction', 'Physicians, fiction', 'British fiction (fictional works by one author)', 'Scientists, fiction', 'Geneva (Switzerland), fiction', \"Children's fiction\", 'Horror stories', 'Fiction, science fiction, general', 'Fiction, general', 'Horror tales', 'Frankenstein (Shelley, Mary Wollstonecraft)', 'Large type books', 'English fiction', 'Study guides', 'Examinations', 'Criticism and interpretation', 'Fiction, gothic', 'English language, textbooks for foreign speakers', 'Reading comprehension', 'Monsters, fiction', 'English literature', 'Comics & graphic novels, science fiction', 'Comics & graphic novels, horror', 'Comic books, strips, etc.', 'Comics & graphic novels, literary', 'Shelley, Mary Wollstonecraft, 1797-1851', 'English fiction (collections), 19th century', 'Literature and fiction, horror and ghost stories', 'Readers', 'Science fiction, history and criticism', 'Horror tales, history and criticism', \"Children's stories\", 'Monstrous', 'Novela', 'History and criticism', 'Horror fiction', 'British and irish fiction (fictional works by one author)', 'Fiction, historical, general', 'literary criticism', 'English Science fiction', 'English Horror tales', 'Scientists in literature', 'Monsters in literature', 'Science, experiments, fiction', 'Authors', 'Travel', 'Reincarnation', 'Self-actualization (Psychology)', 'Vida espiritual', 'Arte de vivir', 'Conducta (Ética)', 'Self-realization', 'Reading materials', 'Fiction, science fiction, hard science fiction', 'Switzerland, fiction', 'Literature and fiction, women authors', 'Literature, history and criticism', 'Science fiction', 'Cartoons and comics', 'Monstres', 'Romans, nouvelles', 'Comic books, strips', 'Classic science fiction', 'Horror and supernatural fiction', 'Classic fiction', 'Science in literature', 'Illustration', 'Gothic fiction', 'English language, juvenile literature', 'Shelley, Mary Wollstonecraft, 1797-1851. Frankenstein', 'Frankenstein, Victor (Fictitious character) -- Fiction', \"Frankenstein's monster (Fictitious character) -- Fiction\", 'Scientists -- Fiction', 'Monsters -- Fiction', 'Frankenstein’s monster (Fictitious character)', 'Frankenstein’s monster', 'Monsters--fiction', 'Frankenstein, victor (fictitious character)', 'Frankenstein, victor (fictitious character)--fiction', 'Pr5397 .f7 1992', '823.7 f', 'Frankenstein, victor', \"Frankenstein's monster\", 'Scientists--fiction', 'Frankenstein, victor (fictional character)', 'Frankenstein, victor (fictional character)--fiction', 'Frankenstein (fictional character)', 'Frankenstein (fictional character)--fiction', 'Pr5397 .f7 2003c', '823/.7', 'Fic004000', 'Pr5397 .f7 1969', 'Pr5397 .f7 2008f', '823.7', 'Science & technology in literature', 'Literary styles & movements - fiction', 'Books at the movies', 'Occupations - fiction', 'English fiction & prose literature - general & miscellaneous - literary criticism', 'Horror literature - literary criticism', 'English', 'Scot', 'Pr5397 .f7 2007', 'Shelley, mary wollstonecraft , 1797-1851', 'Pr5397 .f7 2012', 'Classics', 'Horror', 'Gothic', 'English & college success -> english -> fiction', 'Mary shelley', 'Mary wollstonecraft shelley', 'Women authors', 'Rhetoric', 'Ya', 'Young adult', 'Juvenile', 'History', 'Historical', 'Classic', 'Literature', 'Books', 'Novels', 'Hardcovers', 'Paperback', 'Ebook', 'Audio-book', 'Stories', 'Tales', 'Madness', 'Mad', 'Science', 'Life conduct', 'Ethics', 'Translations into russian', 'Ficción', 'Frankenstein (personaje literario)', 'Monstruos', 'Epistolary fiction', 'Conducta (etica)', 'Dracula, count (fictitious character), fiction', 'Jekyll, doctor (fictitious character), fiction', 'Fiction, ghost', 'Frankenstein films', 'Juvenile fiction', 'African american women', 'Man-woman relationships', 'Pr5397 .f7 2012d', 'Pr5397 .f7 2008d', '823'], 'num_pages': 240.0, 'id_amazon': ['B08M25T3PW', 'B093XMVLXF', 'B000LQ3XU2', '1986042618', '1613823797', '1374902233', 'B09MJB132T', '9589127568', '194518616X', 'B01NA6I4H7', '1533415889', '1720834342', '1543290027', '1800601352', '1984131400', '', '1613826621', '', '1787550923', '1101997974', 'B00VIMOEJW', '1539652408', '1632060787', '8809817672', '', '', '014130541X', 'B08CJXNBWT', '1096397412', '9509051314', '1772266841', 'B001M25W80', 'B001MBLRSK', '0462003078', '147831947X', '1603400494', '1911405632', '1474924972', '1509827757', '', '1627300155', '', '', '1772268267', '1421851547', '1613826648', '1942341555', '', '1403773734', '0718181123', '1945526262', '1099623987', '193943758X', '1613821670', '0995029121', 'B09HQY2D4J', '0679600590', '8322217218', '1613826656', '0141198966', '161382663X', '', '3806747598', 'B06ZXT4MRB', '0307350150', 'B08M25T3PW', 'B09MJB132T', '1912464063', '1641812117', 'B004GKJR72', '', '', 'B074XFNY18', '850401620X', '0766631737', '109951858X', ''], 'ratings': 3.9005847}\n",
      "{'title': 'A Christmas Carol', 'author_name': 'Charles Dickens', 'publish_year': 1843.0, 'language': ['chi', 'spa', 'rus', 'eng', 'kor', 'fre', 'und', 'ita', 'fin', 'dut', 'ukr', 'wel', 'gag', 'por', 'esp', 'pol', 'ger', 'jpn', 'gle'], 'subject': ['Ghost stories', 'Readers', 'Ebenzer Scrooge (Fictitious character)', 'open_syllabus_project', 'Cartoons and comics', 'Promptbooks', 'Christmas stories', 'French language books', 'Poor families', 'Navidad', 'Esperanto', 'Sick children', 'French language', 'Repentance', 'Criticism and interpretation', 'Facsimiles', 'Christmas', 'English Manuscripts', 'English Christmas stories', 'Fiction,', 'Poor', 'Empathy', 'Animals', 'Adaptations', 'Recluses', 'French language edition', 'Translations into Portuguese', 'Comic books, strips', 'Recitations', 'Generosity', 'Literary collections', 'Cuentos de fantasmas', 'London(England)', \"Children's stories\", 'Ficción', 'Manners and customs', 'Fiction', 'Misers', 'History', 'Ebenezer Scrooge (Fictitious character)', 'Social life and customs', 'Trials (Breach of promise)', 'England', 'Vida social y costumbres', 'Juvenile fiction', 'Fantasmas', 'Bible stories', 'Texts', 'Cuentos de Navidad', 'Scrooge, Ebenezer (Personaje literario)', 'Social conditions', 'Ghosts', 'Juvenile literature', 'Scrooge, Ebenezer (Fictitious character)', 'High interest-low vocabulary books', 'Pictorial works', 'Short stories', 'Christmas, fiction', \"Children's fiction\", 'Scrooge, ebenezer (fictitious character), fiction', 'England, fiction', 'Ghosts, fiction', 'British and irish fiction (fictional works by one author)', 'Drama (dramatic works by one author)', 'London (england), fiction', 'Coloring books', 'Child and youth fiction', 'Fiction, historical', 'Child and youth non-fiction', 'Carols', \"Children's songs\", 'Holidays, fiction', 'Fiction, ghost', 'English literature', 'Parody', 'General', 'Zombies', 'Literature and fiction, juvenile', 'Literature and fiction, historical fiction', 'Large type books', 'Fantasy fiction', 'Songs', 'Christmas, juvenile literature', 'Conduct of life', 'Toy and movable books', 'Specimens', 'English Ghost stories', 'Illustrations', 'Classics', 'Christmas carol (Dickens, Charles)', 'Fiction, historical, general', 'Great britain, fiction', 'Fiction, humorous, general', 'Fiction, general', 'Fiction, action & adventure', 'Fiction, suspense', 'Weihnachten', 'Nächstenliebe', 'Englisch', 'Gespenstergeschichte', 'Avarice', 'Novela juvenil', 'Fiction, christian, general', 'Greece, fiction', 'Literature and fiction, horror and ghost stories', 'Noël', 'Contes', 'Spanish language materials', 'Familles pauvres', 'Romans, nouvelles', 'Avares', 'Spanish language', 'Reading materials', 'Histoires de Noël', 'Fiction, religious', 'Christmas, poetry', 'Color, juvenile literature', 'English language', 'Study and teaching', 'Romans', 'Littérature', 'Enseignement des langues', 'Autoformation', 'Protected DAISY', 'In library', 'Comic books, strips, etc.', 'Fiction, fantasy, general', 'Family', 'Publishers and publishing', 'Christmas trees', 'Redemption', 'Habsucht', 'Egoismus', 'Bekehrung', 'Nineteenth century,', 'Romans, nouvelles, etc. pour la jeunesse', 'Mœurs et coutumes', 'Readers for new literates', 'Animals, fiction', 'British and irish drama (dramatic works by one author)', 'Art', 'Nowele angielskie', 'Tłumaczenia polskie', 'Boże Narodzenie', 'Nowele', 'Fiction, thrillers, suspense', 'Fiction, short stories (single author)', 'Literature, collections', 'Classic Literature', 'Drama', 'Fiction, holidays', 'Fiction, classics', 'Reading, remedial teaching', 'Elementary education of adults'], 'num_pages': 114.0, 'id_amazon': ['B002D6DY1G', 'B000QNQ8J8', '', 'B01N40IX3W', 'B0022WFB8U', 'B0027MW3HC', 'B004R5991K', 'B005B51P5S', 'B00RO4VEEG', 'B003KDPRI4', 'B09DB29ZPT', 'B00PRD9GW8', 'B008E6BUF6', 'B000J561MW', 'B091WGH8V7', '1843653516', '9576276837', '8895264401', '893784852X', '8493962015', '8492359927', '9575291301', '3257067917', '', 'B007HUZMRM', 'B091HP2DVK', 'B0160FFFNK', 'B008ARP6QS', 'B0028U3336', 'B0010XRLXU', 'B0022WFB8U', '', 'B000P1QPDA', 'B0000CHQCR', 'B00CXK8DRC', 'B000Z22K4W', '1984103687', '0141369582', '1640321136', '0615915345', '1600250815', '1946848344', '1499196415', '1515437388', '1717486797', '145512379X', '1421851040', '1530906512', '1461102332', '', '1421850060', '1495490106', '0615928676', '1938357302', '0198822391', '0008325960', '1624061753', '3458194266', '1613825986', '1612618391', '0692573038', '1420952285', '149919417X', '0983150303', '1681130009', '1985743892', '0986400645', '0930012518', '098315032X', '0008313776', '0692585079', '1613825919', '1609440935', '3791528084', '3800055805', '', '1938938399', '', '9137035738', '', '', ''], 'ratings': 3.883117}\n",
      "{'title': 'The Picture of Dorian Gray', 'author_name': 'Oscar Wilde', 'publish_year': 1890.0, 'language': ['dut', 'chi', 'heb', 'arm', 'ukr', 'spa', 'fre', 'rus', 'cze', 'ger', 'yid', 'eng', 'cos', 'jpn', 'und', 'ita', 'rum', 'por'], 'subject': ['British and irish fiction (fictional works by one author)', 'Conduct of life, fiction', 'Fantasy fiction', \"Children's fiction\", 'Appearance (Philosophy)', 'Fiction', 'Conduct of life', 'Youthfulness', 'Portraits', 'Apparence (Philosophie)', 'Romans, nouvelles', 'Morale pratique', 'Juvénilité', 'General', 'Horror', 'Education', 'English literature', 'England, fiction', 'Fiction, general', 'Comics & graphic novels, fantasy', 'Future life', 'Soul', 'Paranormal fiction', 'Fiction, psychological', 'Didactic fiction', 'Drama (dramatic works by one author)', 'Fiction, historical', 'Fiction, fantasy, paranormal', 'Great britain, fiction', 'LGBTQ novels', 'Stonewall Book Awards', 'LGBTQ novels before Stonewall', 'Fiction, historical, general', 'Classics', 'European', 'English, Irish, Scottish, Welsh', 'Drama, history and criticism', 'Hedonism', 'Classic fiction', 'Men', 'Man-woman relationships', 'Influence (Psychology)', 'Novela didáctica', 'Novela psicología', 'Fiction, horror', 'Painting, fiction', 'Large type books', 'Readers', 'Picture of Dorian Gray (Wilde, Oscar)', 'English literature, history and criticism, 19th century', 'Immortality', 'Aging', 'Gothic fiction', 'Irish Occult fiction', 'English fiction', 'Fiction, thrillers, suspense', 'Issues of Presses', 'Le livre.', 'Supernatural', 'History', 'Appearance (philosophy)--fiction', 'Conduct of life--fiction', 'Portraits--fiction', 'Pr5819 .a1 1998b', '823/.8', 'British and irish drama (dramatic works by one author)'], 'num_pages': 253.0, 'id_amazon': ['B000OKWFA4', 'B008MWZR1A', 'B00ABMJJSQ', 'B00XF4RG4G', 'B000BB7FVK', 'B000IBM5YA', 'B01N1SGE4G', 'B000NRBVNA', 'B08Y4FHRM8', 'B000GKTQOU', 'B019AVKTPU', '3458362193', '3423142073', '1984231820', '1983619264', '1607107325', '1983566063', '198353692X', '1945186178', '1936041227', '1934169552', '1717347398', '161382551X', '1613828802', '1613825501', '1612039243', '', '1557424470', '0140623221', '1530214998', '1515430626', 'B01DE646E2', '149961795X', '149910961X', '1497558956', '1478375531', '0984679812', '0692518207', '0007351054', '', '1449560229', 'B01I24RAEY', '', '1435159586', 'B000E4JO4U'], 'ratings': 4.0416665}\n",
      "{'title': 'Kalender 2021', 'author_name': 'Paula Paulsen', 'publish_year': 2020.0, 'language': ['ger'], 'subject': None, 'num_pages': 120.0, 'id_amazon': None, 'ratings': None}\n",
      "{'title': 'Northanger Abbey', 'author_name': 'Jane Austen', 'publish_year': 1818.0, 'language': ['por', 'ger', 'mul', 'spa', 'heb', 'chi', 'pol', 'und', 'ita', 'rus', 'eng', 'fre', 'jpn', 'cat'], 'subject': ['Mate selection', 'Cousins', 'Fiction', 'Young women', 'Horror tales', 'Families', 'Uncles', 'Appreciation', 'Children of the rich', 'English Love stories', 'Sisters', 'Courtship', 'Books and reading', 'Open Library Staff Picks', 'Country homes', 'Rejection (Psychology)', 'Fathers and daughters', 'Female friendship', 'Manners and customs', 'Social classes', 'Ship captains', 'Social life and customs', 'Adoptees', 'Motherless families', 'Love stories, English', 'Emma Woodhouse (Fictitious character)', 'Young women -- Fiction', 'English Romance fiction', 'Romantaic suspense novels', 'Gothic novels', 'Romance fiction', 'Satire', 'Northanger Abbey', 'British and irish fiction (fictional works by one author)', 'England, fiction', 'Young women, fiction', 'English literature', 'Correspondence', 'English Novelists', 'Marriage', 'Gentry', 'Large type books', 'Literature: Classics', 'Fiction, gothic', 'Fiction, satire', 'Fiction, general', 'Fiction, historical, general', 'Fiction, romance, general', 'Powieść angielska', 'Tłumaczenia polskie', 'Economic aspects', 'Northanger Abbey (Austen, Jane)', 'Persuasion (Austen, Jane)', 'Fiction, horror', 'Romans, nouvelles', 'Mœurs et coutumes', 'Nineteenth century,', 'Nineteenth century', 'Romance', 'Suspense', 'Readers', \"Children's fiction\", 'Austen, jane , 1775-1817', 'Morland, catherine', 'Horror tales--appreciation', 'Horror tales--appreciation--fiction', 'Books and reading--fiction', 'Young women--fiction', 'Young women--england--fiction', 'Pr4034 .n7 2004', '823/.7', 'Literature, history and criticism'], 'num_pages': 254.0, 'id_amazon': ['B000H8TULK', 'B0012BZNYE', 'B000HMBM7Q', 'B0017HFQNG', 'B002SQ1XFK', 'B0000CMUPU', 'B0000CKRT2', '', 'B0012BZNYE', 'B0012BZNYE', 'B00KRN0R2G', 'B005E7P68U', 'B000NQA1XW', 'B0007EFBQC', 'B000GWJGMU', 'B001LGLFO2', 'B0007JPUDQ', 'B000WET5RI', 'B001H8CCV4', 'B00GYENS9G', 'B08YQMBW11', 'B001DBNVGK', '3458362436', '2070770834', '', '1974921522', '1684112419', '3442742994', '0674725670', '1926712617', '1985750511', '3423145307', '190752309X', '1494737337', '1530914396', '149914976X', '1974921565', '3423140135', '162686974X', '152870567X', 'B000S4WSC6', ''], 'ratings': 3.7857144}\n"
     ]
    }
   ],
   "source": [
    "# Realizar una consulta para recuperar algunos documentos\n",
    "res = client.search(index='my_index', size=5)  \n",
    "\n",
    "# Mostrar los resultados\n",
    "for hit in res['hits']['hits']:\n",
    "    print(hit['_source'])"
   ]
  },
  {
   "cell_type": "code",
   "execution_count": 18,
   "id": "16d88055-340f-4d96-a2a7-63c37a53287e",
   "metadata": {},
   "outputs": [
    {
     "name": "stdout",
     "output_type": "stream",
     "text": [
      "El número de documentos en el índice  es: 2397\n"
     ]
    }
   ],
   "source": [
    "# Obtener información del índice\n",
    "index_info = client.cat.indices(index=\"my_index\", format='json')\n",
    "\n",
    "# Comprobamos el número de documentos\n",
    "for info in index_info:\n",
    "    if info['index'] == \"my_index\":\n",
    "        doc_count = info['docs.count']\n",
    "        print(f\"El número de documentos en el índice  es: {doc_count}\")"
   ]
  },
  {
   "cell_type": "code",
   "execution_count": 15,
   "id": "078d71cb-a06e-487c-a228-30a496657136",
   "metadata": {},
   "outputs": [
    {
     "name": "stdout",
     "output_type": "stream",
     "text": [
      "El índice my_index ha sido eliminado.\n"
     ]
    }
   ],
   "source": [
    "# Verificar si el índice existe antes de intentar eliminarlo\n",
    "if client.indices.exists(index='my_index'):\n",
    "    # Eliminar el índice\n",
    "    client.indices.delete(index='my_index')\n",
    "    print(f\"El índice my_index ha sido eliminado.\")\n",
    "else:\n",
    "    print(f\"El índice my_index no existe.\")"
   ]
  },
  {
   "cell_type": "code",
   "execution_count": null,
   "id": "840717f4-e370-4c04-ab1f-51a41304d45d",
   "metadata": {},
   "outputs": [],
   "source": []
  }
 ],
 "metadata": {
  "kernelspec": {
   "display_name": "Python 3 (ipykernel)",
   "language": "python",
   "name": "python3"
  },
  "language_info": {
   "codemirror_mode": {
    "name": "ipython",
    "version": 3
   },
   "file_extension": ".py",
   "mimetype": "text/x-python",
   "name": "python",
   "nbconvert_exporter": "python",
   "pygments_lexer": "ipython3",
   "version": "3.9.7"
  }
 },
 "nbformat": 4,
 "nbformat_minor": 5
}
