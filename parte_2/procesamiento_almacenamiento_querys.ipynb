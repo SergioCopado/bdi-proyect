{
 "cells": [
  {
   "cell_type": "code",
   "execution_count": 1,
   "id": "ae63eca1-a769-4510-a5a9-e7aa762d174d",
   "metadata": {},
   "outputs": [
    {
     "name": "stdout",
     "output_type": "stream",
     "text": [
      "Requirement already satisfied: elasticsearch in /usr/local/lib/python3.9/site-packages (8.13.1)\n",
      "Requirement already satisfied: elastic-transport<9,>=8.13 in /usr/local/lib/python3.9/site-packages (from elasticsearch) (8.13.0)\n",
      "Requirement already satisfied: certifi in /usr/local/lib/python3.9/site-packages (from elastic-transport<9,>=8.13->elasticsearch) (2024.2.2)\n",
      "Requirement already satisfied: urllib3<3,>=1.26.2 in /usr/local/lib/python3.9/site-packages (from elastic-transport<9,>=8.13->elasticsearch) (2.2.1)\n",
      "\u001b[33mWARNING: Running pip as the 'root' user can result in broken permissions and conflicting behaviour with the system package manager. It is recommended to use a virtual environment instead: https://pip.pypa.io/warnings/venv\u001b[0m\n",
      "\u001b[33mWARNING: You are using pip version 21.2.3; however, version 24.0 is available.\n",
      "You should consider upgrading via the '/usr/local/bin/python3.9 -m pip install --upgrade pip' command.\u001b[0m\n",
      "Note: you may need to restart the kernel to use updated packages.\n"
     ]
    }
   ],
   "source": [
    "pip install elasticsearch"
   ]
  },
  {
   "cell_type": "code",
   "execution_count": 2,
   "id": "23aa8056-d748-4f31-90c2-90a9e4c6183f",
   "metadata": {},
   "outputs": [
    {
     "name": "stdout",
     "output_type": "stream",
     "text": [
      "Requirement already satisfied: pandas in /usr/local/lib/python3.9/site-packages (2.2.2)\n",
      "Requirement already satisfied: python-dateutil>=2.8.2 in /usr/local/lib/python3.9/site-packages (from pandas) (2.9.0.post0)\n",
      "Requirement already satisfied: numpy>=1.22.4 in /usr/local/lib/python3.9/site-packages (from pandas) (1.26.4)\n",
      "Requirement already satisfied: pytz>=2020.1 in /usr/local/lib/python3.9/site-packages (from pandas) (2024.1)\n",
      "Requirement already satisfied: tzdata>=2022.7 in /usr/local/lib/python3.9/site-packages (from pandas) (2024.1)\n",
      "Requirement already satisfied: six>=1.5 in /usr/local/lib/python3.9/site-packages (from python-dateutil>=2.8.2->pandas) (1.16.0)\n",
      "\u001b[33mWARNING: Running pip as the 'root' user can result in broken permissions and conflicting behaviour with the system package manager. It is recommended to use a virtual environment instead: https://pip.pypa.io/warnings/venv\u001b[0m\n",
      "\u001b[33mWARNING: You are using pip version 21.2.3; however, version 24.0 is available.\n",
      "You should consider upgrading via the '/usr/local/bin/python3.9 -m pip install --upgrade pip' command.\u001b[0m\n",
      "Note: you may need to restart the kernel to use updated packages.\n"
     ]
    }
   ],
   "source": [
    "pip install pandas"
   ]
  },
  {
   "cell_type": "code",
   "execution_count": 3,
   "id": "5b1fb3f5-afe0-42cd-b99e-9b2cce8b6222",
   "metadata": {},
   "outputs": [],
   "source": [
    "import pyspark \n",
    "from pyspark.sql import SparkSession\n",
    "from pyspark.sql.functions import udf\n",
    "from pyspark.sql.types import ArrayType, StringType\n",
    "\n",
    "import os\n",
    "import json\n",
    "import pandas as pd\n",
    "from elasticsearch import Elasticsearch"
   ]
  },
  {
   "cell_type": "markdown",
   "id": "faa8c569-2eed-47eb-b5b2-f10e986199bd",
   "metadata": {},
   "source": [
    "### **Spark**"
   ]
  },
  {
   "cell_type": "markdown",
   "id": "4db42766-e80d-4040-9181-3eabfe35429e",
   "metadata": {},
   "source": [
    "#### Inicialización y lectura de archivos JSON con PySpark"
   ]
  },
  {
   "cell_type": "code",
   "execution_count": 4,
   "id": "8a8ba11c-265b-470e-a059-6dda9b9c6f9b",
   "metadata": {},
   "outputs": [
    {
     "name": "stderr",
     "output_type": "stream",
     "text": [
      "Setting default log level to \"WARN\".\n",
      "To adjust logging level use sc.setLogLevel(newLevel). For SparkR, use setLogLevel(newLevel).\n",
      "24/05/22 15:56:59 WARN NativeCodeLoader: Unable to load native-hadoop library for your platform... using builtin-java classes where applicable\n"
     ]
    }
   ],
   "source": [
    "spark = SparkSession.builder.master(\"local[*]\").appName(\"practica_ibd\").getOrCreate()"
   ]
  },
  {
   "cell_type": "code",
   "execution_count": 5,
   "id": "4c469490-9ded-42bc-a1ef-2d098350ff4c",
   "metadata": {},
   "outputs": [
    {
     "name": "stderr",
     "output_type": "stream",
     "text": [
      "                                                                                \r"
     ]
    }
   ],
   "source": [
    "archivos_json = spark.read.option(\"multiline\", \"true\").json(\"/opt/workspace\")"
   ]
  },
  {
   "cell_type": "markdown",
   "id": "db4eeda4-a3c5-4f10-b776-8e2b6c1bc535",
   "metadata": {},
   "source": [
    "#### Procesamiento y selección de campos"
   ]
  },
  {
   "cell_type": "code",
   "execution_count": 6,
   "id": "54600ad9-ddf7-4fef-b831-010a73bd565d",
   "metadata": {},
   "outputs": [
    {
     "name": "stderr",
     "output_type": "stream",
     "text": [
      "[Stage 1:====================================================>    (65 + 6) / 71]\r"
     ]
    },
    {
     "name": "stdout",
     "output_type": "stream",
     "text": [
      "Hay 2241 archivos en el Dataframe.\n"
     ]
    },
    {
     "name": "stderr",
     "output_type": "stream",
     "text": [
      "                                                                                \r"
     ]
    }
   ],
   "source": [
    "campos_seleccionados = archivos_json.select(\n",
    "    archivos_json['title'].alias('title'),\n",
    "    archivos_json['author_name'].getItem(0).alias('author_name'),\n",
    "    archivos_json['first_publish_year'].alias('publish_year'),\n",
    "    archivos_json['language'].alias('language'),\n",
    "    archivos_json['subject'].alias('subject'),\n",
    "    archivos_json['number_of_pages_median'].alias('num_pages'),\n",
    "    archivos_json['id_amazon'].alias('id_amazon'),\n",
    "    archivos_json['ratings_average'].alias('ratings')\n",
    ")\n",
    "\n",
    "print('Hay', campos_seleccionados.count(), 'archivos en el Dataframe.')"
   ]
  },
  {
   "cell_type": "markdown",
   "id": "a07a1fcc-fec9-4589-884a-c4b0fd400b85",
   "metadata": {},
   "source": [
    "#### Conversión a Pandas y limpieza de datos"
   ]
  },
  {
   "cell_type": "code",
   "execution_count": 7,
   "id": "eb5012a3-b0d6-4229-9b31-73dc04202d2d",
   "metadata": {},
   "outputs": [
    {
     "name": "stderr",
     "output_type": "stream",
     "text": [
      "                                                                                \r"
     ]
    },
    {
     "data": {
      "text/html": [
       "<div>\n",
       "<style scoped>\n",
       "    .dataframe tbody tr th:only-of-type {\n",
       "        vertical-align: middle;\n",
       "    }\n",
       "\n",
       "    .dataframe tbody tr th {\n",
       "        vertical-align: top;\n",
       "    }\n",
       "\n",
       "    .dataframe thead th {\n",
       "        text-align: right;\n",
       "    }\n",
       "</style>\n",
       "<table border=\"1\" class=\"dataframe\">\n",
       "  <thead>\n",
       "    <tr style=\"text-align: right;\">\n",
       "      <th></th>\n",
       "      <th>title</th>\n",
       "      <th>author_name</th>\n",
       "      <th>publish_year</th>\n",
       "      <th>language</th>\n",
       "      <th>subject</th>\n",
       "      <th>num_pages</th>\n",
       "      <th>id_amazon</th>\n",
       "      <th>ratings</th>\n",
       "    </tr>\n",
       "  </thead>\n",
       "  <tbody>\n",
       "    <tr>\n",
       "      <th>0</th>\n",
       "      <td>None</td>\n",
       "      <td>None</td>\n",
       "      <td>NaN</td>\n",
       "      <td>None</td>\n",
       "      <td>None</td>\n",
       "      <td>NaN</td>\n",
       "      <td>None</td>\n",
       "      <td>NaN</td>\n",
       "    </tr>\n",
       "    <tr>\n",
       "      <th>1</th>\n",
       "      <td>Frankenstein or The Modern Prometheus</td>\n",
       "      <td>Mary Wollstonecraft Shelley</td>\n",
       "      <td>1818.0</td>\n",
       "      <td>[fre, ita, por, ger, chi, rus, spa, eng, dut]</td>\n",
       "      <td>[Frankenstein (Fictitious character), Frankens...</td>\n",
       "      <td>240.0</td>\n",
       "      <td>[B08M25T3PW, B093XMVLXF, B000LQ3XU2, 198604261...</td>\n",
       "      <td>3.900585</td>\n",
       "    </tr>\n",
       "    <tr>\n",
       "      <th>2</th>\n",
       "      <td>A Christmas Carol</td>\n",
       "      <td>Charles Dickens</td>\n",
       "      <td>1843.0</td>\n",
       "      <td>[chi, spa, rus, eng, kor, fre, und, ita, fin, ...</td>\n",
       "      <td>[Ghost stories, Readers, Ebenzer Scrooge (Fict...</td>\n",
       "      <td>114.0</td>\n",
       "      <td>[B002D6DY1G, B000QNQ8J8, , B01N40IX3W, B0022WF...</td>\n",
       "      <td>3.883117</td>\n",
       "    </tr>\n",
       "    <tr>\n",
       "      <th>3</th>\n",
       "      <td>The Picture of Dorian Gray</td>\n",
       "      <td>Oscar Wilde</td>\n",
       "      <td>1890.0</td>\n",
       "      <td>[dut, chi, heb, arm, ukr, spa, fre, rus, cze, ...</td>\n",
       "      <td>[British and irish fiction (fictional works by...</td>\n",
       "      <td>253.0</td>\n",
       "      <td>[B000OKWFA4, B008MWZR1A, B00ABMJJSQ, B00XF4RG4...</td>\n",
       "      <td>4.041666</td>\n",
       "    </tr>\n",
       "    <tr>\n",
       "      <th>4</th>\n",
       "      <td>Kalender 2021</td>\n",
       "      <td>Paula Paulsen</td>\n",
       "      <td>2020.0</td>\n",
       "      <td>[ger]</td>\n",
       "      <td>None</td>\n",
       "      <td>120.0</td>\n",
       "      <td>None</td>\n",
       "      <td>NaN</td>\n",
       "    </tr>\n",
       "  </tbody>\n",
       "</table>\n",
       "</div>"
      ],
      "text/plain": [
       "                                   title                  author_name  \\\n",
       "0                                   None                         None   \n",
       "1  Frankenstein or The Modern Prometheus  Mary Wollstonecraft Shelley   \n",
       "2                      A Christmas Carol              Charles Dickens   \n",
       "3             The Picture of Dorian Gray                  Oscar Wilde   \n",
       "4                          Kalender 2021                Paula Paulsen   \n",
       "\n",
       "   publish_year                                           language  \\\n",
       "0           NaN                                               None   \n",
       "1        1818.0      [fre, ita, por, ger, chi, rus, spa, eng, dut]   \n",
       "2        1843.0  [chi, spa, rus, eng, kor, fre, und, ita, fin, ...   \n",
       "3        1890.0  [dut, chi, heb, arm, ukr, spa, fre, rus, cze, ...   \n",
       "4        2020.0                                              [ger]   \n",
       "\n",
       "                                             subject  num_pages  \\\n",
       "0                                               None        NaN   \n",
       "1  [Frankenstein (Fictitious character), Frankens...      240.0   \n",
       "2  [Ghost stories, Readers, Ebenzer Scrooge (Fict...      114.0   \n",
       "3  [British and irish fiction (fictional works by...      253.0   \n",
       "4                                               None      120.0   \n",
       "\n",
       "                                           id_amazon   ratings  \n",
       "0                                               None       NaN  \n",
       "1  [B08M25T3PW, B093XMVLXF, B000LQ3XU2, 198604261...  3.900585  \n",
       "2  [B002D6DY1G, B000QNQ8J8, , B01N40IX3W, B0022WF...  3.883117  \n",
       "3  [B000OKWFA4, B008MWZR1A, B00ABMJJSQ, B00XF4RG4...  4.041666  \n",
       "4                                               None       NaN  "
      ]
     },
     "execution_count": 7,
     "metadata": {},
     "output_type": "execute_result"
    }
   ],
   "source": [
    "campos_pandas = campos_seleccionados.toPandas()\n",
    "campos_pandas.head()"
   ]
  },
  {
   "cell_type": "code",
   "execution_count": 8,
   "id": "cfb4a167-f6c0-4322-8921-19161ec6d383",
   "metadata": {},
   "outputs": [],
   "source": [
    "filas_con_nulos = campos_pandas[campos_pandas.isnull().all(axis=1)]\n",
    "indices_eliminar = filas_con_nulos.index.tolist()\n",
    "\n",
    "campos_pandas.drop(indices_eliminar, inplace=True)"
   ]
  },
  {
   "cell_type": "markdown",
   "id": "0ec56896-b408-40b8-a88b-4db938d214e6",
   "metadata": {},
   "source": [
    "#### Guardado del Dataframe en el volumen"
   ]
  },
  {
   "cell_type": "code",
   "execution_count": 9,
   "id": "ab1f7253-5f9c-467e-ba4b-d2fc8a629360",
   "metadata": {},
   "outputs": [],
   "source": [
    "ruta_archivo_csv = '/opt/workspace/campos_pandas.csv'\n",
    "campos_pandas.to_csv(ruta_archivo_csv, index=False)"
   ]
  },
  {
   "cell_type": "code",
   "execution_count": 10,
   "id": "e872030f-c927-409d-bd3a-8fb116bfad60",
   "metadata": {},
   "outputs": [],
   "source": [
    "spark.stop()"
   ]
  },
  {
   "cell_type": "markdown",
   "id": "9b77dfc3-6773-4f71-b123-d4a7ada9a426",
   "metadata": {},
   "source": [
    "### **Elasticsearch**"
   ]
  },
  {
   "cell_type": "markdown",
   "id": "0d721e83-e115-410f-abc1-163ca2d6bc54",
   "metadata": {},
   "source": [
    "#### Inserción de datos en Elasticsearch"
   ]
  },
  {
   "cell_type": "code",
   "execution_count": 11,
   "id": "0a96b0b0-580f-4f2c-a465-b685f7ebaf73",
   "metadata": {},
   "outputs": [],
   "source": [
    "client = Elasticsearch(\"http://elasticsearch:9200\")"
   ]
  },
  {
   "cell_type": "code",
   "execution_count": 12,
   "id": "5673e200-6b18-4a23-b518-a74ce994b9d0",
   "metadata": {},
   "outputs": [
    {
     "data": {
      "text/html": [
       "<div>\n",
       "<style scoped>\n",
       "    .dataframe tbody tr th:only-of-type {\n",
       "        vertical-align: middle;\n",
       "    }\n",
       "\n",
       "    .dataframe tbody tr th {\n",
       "        vertical-align: top;\n",
       "    }\n",
       "\n",
       "    .dataframe thead th {\n",
       "        text-align: right;\n",
       "    }\n",
       "</style>\n",
       "<table border=\"1\" class=\"dataframe\">\n",
       "  <thead>\n",
       "    <tr style=\"text-align: right;\">\n",
       "      <th></th>\n",
       "      <th>title</th>\n",
       "      <th>author_name</th>\n",
       "      <th>publish_year</th>\n",
       "      <th>language</th>\n",
       "      <th>subject</th>\n",
       "      <th>num_pages</th>\n",
       "      <th>id_amazon</th>\n",
       "      <th>ratings</th>\n",
       "    </tr>\n",
       "  </thead>\n",
       "  <tbody>\n",
       "    <tr>\n",
       "      <th>0</th>\n",
       "      <td>Frankenstein or The Modern Prometheus</td>\n",
       "      <td>Mary Wollstonecraft Shelley</td>\n",
       "      <td>1818.0</td>\n",
       "      <td>['fre', 'ita', 'por', 'ger', 'chi', 'rus', 'sp...</td>\n",
       "      <td>['Frankenstein (Fictitious character)', \"Frank...</td>\n",
       "      <td>240.0</td>\n",
       "      <td>['B08M25T3PW', 'B093XMVLXF', 'B000LQ3XU2', '19...</td>\n",
       "      <td>3.900585</td>\n",
       "    </tr>\n",
       "    <tr>\n",
       "      <th>1</th>\n",
       "      <td>A Christmas Carol</td>\n",
       "      <td>Charles Dickens</td>\n",
       "      <td>1843.0</td>\n",
       "      <td>['chi', 'spa', 'rus', 'eng', 'kor', 'fre', 'un...</td>\n",
       "      <td>['Ghost stories', 'Readers', 'Ebenzer Scrooge ...</td>\n",
       "      <td>114.0</td>\n",
       "      <td>['B002D6DY1G', 'B000QNQ8J8', '', 'B01N40IX3W',...</td>\n",
       "      <td>3.883117</td>\n",
       "    </tr>\n",
       "    <tr>\n",
       "      <th>2</th>\n",
       "      <td>The Picture of Dorian Gray</td>\n",
       "      <td>Oscar Wilde</td>\n",
       "      <td>1890.0</td>\n",
       "      <td>['dut', 'chi', 'heb', 'arm', 'ukr', 'spa', 'fr...</td>\n",
       "      <td>['British and irish fiction (fictional works b...</td>\n",
       "      <td>253.0</td>\n",
       "      <td>['B000OKWFA4', 'B008MWZR1A', 'B00ABMJJSQ', 'B0...</td>\n",
       "      <td>4.041666</td>\n",
       "    </tr>\n",
       "    <tr>\n",
       "      <th>3</th>\n",
       "      <td>Kalender 2021</td>\n",
       "      <td>Paula Paulsen</td>\n",
       "      <td>2020.0</td>\n",
       "      <td>['ger']</td>\n",
       "      <td>NaN</td>\n",
       "      <td>120.0</td>\n",
       "      <td>NaN</td>\n",
       "      <td>NaN</td>\n",
       "    </tr>\n",
       "    <tr>\n",
       "      <th>4</th>\n",
       "      <td>Northanger Abbey</td>\n",
       "      <td>Jane Austen</td>\n",
       "      <td>1818.0</td>\n",
       "      <td>['und', 'eng', 'spa', 'por', 'cat', 'ger', 'ru...</td>\n",
       "      <td>['Mate selection', 'Cousins', 'Fiction', 'Youn...</td>\n",
       "      <td>254.0</td>\n",
       "      <td>['B000H8TULK', 'B0012BZNYE', 'B000HMBM7Q', 'B0...</td>\n",
       "      <td>3.785714</td>\n",
       "    </tr>\n",
       "  </tbody>\n",
       "</table>\n",
       "</div>"
      ],
      "text/plain": [
       "                                   title                  author_name  \\\n",
       "0  Frankenstein or The Modern Prometheus  Mary Wollstonecraft Shelley   \n",
       "1                      A Christmas Carol              Charles Dickens   \n",
       "2             The Picture of Dorian Gray                  Oscar Wilde   \n",
       "3                          Kalender 2021                Paula Paulsen   \n",
       "4                       Northanger Abbey                  Jane Austen   \n",
       "\n",
       "   publish_year                                           language  \\\n",
       "0        1818.0  ['fre', 'ita', 'por', 'ger', 'chi', 'rus', 'sp...   \n",
       "1        1843.0  ['chi', 'spa', 'rus', 'eng', 'kor', 'fre', 'un...   \n",
       "2        1890.0  ['dut', 'chi', 'heb', 'arm', 'ukr', 'spa', 'fr...   \n",
       "3        2020.0                                            ['ger']   \n",
       "4        1818.0  ['und', 'eng', 'spa', 'por', 'cat', 'ger', 'ru...   \n",
       "\n",
       "                                             subject  num_pages  \\\n",
       "0  ['Frankenstein (Fictitious character)', \"Frank...      240.0   \n",
       "1  ['Ghost stories', 'Readers', 'Ebenzer Scrooge ...      114.0   \n",
       "2  ['British and irish fiction (fictional works b...      253.0   \n",
       "3                                                NaN      120.0   \n",
       "4  ['Mate selection', 'Cousins', 'Fiction', 'Youn...      254.0   \n",
       "\n",
       "                                           id_amazon   ratings  \n",
       "0  ['B08M25T3PW', 'B093XMVLXF', 'B000LQ3XU2', '19...  3.900585  \n",
       "1  ['B002D6DY1G', 'B000QNQ8J8', '', 'B01N40IX3W',...  3.883117  \n",
       "2  ['B000OKWFA4', 'B008MWZR1A', 'B00ABMJJSQ', 'B0...  4.041666  \n",
       "3                                                NaN       NaN  \n",
       "4  ['B000H8TULK', 'B0012BZNYE', 'B000HMBM7Q', 'B0...  3.785714  "
      ]
     },
     "execution_count": 12,
     "metadata": {},
     "output_type": "execute_result"
    }
   ],
   "source": [
    "ruta_archivo_csv = '/opt/workspace/campos_pandas.csv'\n",
    "campos_pandas = pd.read_csv(ruta_archivo_csv)\n",
    "campos_pandas.head()"
   ]
  },
  {
   "cell_type": "code",
   "execution_count": 13,
   "id": "be05ba0a-9ae1-466a-a36b-bed850c46077",
   "metadata": {},
   "outputs": [],
   "source": [
    "for index, row in campos_pandas.iterrows():\n",
    "    json_obj = row.to_json()\n",
    "    \n",
    "    client.index(index='my_index', body=json_obj)"
   ]
  },
  {
   "cell_type": "markdown",
   "id": "ebc203b6-d723-463d-b70a-6e4cd21724ca",
   "metadata": {},
   "source": [
    "#### Consultas y operaciones en Elasticsearch"
   ]
  },
  {
   "cell_type": "markdown",
   "id": "a01c8a52-4ede-4876-adef-9a9d1c14f660",
   "metadata": {},
   "source": [
    "##### Consulta básica"
   ]
  },
  {
   "cell_type": "code",
   "execution_count": 14,
   "id": "83190427-cc1c-44cc-a9d7-4a77b7ced829",
   "metadata": {},
   "outputs": [
    {
     "name": "stdout",
     "output_type": "stream",
     "text": [
      "{'title': 'Frankenstein or The Modern Prometheus', 'author_name': 'Mary Wollstonecraft Shelley', 'publish_year': 1818.0, 'language': \"['fre', 'ita', 'por', 'ger', 'chi', 'rus', 'spa', 'eng', 'dut']\", 'subject': '[\\'Frankenstein (Fictitious character)\\', \"Frankenstein\\'s monster (Fictitious character)\", \\'Fiction\\', \\'Victor Frankenstein (Fictitious character)\\', \\'Scientists\\', \\'Monsters\\', \\'Fiction, horror\\', \\'Frankenstein (fictitious character), fiction\\', \\'Physicians, fiction\\', \\'British fiction (fictional works by one author)\\', \\'Scientists, fiction\\', \\'Geneva (Switzerland), fiction\\', \"Children\\'s fiction\", \\'Horror stories\\', \\'Fiction, science fiction, general\\', \\'Fiction, general\\', \\'Horror tales\\', \\'Frankenstein (Shelley, Mary Wollstonecraft)\\', \\'Large type books\\', \\'English fiction\\', \\'Study guides\\', \\'Examinations\\', \\'Criticism and interpretation\\', \\'Fiction, gothic\\', \\'English language, textbooks for foreign speakers\\', \\'Reading comprehension\\', \\'Monsters, fiction\\', \\'English literature\\', \\'Comics & graphic novels, science fiction\\', \\'Comics & graphic novels, horror\\', \\'Comic books, strips, etc.\\', \\'Comics & graphic novels, literary\\', \\'Shelley, Mary Wollstonecraft, 1797-1851\\', \\'English fiction (collections), 19th century\\', \\'Literature and fiction, horror and ghost stories\\', \\'Readers\\', \\'Science fiction, history and criticism\\', \\'Horror tales, history and criticism\\', \"Children\\'s stories\", \\'Monstrous\\', \\'Novela\\', \\'History and criticism\\', \\'Horror fiction\\', \\'British and irish fiction (fictional works by one author)\\', \\'Fiction, historical, general\\', \\'literary criticism\\', \\'English Science fiction\\', \\'English Horror tales\\', \\'Scientists in literature\\', \\'Monsters in literature\\', \\'Science, experiments, fiction\\', \\'Authors\\', \\'Travel\\', \\'Reincarnation\\', \\'Self-actualization (Psychology)\\', \\'Vida espiritual\\', \\'Arte de vivir\\', \\'Conducta (Ética)\\', \\'Self-realization\\', \\'Reading materials\\', \\'Fiction, science fiction, hard science fiction\\', \\'Switzerland, fiction\\', \\'Literature and fiction, women authors\\', \\'Literature, history and criticism\\', \\'Science fiction\\', \\'Cartoons and comics\\', \\'Monstres\\', \\'Romans, nouvelles\\', \\'Comic books, strips\\', \\'Classic science fiction\\', \\'Horror and supernatural fiction\\', \\'Classic fiction\\', \\'Science in literature\\', \\'Illustration\\', \\'Gothic fiction\\', \\'English language, juvenile literature\\', \\'Shelley, Mary Wollstonecraft, 1797-1851. Frankenstein\\', \\'Frankenstein, Victor (Fictitious character) -- Fiction\\', \"Frankenstein\\'s monster (Fictitious character) -- Fiction\", \\'Scientists -- Fiction\\', \\'Monsters -- Fiction\\', \\'Frankenstein’s monster (Fictitious character)\\', \\'Frankenstein’s monster\\', \\'Monsters--fiction\\', \\'Frankenstein, victor (fictitious character)\\', \\'Frankenstein, victor (fictitious character)--fiction\\', \\'Pr5397 .f7 1992\\', \\'823.7 f\\', \\'Frankenstein, victor\\', \"Frankenstein\\'s monster\", \\'Scientists--fiction\\', \\'Frankenstein, victor (fictional character)\\', \\'Frankenstein, victor (fictional character)--fiction\\', \\'Frankenstein (fictional character)\\', \\'Frankenstein (fictional character)--fiction\\', \\'Pr5397 .f7 2003c\\', \\'823/.7\\', \\'Fic004000\\', \\'Pr5397 .f7 1969\\', \\'Pr5397 .f7 2008f\\', \\'823.7\\', \\'Science & technology in literature\\', \\'Literary styles & movements - fiction\\', \\'Books at the movies\\', \\'Occupations - fiction\\', \\'English fiction & prose literature - general & miscellaneous - literary criticism\\', \\'Horror literature - literary criticism\\', \\'English\\', \\'Scot\\', \\'Pr5397 .f7 2007\\', \\'Shelley, mary wollstonecraft , 1797-1851\\', \\'Pr5397 .f7 2012\\', \\'Classics\\', \\'Horror\\', \\'Gothic\\', \\'English & college success -> english -> fiction\\', \\'Mary shelley\\', \\'Mary wollstonecraft shelley\\', \\'Women authors\\', \\'Rhetoric\\', \\'Ya\\', \\'Young adult\\', \\'Juvenile\\', \\'History\\', \\'Historical\\', \\'Classic\\', \\'Literature\\', \\'Books\\', \\'Novels\\', \\'Hardcovers\\', \\'Paperback\\', \\'Ebook\\', \\'Audio-book\\', \\'Stories\\', \\'Tales\\', \\'Madness\\', \\'Mad\\', \\'Science\\', \\'Life conduct\\', \\'Ethics\\', \\'Translations into russian\\', \\'Ficción\\', \\'Frankenstein (personaje literario)\\', \\'Monstruos\\', \\'Epistolary fiction\\', \\'Conducta (etica)\\', \\'Dracula, count (fictitious character), fiction\\', \\'Jekyll, doctor (fictitious character), fiction\\', \\'Fiction, ghost\\', \\'Frankenstein films\\', \\'Juvenile fiction\\', \\'African american women\\', \\'Man-woman relationships\\', \\'Pr5397 .f7 2012d\\', \\'Pr5397 .f7 2008d\\', \\'823\\']', 'num_pages': 240.0, 'id_amazon': \"['B08M25T3PW', 'B093XMVLXF', 'B000LQ3XU2', '1986042618', '1613823797', '1374902233', 'B09MJB132T', '9589127568', '194518616X', 'B01NA6I4H7', '1533415889', '1720834342', '1543290027', '1800601352', '1984131400', '', '1613826621', '', '1787550923', '1101997974', 'B00VIMOEJW', '1539652408', '1632060787', '8809817672', '', '', '014130541X', 'B08CJXNBWT', '1096397412', '9509051314', '1772266841', 'B001M25W80', 'B001MBLRSK', '0462003078', '147831947X', '1603400494', '1911405632', '1474924972', '1509827757', '', '1627300155', '', '', '1772268267', '1421851547', '1613826648', '1942341555', '', '1403773734', '0718181123', '1945526262', '1099623987', '193943758X', '1613821670', '0995029121', 'B09HQY2D4J', '0679600590', '8322217218', '1613826656', '0141198966', '161382663X', '', '3806747598', 'B06ZXT4MRB', '0307350150', 'B08M25T3PW', 'B09MJB132T', '1912464063', '1641812117', 'B004GKJR72', '', '', 'B074XFNY18', '850401620X', '0766631737', '109951858X', '']\", 'ratings': 3.9005847}\n",
      "{'title': 'A Christmas Carol', 'author_name': 'Charles Dickens', 'publish_year': 1843.0, 'language': \"['chi', 'spa', 'rus', 'eng', 'kor', 'fre', 'und', 'ita', 'fin', 'dut', 'ukr', 'wel', 'gag', 'por', 'esp', 'pol', 'ger', 'jpn', 'gle']\", 'subject': '[\\'Ghost stories\\', \\'Readers\\', \\'Ebenzer Scrooge (Fictitious character)\\', \\'open_syllabus_project\\', \\'Cartoons and comics\\', \\'Promptbooks\\', \\'Christmas stories\\', \\'French language books\\', \\'Poor families\\', \\'Navidad\\', \\'Esperanto\\', \\'Sick children\\', \\'French language\\', \\'Repentance\\', \\'Criticism and interpretation\\', \\'Facsimiles\\', \\'Christmas\\', \\'English Manuscripts\\', \\'English Christmas stories\\', \\'Fiction,\\', \\'Poor\\', \\'Empathy\\', \\'Animals\\', \\'Adaptations\\', \\'Recluses\\', \\'French language edition\\', \\'Translations into Portuguese\\', \\'Comic books, strips\\', \\'Recitations\\', \\'Generosity\\', \\'Literary collections\\', \\'Cuentos de fantasmas\\', \\'London(England)\\', \"Children\\'s stories\", \\'Ficción\\', \\'Manners and customs\\', \\'Fiction\\', \\'Misers\\', \\'History\\', \\'Ebenezer Scrooge (Fictitious character)\\', \\'Social life and customs\\', \\'Trials (Breach of promise)\\', \\'England\\', \\'Vida social y costumbres\\', \\'Juvenile fiction\\', \\'Fantasmas\\', \\'Bible stories\\', \\'Texts\\', \\'Cuentos de Navidad\\', \\'Scrooge, Ebenezer (Personaje literario)\\', \\'Social conditions\\', \\'Ghosts\\', \\'Juvenile literature\\', \\'Scrooge, Ebenezer (Fictitious character)\\', \\'High interest-low vocabulary books\\', \\'Pictorial works\\', \\'Short stories\\', \\'Christmas, fiction\\', \"Children\\'s fiction\", \\'Scrooge, ebenezer (fictitious character), fiction\\', \\'England, fiction\\', \\'Ghosts, fiction\\', \\'British and irish fiction (fictional works by one author)\\', \\'Drama (dramatic works by one author)\\', \\'London (england), fiction\\', \\'Coloring books\\', \\'Child and youth fiction\\', \\'Fiction, historical\\', \\'Child and youth non-fiction\\', \\'Carols\\', \"Children\\'s songs\", \\'Holidays, fiction\\', \\'Fiction, ghost\\', \\'English literature\\', \\'Parody\\', \\'General\\', \\'Zombies\\', \\'Literature and fiction, juvenile\\', \\'Literature and fiction, historical fiction\\', \\'Large type books\\', \\'Fantasy fiction\\', \\'Songs\\', \\'Christmas, juvenile literature\\', \\'Conduct of life\\', \\'Toy and movable books\\', \\'Specimens\\', \\'English Ghost stories\\', \\'Illustrations\\', \\'Classics\\', \\'Christmas carol (Dickens, Charles)\\', \\'Fiction, historical, general\\', \\'Great britain, fiction\\', \\'Fiction, humorous, general\\', \\'Fiction, general\\', \\'Fiction, action & adventure\\', \\'Fiction, suspense\\', \\'Weihnachten\\', \\'Nächstenliebe\\', \\'Englisch\\', \\'Gespenstergeschichte\\', \\'Avarice\\', \\'Novela juvenil\\', \\'Fiction, christian, general\\', \\'Greece, fiction\\', \\'Literature and fiction, horror and ghost stories\\', \\'Noël\\', \\'Contes\\', \\'Spanish language materials\\', \\'Familles pauvres\\', \\'Romans, nouvelles\\', \\'Avares\\', \\'Spanish language\\', \\'Reading materials\\', \\'Histoires de Noël\\', \\'Fiction, religious\\', \\'Christmas, poetry\\', \\'Color, juvenile literature\\', \\'English language\\', \\'Study and teaching\\', \\'Romans\\', \\'Littérature\\', \\'Enseignement des langues\\', \\'Autoformation\\', \\'Protected DAISY\\', \\'In library\\', \\'Comic books, strips, etc.\\', \\'Fiction, fantasy, general\\', \\'Family\\', \\'Publishers and publishing\\', \\'Christmas trees\\', \\'Redemption\\', \\'Habsucht\\', \\'Egoismus\\', \\'Bekehrung\\', \\'Nineteenth century,\\', \\'Romans, nouvelles, etc. pour la jeunesse\\', \\'Mœurs et coutumes\\', \\'Readers for new literates\\', \\'Animals, fiction\\', \\'British and irish drama (dramatic works by one author)\\', \\'Art\\', \\'Nowele angielskie\\', \\'Tłumaczenia polskie\\', \\'Boże Narodzenie\\', \\'Nowele\\', \\'Fiction, thrillers, suspense\\', \\'Fiction, short stories (single author)\\', \\'Literature, collections\\', \\'Classic Literature\\', \\'Drama\\', \\'Fiction, holidays\\', \\'Fiction, classics\\', \\'Reading, remedial teaching\\', \\'Elementary education of adults\\']', 'num_pages': 114.0, 'id_amazon': \"['B002D6DY1G', 'B000QNQ8J8', '', 'B01N40IX3W', 'B0022WFB8U', 'B0027MW3HC', 'B004R5991K', 'B005B51P5S', 'B00RO4VEEG', 'B003KDPRI4', 'B09DB29ZPT', 'B00PRD9GW8', 'B008E6BUF6', 'B000J561MW', 'B091WGH8V7', '1843653516', '9576276837', '8895264401', '893784852X', '8493962015', '8492359927', '9575291301', '3257067917', '', 'B007HUZMRM', 'B091HP2DVK', 'B0160FFFNK', 'B008ARP6QS', 'B0028U3336', 'B0010XRLXU', 'B0022WFB8U', '', 'B000P1QPDA', 'B0000CHQCR', 'B00CXK8DRC', 'B000Z22K4W', '1984103687', '0141369582', '1640321136', '0615915345', '1600250815', '1946848344', '1499196415', '1515437388', '1717486797', '145512379X', '1421851040', '1530906512', '1461102332', '', '1421850060', '1495490106', '0615928676', '1938357302', '0198822391', '0008325960', '1624061753', '3458194266', '1613825986', '1612618391', '0692573038', '1420952285', '149919417X', '0983150303', '1681130009', '1985743892', '0986400645', '0930012518', '098315032X', '0008313776', '0692585079', '1613825919', '1609440935', '3791528084', '3800055805', '', '1938938399', '', '9137035738', '', '', '']\", 'ratings': 3.883117}\n",
      "{'title': 'The Picture of Dorian Gray', 'author_name': 'Oscar Wilde', 'publish_year': 1890.0, 'language': \"['dut', 'chi', 'heb', 'arm', 'ukr', 'spa', 'fre', 'rus', 'cze', 'ger', 'yid', 'eng', 'cos', 'jpn', 'und', 'ita', 'rum', 'por']\", 'subject': '[\\'British and irish fiction (fictional works by one author)\\', \\'Conduct of life, fiction\\', \\'Fantasy fiction\\', \"Children\\'s fiction\", \\'Appearance (Philosophy)\\', \\'Fiction\\', \\'Conduct of life\\', \\'Youthfulness\\', \\'Portraits\\', \\'Apparence (Philosophie)\\', \\'Romans, nouvelles\\', \\'Morale pratique\\', \\'Juvénilité\\', \\'General\\', \\'Horror\\', \\'Education\\', \\'English literature\\', \\'England, fiction\\', \\'Fiction, general\\', \\'Comics & graphic novels, fantasy\\', \\'Future life\\', \\'Soul\\', \\'Paranormal fiction\\', \\'Fiction, psychological\\', \\'Didactic fiction\\', \\'Drama (dramatic works by one author)\\', \\'Fiction, historical\\', \\'Fiction, fantasy, paranormal\\', \\'Great britain, fiction\\', \\'LGBTQ novels\\', \\'Stonewall Book Awards\\', \\'LGBTQ novels before Stonewall\\', \\'Fiction, historical, general\\', \\'Classics\\', \\'European\\', \\'English, Irish, Scottish, Welsh\\', \\'Drama, history and criticism\\', \\'Hedonism\\', \\'Classic fiction\\', \\'Men\\', \\'Man-woman relationships\\', \\'Influence (Psychology)\\', \\'Novela didáctica\\', \\'Novela psicología\\', \\'Fiction, horror\\', \\'Painting, fiction\\', \\'Large type books\\', \\'Readers\\', \\'Picture of Dorian Gray (Wilde, Oscar)\\', \\'English literature, history and criticism, 19th century\\', \\'Immortality\\', \\'Aging\\', \\'Gothic fiction\\', \\'Irish Occult fiction\\', \\'English fiction\\', \\'Fiction, thrillers, suspense\\', \\'Issues of Presses\\', \\'Le livre.\\', \\'Supernatural\\', \\'History\\', \\'Appearance (philosophy)--fiction\\', \\'Conduct of life--fiction\\', \\'Portraits--fiction\\', \\'Pr5819 .a1 1998b\\', \\'823/.8\\', \\'British and irish drama (dramatic works by one author)\\']', 'num_pages': 253.0, 'id_amazon': \"['B000OKWFA4', 'B008MWZR1A', 'B00ABMJJSQ', 'B00XF4RG4G', 'B000BB7FVK', 'B000IBM5YA', 'B01N1SGE4G', 'B000NRBVNA', 'B08Y4FHRM8', 'B000GKTQOU', 'B019AVKTPU', '3458362193', '3423142073', '1984231820', '1983619264', '1607107325', '1983566063', '198353692X', '1945186178', '1936041227', '1934169552', '1717347398', '161382551X', '1613828802', '1613825501', '1612039243', '', '1557424470', '0140623221', '1530214998', '1515430626', 'B01DE646E2', '149961795X', '149910961X', '1497558956', '1478375531', '0984679812', '0692518207', '0007351054', '', '1449560229', 'B01I24RAEY', '', '1435159586', 'B000E4JO4U']\", 'ratings': 4.0416665}\n"
     ]
    }
   ],
   "source": [
    "res = client.search(index='my_index', size=3)  \n",
    "\n",
    "for hit in res['hits']['hits']:\n",
    "    print(hit['_source'])"
   ]
  },
  {
   "cell_type": "markdown",
   "id": "111550a3",
   "metadata": {},
   "source": [
    "##### Conteo de documentos"
   ]
  },
  {
   "cell_type": "code",
   "execution_count": 15,
   "id": "840717f4-e370-4c04-ab1f-51a41304d45d",
   "metadata": {},
   "outputs": [
    {
     "name": "stdout",
     "output_type": "stream",
     "text": [
      "El número total de documentos en el índice es: 2239\n"
     ]
    }
   ],
   "source": [
    "doc_count = client.count(index='my_index')['count']\n",
    "print(f\"El número total de documentos en el índice es: {doc_count}\")"
   ]
  },
  {
   "cell_type": "markdown",
   "id": "465e4fc3-af7d-4c33-902a-607a3a6b54b5",
   "metadata": {},
   "source": [
    "##### Obtener IDs de documentos"
   ]
  },
  {
   "cell_type": "code",
   "execution_count": 16,
   "id": "43e0f69a",
   "metadata": {},
   "outputs": [
    {
     "name": "stdout",
     "output_type": "stream",
     "text": [
      "IDs de los documentos en el índice:\n",
      "  - IQ0IoY8BH564STdAkrxw\n",
      "  - Ig0IoY8BH564STdAkryk\n",
      "  - Iw0IoY8BH564STdAkryq\n",
      "  - JA0IoY8BH564STdAkryw\n",
      "  - JQ0IoY8BH564STdAkry1\n",
      "  - Jg0IoY8BH564STdAkry8\n",
      "  - Jw0IoY8BH564STdAkrzB\n",
      "  - KA0IoY8BH564STdAkrzH\n",
      "  - KQ0IoY8BH564STdAkrzN\n",
      "  - Kg0IoY8BH564STdAkrzT\n"
     ]
    }
   ],
   "source": [
    "query = {\n",
    "    \"_source\": False,  \n",
    "    \"query\": {\n",
    "        \"match_all\": {}  \n",
    "    }\n",
    "}\n",
    "\n",
    "res = client.search(index='my_index', body=query)\n",
    "\n",
    "document_ids = [hit['_id'] for hit in res['hits']['hits']]\n",
    "print(\"IDs de los documentos en el índice:\")\n",
    "for doc_id in document_ids:\n",
    "    print(f\"  - {doc_id}\")"
   ]
  },
  {
   "cell_type": "markdown",
   "id": "bd11263c-2866-47f2-81f6-8965a5347eda",
   "metadata": {},
   "source": [
    "##### Obtener campos únicos de un documento específico"
   ]
  },
  {
   "cell_type": "code",
   "execution_count": 17,
   "id": "627b637c",
   "metadata": {},
   "outputs": [
    {
     "name": "stdout",
     "output_type": "stream",
     "text": [
      "dict_keys(['title', 'author_name', 'publish_year', 'language', 'subject', 'num_pages', 'id_amazon', 'ratings'])\n"
     ]
    }
   ],
   "source": [
    "doc_id = 'IQ0IoY8BH564STdAkrxw'  \n",
    "res = client.get(index='my_index', id=doc_id)\n",
    "\n",
    "print(res['_source'].keys())"
   ]
  },
  {
   "cell_type": "markdown",
   "id": "3de2854d-bb63-4331-98af-b7284db3259e",
   "metadata": {},
   "source": [
    "##### Obtener un documento por su ID"
   ]
  },
  {
   "cell_type": "code",
   "execution_count": 18,
   "id": "94d13be0",
   "metadata": {},
   "outputs": [
    {
     "name": "stdout",
     "output_type": "stream",
     "text": [
      "Campos y valores del documento con ID 'IQ0IoY8BH564STdAkrxw':\n",
      "  - title: Frankenstein or The Modern Prometheus\n",
      "  - author_name: Mary Wollstonecraft Shelley\n",
      "  - publish_year: 1818.0\n",
      "  - language: ['fre', 'ita', 'por', 'ger', 'chi', 'rus', 'spa', 'eng', 'dut']\n",
      "  - subject: ['Frankenstein (Fictitious character)', \"Frankenstein's monster (Fictitious character)\", 'Fiction', 'Victor Frankenstein (Fictitious character)', 'Scientists', 'Monsters', 'Fiction, horror', 'Frankenstein (fictitious character), fiction', 'Physicians, fiction', 'British fiction (fictional works by one author)', 'Scientists, fiction', 'Geneva (Switzerland), fiction', \"Children's fiction\", 'Horror stories', 'Fiction, science fiction, general', 'Fiction, general', 'Horror tales', 'Frankenstein (Shelley, Mary Wollstonecraft)', 'Large type books', 'English fiction', 'Study guides', 'Examinations', 'Criticism and interpretation', 'Fiction, gothic', 'English language, textbooks for foreign speakers', 'Reading comprehension', 'Monsters, fiction', 'English literature', 'Comics & graphic novels, science fiction', 'Comics & graphic novels, horror', 'Comic books, strips, etc.', 'Comics & graphic novels, literary', 'Shelley, Mary Wollstonecraft, 1797-1851', 'English fiction (collections), 19th century', 'Literature and fiction, horror and ghost stories', 'Readers', 'Science fiction, history and criticism', 'Horror tales, history and criticism', \"Children's stories\", 'Monstrous', 'Novela', 'History and criticism', 'Horror fiction', 'British and irish fiction (fictional works by one author)', 'Fiction, historical, general', 'literary criticism', 'English Science fiction', 'English Horror tales', 'Scientists in literature', 'Monsters in literature', 'Science, experiments, fiction', 'Authors', 'Travel', 'Reincarnation', 'Self-actualization (Psychology)', 'Vida espiritual', 'Arte de vivir', 'Conducta (Ética)', 'Self-realization', 'Reading materials', 'Fiction, science fiction, hard science fiction', 'Switzerland, fiction', 'Literature and fiction, women authors', 'Literature, history and criticism', 'Science fiction', 'Cartoons and comics', 'Monstres', 'Romans, nouvelles', 'Comic books, strips', 'Classic science fiction', 'Horror and supernatural fiction', 'Classic fiction', 'Science in literature', 'Illustration', 'Gothic fiction', 'English language, juvenile literature', 'Shelley, Mary Wollstonecraft, 1797-1851. Frankenstein', 'Frankenstein, Victor (Fictitious character) -- Fiction', \"Frankenstein's monster (Fictitious character) -- Fiction\", 'Scientists -- Fiction', 'Monsters -- Fiction', 'Frankenstein’s monster (Fictitious character)', 'Frankenstein’s monster', 'Monsters--fiction', 'Frankenstein, victor (fictitious character)', 'Frankenstein, victor (fictitious character)--fiction', 'Pr5397 .f7 1992', '823.7 f', 'Frankenstein, victor', \"Frankenstein's monster\", 'Scientists--fiction', 'Frankenstein, victor (fictional character)', 'Frankenstein, victor (fictional character)--fiction', 'Frankenstein (fictional character)', 'Frankenstein (fictional character)--fiction', 'Pr5397 .f7 2003c', '823/.7', 'Fic004000', 'Pr5397 .f7 1969', 'Pr5397 .f7 2008f', '823.7', 'Science & technology in literature', 'Literary styles & movements - fiction', 'Books at the movies', 'Occupations - fiction', 'English fiction & prose literature - general & miscellaneous - literary criticism', 'Horror literature - literary criticism', 'English', 'Scot', 'Pr5397 .f7 2007', 'Shelley, mary wollstonecraft , 1797-1851', 'Pr5397 .f7 2012', 'Classics', 'Horror', 'Gothic', 'English & college success -> english -> fiction', 'Mary shelley', 'Mary wollstonecraft shelley', 'Women authors', 'Rhetoric', 'Ya', 'Young adult', 'Juvenile', 'History', 'Historical', 'Classic', 'Literature', 'Books', 'Novels', 'Hardcovers', 'Paperback', 'Ebook', 'Audio-book', 'Stories', 'Tales', 'Madness', 'Mad', 'Science', 'Life conduct', 'Ethics', 'Translations into russian', 'Ficción', 'Frankenstein (personaje literario)', 'Monstruos', 'Epistolary fiction', 'Conducta (etica)', 'Dracula, count (fictitious character), fiction', 'Jekyll, doctor (fictitious character), fiction', 'Fiction, ghost', 'Frankenstein films', 'Juvenile fiction', 'African american women', 'Man-woman relationships', 'Pr5397 .f7 2012d', 'Pr5397 .f7 2008d', '823']\n",
      "  - num_pages: 240.0\n",
      "  - id_amazon: ['B08M25T3PW', 'B093XMVLXF', 'B000LQ3XU2', '1986042618', '1613823797', '1374902233', 'B09MJB132T', '9589127568', '194518616X', 'B01NA6I4H7', '1533415889', '1720834342', '1543290027', '1800601352', '1984131400', '', '1613826621', '', '1787550923', '1101997974', 'B00VIMOEJW', '1539652408', '1632060787', '8809817672', '', '', '014130541X', 'B08CJXNBWT', '1096397412', '9509051314', '1772266841', 'B001M25W80', 'B001MBLRSK', '0462003078', '147831947X', '1603400494', '1911405632', '1474924972', '1509827757', '', '1627300155', '', '', '1772268267', '1421851547', '1613826648', '1942341555', '', '1403773734', '0718181123', '1945526262', '1099623987', '193943758X', '1613821670', '0995029121', 'B09HQY2D4J', '0679600590', '8322217218', '1613826656', '0141198966', '161382663X', '', '3806747598', 'B06ZXT4MRB', '0307350150', 'B08M25T3PW', 'B09MJB132T', '1912464063', '1641812117', 'B004GKJR72', '', '', 'B074XFNY18', '850401620X', '0766631737', '109951858X', '']\n",
      "  - ratings: 3.9005847\n"
     ]
    }
   ],
   "source": [
    "doc_id = 'IQ0IoY8BH564STdAkrxw'  \n",
    "\n",
    "try:\n",
    "    res = client.get(index='my_index', id=doc_id)\n",
    "    \n",
    "    print(f\"Campos y valores del documento con ID '{doc_id}':\")   \n",
    "    for field, value in res['_source'].items():\n",
    "        print(f\"  - {field}: {value}\")\n",
    "\n",
    "except Exception as e:\n",
    "    print(f\"No se pudo obtener el documento con ID '{doc_id}'. Error: {e}\")"
   ]
  },
  {
   "cell_type": "markdown",
   "id": "2cb7bd36-c75b-4cbb-862e-74894c23e3ad",
   "metadata": {},
   "source": [
    "##### Búsqueda por rango de ratings"
   ]
  },
  {
   "cell_type": "code",
   "execution_count": 19,
   "id": "054fb705",
   "metadata": {},
   "outputs": [
    {
     "name": "stdout",
     "output_type": "stream",
     "text": [
      "Documentos con ratings entre 4.0 y 5.0:\n",
      "  - Título: The Picture of Dorian Gray, Autor: Oscar Wilde, Ratings: 4.0416665\n",
      "  - Título: It, Autor: Stephen King, Ratings: 4.109005\n",
      "  - Título: Works (Carrie / Night Shift / 'Salem's Lot / Shining), Autor: Stephen King, Ratings: 4.5555553\n",
      "  - Título: The Stand, Autor: Stephen King, Ratings: 4.285714\n",
      "  - Título: Skeleton Crew, Autor: Stephen King, Ratings: 4.347826\n",
      "  - Título: Different Seasons, Autor: Stephen King, Ratings: 4.5882354\n",
      "  - Título: Salem’s Lot, Autor: Stephen King, Ratings: 4.0882354\n",
      "  - Título: The King in Yellow, Autor: Robert W. Chambers, Ratings: 4.142857\n",
      "  - Título: Poems, Autor: Percy Bysshe Shelley, Ratings: 4.0\n",
      "  - Título: The Dead Zone, Autor: Stephen King, Ratings: 4.1764708\n"
     ]
    }
   ],
   "source": [
    "gte_rating = 4.0\n",
    "lte_rating = 5.0\n",
    "\n",
    "query = {\n",
    "    \"query\": {\n",
    "        \"range\": {\n",
    "            \"ratings\": {\n",
    "                \"gte\": gte_rating,\n",
    "                \"lte\": lte_rating\n",
    "            }\n",
    "        }\n",
    "    }\n",
    "}\n",
    "\n",
    "res = client.search(index='my_index', body=query)\n",
    "\n",
    "print(f\"Documentos con ratings entre {gte_rating} y {lte_rating}:\")\n",
    "for hit in res['hits']['hits']:\n",
    "    source = hit['_source']\n",
    "    titulo = source.get('title', 'Título desconocido')\n",
    "    autor = source.get('author_name', 'Autor desconocido') \n",
    "    ratings = source.get('ratings', 'Ratings desconocidos')\n",
    "    print(f\"  - Título: {titulo}, Autor: {autor}, Ratings: {ratings}\")"
   ]
  },
  {
   "cell_type": "markdown",
   "id": "ffa2ddb2-1a3d-4e13-9feb-82202f8facc5",
   "metadata": {},
   "source": [
    "##### Agregación para contar documentos por autor"
   ]
  },
  {
   "cell_type": "code",
   "execution_count": 20,
   "id": "deac6457",
   "metadata": {},
   "outputs": [
    {
     "name": "stdout",
     "output_type": "stream",
     "text": [
      "Número de libros por autor:\n",
      "  - Autor: R. L. Stine, Número de libros: 204\n",
      "  - Autor: Stephen King, Número de libros: 75\n",
      "  - Autor: Dean Koontz, Número de libros: 37\n",
      "  - Autor: Christopher Pike, Número de libros: 36\n",
      "  - Autor: H.P. Lovecraft, Número de libros: 28\n",
      "  - Autor: Steve Hutchison, Número de libros: 26\n",
      "  - Autor: V. C. Andrews, Número de libros: 25\n",
      "  - Autor: Anne Rice, Número de libros: 23\n",
      "  - Autor: Karl Edward Wagner, Número de libros: 20\n",
      "  - Autor: Edgar Allan Poe, Número de libros: 15\n"
     ]
    }
   ],
   "source": [
    "query = {\n",
    "    \"size\": 0,\n",
    "    \"aggs\": {\n",
    "        \"authors\": {\n",
    "            \"terms\": {\n",
    "                \"field\": \"author_name.keyword\",\n",
    "                \"size\": 10\n",
    "            }\n",
    "        }\n",
    "    }\n",
    "}\n",
    "\n",
    "res = client.search(index='my_index', body=query)\n",
    "\n",
    "print(\"Número de libros por autor:\")\n",
    "for bucket in res['aggregations']['authors']['buckets']:\n",
    "    print(f\"  - Autor: {bucket['key']}, Número de libros: {bucket['doc_count']}\")"
   ]
  },
  {
   "cell_type": "markdown",
   "id": "0e0c00de-8347-4a21-bcf8-4ff325699053",
   "metadata": {},
   "source": [
    "##### Búsqueda por idiomas"
   ]
  },
  {
   "cell_type": "code",
   "execution_count": 21,
   "id": "228aa002-7080-44a4-a258-e24ac870cf77",
   "metadata": {},
   "outputs": [
    {
     "name": "stdout",
     "output_type": "stream",
     "text": [
      "Libros disponibles en spa, eng:\n",
      "  - Título: Horrorstör, Autor: Grady Hendrix, Idiomas: ['spa']\n",
      "  - Título: El horror econòmico, Autor: Viviane Forrester, Idiomas: ['spa']\n",
      "  - Título: Pauline, la noche del horror, Autor: Fco. Xavier Ramírez S., Idiomas: ['spa']\n",
      "  - Título: Ficciones del horror, Autor: Carlos Surghi, Idiomas: ['spa']\n",
      "  - Título: Fe de horrores, Autor: Aurelio Arteta, Idiomas: ['spa']\n",
      "  - Título: Leyendas de Horror, Autor: Guillermo Murray Prisant, Idiomas: ['spa']\n",
      "  - Título: Horrores estridentes, Autor: Diego Lizarazo Arias, Idiomas: ['spa']\n",
      "  - Título: El ángulo del horror, Autor: Cristina Fernández Cubas, Idiomas: ['spa']\n",
      "  - Título: Spanish horror, Autor: Víctor Matellano García, Idiomas: ['spa']\n",
      "  - Título: Horror Secreto, El, Autor: H.P. Lovecraft, Idiomas: ['spa']\n"
     ]
    }
   ],
   "source": [
    "languages = [\"spa\", \"eng\"]\n",
    "\n",
    "query = {\n",
    "    \"query\": {\n",
    "        \"bool\": {\n",
    "            \"should\": [{\"match\": {\"language\": lang}} for lang in languages]\n",
    "        }\n",
    "    }\n",
    "}\n",
    "\n",
    "res = client.search(index='my_index', body=query)\n",
    "language_names = ', '.join(languages)\n",
    "\n",
    "print(f\"Libros disponibles en {language_names}:\")\n",
    "for hit in res['hits']['hits']:\n",
    "    source = hit['_source']\n",
    "    titulo = source.get('title', 'Título desconocido')\n",
    "    autor = source.get('author_name', 'Autor desconocido')\n",
    "    idiomas = source.get('language', [])\n",
    "    print(f\"  - Título: {titulo}, Autor: {autor}, Idiomas: {idiomas}\")"
   ]
  },
  {
   "cell_type": "markdown",
   "id": "4294022a-e28d-46fa-997b-90a0b9b77282",
   "metadata": {},
   "source": [
    "##### Búsqueda por año de publicación"
   ]
  },
  {
   "cell_type": "code",
   "execution_count": 22,
   "id": "010894a8-40ef-44cb-9f00-7f47529e6b06",
   "metadata": {},
   "outputs": [
    {
     "name": "stdout",
     "output_type": "stream",
     "text": [
      "Libros publicados entre 1990 y 2000:\n",
      "  - Título: Bag of Bones, Autor: Stephen King, Año de Publicación: 1998.0\n",
      "  - Título: Four Past Midnight, Autor: Stephen King, Año de Publicación: 1990.0\n",
      "  - Título: Insomnia, Autor: Stephen King, Año de Publicación: 1994.0\n",
      "  - Título: Northern Lights, Autor: Philip Pullman, Año de Publicación: 1995.0\n",
      "  - Título: The Regulators, Autor: Stephen King, Año de Publicación: 1996.0\n",
      "  - Título: Needful Things, Autor: Stephen King, Año de Publicación: 1991.0\n",
      "  - Título: The Green Mile, Autor: Stephen King, Año de Publicación: 1996.0\n",
      "  - Título: The Subtle Knife, Autor: Philip Pullman, Año de Publicación: 1997.0\n",
      "  - Título: Tales of Horror and Mystery, Autor: Roald Dahl, Año de Publicación: 1993.0\n",
      "  - Título: The best horror stories, Autor: Bloch, Robert, Año de Publicación: 1990.0\n"
     ]
    }
   ],
   "source": [
    "start_year = 1990\n",
    "end_year = 2000\n",
    "\n",
    "query = {\n",
    "    \"query\": {\n",
    "        \"range\": {\n",
    "            \"publish_year\": {\n",
    "                \"gte\": start_year,\n",
    "                \"lte\": end_year\n",
    "            }\n",
    "        }\n",
    "    }\n",
    "}\n",
    "\n",
    "res = client.search(index='my_index', body=query)\n",
    "\n",
    "print(f\"Libros publicados entre {start_year} y {end_year}:\")\n",
    "for hit in res['hits']['hits']:\n",
    "    source = hit['_source']\n",
    "    titulo = source.get('title', 'Título desconocido')\n",
    "    autor = source.get('author_name', 'Autor desconocido')\n",
    "    publish_year = source.get('publish_year', 'Año desconocido')\n",
    "    print(f\"  - Título: {titulo}, Autor: {autor}, Año de Publicación: {publish_year}\")"
   ]
  },
  {
   "cell_type": "markdown",
   "id": "b1c876f9-e81f-4395-bd5e-404e0569ba78",
   "metadata": {},
   "source": [
    "##### Agregación por número de páginas"
   ]
  },
  {
   "cell_type": "code",
   "execution_count": 23,
   "id": "42831fbe-b93f-4f18-b0cf-a29dea1a4911",
   "metadata": {},
   "outputs": [
    {
     "name": "stdout",
     "output_type": "stream",
     "text": [
      "Distribución de libros por número de páginas:\n",
      "Menos de 100.0 páginas: 180 libros\n",
      "Ejemplos de libros en este rango:\n",
      "  - Daisy Miller por Henry James\n",
      "  - The Haunted House por Charles Dickens\n",
      "  - The Willows por Algernon Blackwood\n",
      "  - The Great God Pan por Arthur Machen\n",
      "  - The Parasite por Arthur Conan Doyle\n",
      "  - The Polar Express Gift Set por Chris Van Allsburg\n",
      "  - Bunnicula por Deborah Howe\n",
      "  - The Haunted and the Haunters, Or, The House and the Brain por Edward Bulwer Lytton, Baron Lytton\n",
      "  - The Fall of the House of Usher por Edgar Allan Poe\n",
      "  - Rikki-Tikki-Tavi por Rudyard Kipling\n",
      "100.0 - 300.0 páginas: 856 libros\n",
      "Ejemplos de libros en este rango:\n",
      "  - Frankenstein or The Modern Prometheus por Mary Wollstonecraft Shelley\n",
      "  - A Christmas Carol por Charles Dickens\n",
      "  - The Picture of Dorian Gray por Oscar Wilde\n",
      "  - Kalender 2021 por Paula Paulsen\n",
      "  - Northanger Abbey por Jane Austen\n",
      "  - The Strange Case of Dr. Jekyll and Mr. Hyde por Robert Louis Stevenson\n",
      "  - Flatland por Edwin Abbott Abbott\n",
      "  - The Invisible Man por H. G. Wells\n",
      "  - KALENDER 2020 por Skateboarding Geschenke für Männer und Frauen Skateboarder Kalender\n",
      "  - Fahrenheit 451 por Ray Bradbury\n",
      "300.0 - 500.0 páginas: 363 libros\n",
      "Ejemplos de libros en este rango:\n",
      "  - The Hobbit por J.R.R. Tolkien\n",
      "  - The House of the Seven Gables por Nathaniel Hawthorne\n",
      "  - Poems por Percy Bysshe Shelley\n",
      "  - The Dead Zone por Stephen King\n",
      "  - Northern Lights por Philip Pullman\n",
      "  - The Regulators por Stephen King\n",
      "  - Night Shift por Stephen King\n",
      "  - Misery por Stephen King\n",
      "  - Firestarter por Stephen King\n",
      "  - Pet Sematary por Stephen King\n",
      "Más de 500.0 páginas: 135 libros\n",
      "Ejemplos de libros en este rango:\n",
      "  - It por Stephen King\n",
      "  - Works (Carrie / Night Shift / 'Salem's Lot / Shining) por Stephen King\n",
      "  - The Stand por Stephen King\n",
      "  - Black House por Stephen King\n",
      "  - The Bachman Books por Stephen King\n",
      "  - Skeleton Crew por Stephen King\n",
      "  - Different Seasons por Stephen King\n",
      "  - Bag of Bones por Stephen King\n",
      "  - Salem’s Lot por Stephen King\n",
      "  - Four Past Midnight por Stephen King\n"
     ]
    }
   ],
   "source": [
    "num_examples = 10\n",
    "\n",
    "query = {\n",
    "    \"size\": 0,\n",
    "    \"aggs\": {\n",
    "        \"page_ranges\": {\n",
    "            \"range\": {\n",
    "                \"field\": \"num_pages\",\n",
    "                \"ranges\": [\n",
    "                    {\"to\": 100},\n",
    "                    {\"from\": 100, \"to\": 300},\n",
    "                    {\"from\": 300, \"to\": 500},\n",
    "                    {\"from\": 500}\n",
    "                ]\n",
    "            },\n",
    "            \"aggs\": {\n",
    "                \"sample_books\": {\n",
    "                    \"top_hits\": {\n",
    "                        \"size\": num_examples,\n",
    "                        \"_source\": [\"title\", \"author_name\"]\n",
    "                    }\n",
    "                }\n",
    "            }\n",
    "        }\n",
    "    }\n",
    "}\n",
    "\n",
    "res = client.search(index='my_index', body=query)\n",
    "\n",
    "print(\"Distribución de libros por número de páginas:\")\n",
    "for bucket in res['aggregations']['page_ranges']['buckets']:\n",
    "    range_label = f\"{bucket['from']} - {bucket['to']} páginas\" if 'from' in bucket and 'to' in bucket else \\\n",
    "                  (f\"Menos de {bucket['to']} páginas\" if 'to' in bucket else f\"Más de {bucket['from']} páginas\")\n",
    "    example_books = bucket['sample_books']['hits']['hits']\n",
    "    print(f\"{range_label}: {bucket['doc_count']} libros\")\n",
    "    if example_books:\n",
    "        print(f\"Ejemplos de libros en este rango:\")\n",
    "        for example in example_books:\n",
    "            example_source = example['_source']\n",
    "            example_title = example_source.get('title', 'Título desconocido')\n",
    "            example_author = example_source.get('author_name', 'Autor desconocido')\n",
    "            print(f\"  - {example_title} por {example_author}\")\n",
    "    else:\n",
    "        print(\"  No hay ejemplos disponibles\")"
   ]
  },
  {
   "cell_type": "markdown",
   "id": "41245f13-bed8-4e9d-ba77-9b51596b440c",
   "metadata": {},
   "source": [
    "##### Búsqueda por nombre del autor"
   ]
  },
  {
   "cell_type": "code",
   "execution_count": 24,
   "id": "5acf8a25-b4b1-4d4c-b6b0-583908bba16b",
   "metadata": {},
   "outputs": [
    {
     "name": "stdout",
     "output_type": "stream",
     "text": [
      "Libros escritos por Stephen King:\n",
      "  - Título: It, Año de Publicación: 1986.0, Ratings: 4.109005\n",
      "  - Título: Works (Carrie / Night Shift / 'Salem's Lot / Shining), Año de Publicación: 1981.0, Ratings: 4.5555553\n",
      "  - Título: The Stand, Año de Publicación: 1978.0, Ratings: 4.285714\n",
      "  - Título: Black House, Año de Publicación: 2001.0, Ratings: 3.5625\n",
      "  - Título: The Bachman Books, Año de Publicación: 1985.0, Ratings: 3.7435896\n",
      "  - Título: Skeleton Crew, Año de Publicación: 1985.0, Ratings: 4.347826\n",
      "  - Título: Different Seasons, Año de Publicación: 1982.0, Ratings: 4.5882354\n",
      "  - Título: Bag of Bones, Año de Publicación: 1998.0, Ratings: 3.9629629\n",
      "  - Título: Salem’s Lot, Año de Publicación: 1975.0, Ratings: 4.0882354\n",
      "  - Título: Four Past Midnight, Año de Publicación: 1990.0, Ratings: 3.9473684\n"
     ]
    }
   ],
   "source": [
    "author_name = \"Stephen King\"\n",
    "\n",
    "query = {\n",
    "    \"query\": {\n",
    "        \"match\": {\n",
    "            \"author_name\": author_name\n",
    "        }\n",
    "    }\n",
    "}\n",
    "\n",
    "res = client.search(index='my_index', body=query)\n",
    "\n",
    "print(f\"Libros escritos por {author_name}:\")\n",
    "for hit in res['hits']['hits']:\n",
    "    source = hit['_source']\n",
    "    titulo = source.get('title', 'Título desconocido')\n",
    "    publish_year = source.get('publish_year', 'Año desconocido')\n",
    "    ratings = source.get('ratings', 'Ratings desconocidos')\n",
    "    print(f\"  - Título: {titulo}, Año de Publicación: {publish_year}, Ratings: {ratings}\")"
   ]
  },
  {
   "cell_type": "markdown",
   "id": "b384e393-e712-4ef2-91c4-0c703a1f5d12",
   "metadata": {},
   "source": [
    "##### Búsqueda por palabra clave en el tema (subject)"
   ]
  },
  {
   "cell_type": "code",
   "execution_count": 25,
   "id": "fa31fee1-8ef9-4f26-8572-a99440201383",
   "metadata": {},
   "outputs": [
    {
     "name": "stdout",
     "output_type": "stream",
     "text": [
      "Documentos con la palabra 'Stories' en el sujeto:\n",
      "  - Título: The Complete Horowitz Horror, Autor: Anthony Horowitz\n",
      "  - Título: Horowitz Horror Stories You'll Wish You Never Read, Autor: Anthony Horowitz\n",
      "  - Título: Beast, Autor: Scott Ingram\n",
      "  - Título: The Accident, Autor: Diane Hoh\n",
      "  - Título: Give Yourself Goosebumps - Escape From the Carnival of Horrors, Autor: R. L. Stine\n",
      "  - Título: Collected Ghost Stories, Autor: Montague Rhodes James\n",
      "  - Título: Choose Your Own Adventure - Horror House, Autor: Edward Packard\n",
      "  - Título: Bury Me Deep, Autor: Christopher Pike\n",
      "  - Título: Tales to Give You Goosebumps, Autor: R. L. Stine\n",
      "  - Título: Horrors, horrors, horrors, Autor: Helen Hoke\n"
     ]
    }
   ],
   "source": [
    "keyword = \"Stories\"\n",
    "\n",
    "query = {\n",
    "    \"query\": {\n",
    "        \"match\": {\n",
    "            \"subject\": keyword\n",
    "        }\n",
    "    }\n",
    "}\n",
    "\n",
    "res = client.search(index='my_index', body=query)\n",
    "\n",
    "print(f\"Documentos con la palabra '{keyword}' en el sujeto:\")\n",
    "for hit in res['hits']['hits']:\n",
    "    source = hit['_source']\n",
    "    title = source.get('title', 'Título no disponible')\n",
    "    author_name = source.get('author_name', 'Autor no disponible')\n",
    "    print(f\"  - Título: {title}, Autor: {author_name}\")"
   ]
  },
  {
   "cell_type": "code",
   "execution_count": 26,
   "id": "226af6fd",
   "metadata": {},
   "outputs": [
    {
     "name": "stdout",
     "output_type": "stream",
     "text": [
      "El índice my_index ha sido eliminado.\n"
     ]
    }
   ],
   "source": [
    "if client.indices.exists(index='my_index'):\n",
    "    client.indices.delete(index='my_index')\n",
    "    print(f\"El índice my_index ha sido eliminado.\")\n",
    "else:\n",
    "    print(f\"El índice my_index no existe.\")"
   ]
  }
 ],
 "metadata": {
  "kernelspec": {
   "display_name": "Python 3 (ipykernel)",
   "language": "python",
   "name": "python3"
  },
  "language_info": {
   "codemirror_mode": {
    "name": "ipython",
    "version": 3
   },
   "file_extension": ".py",
   "mimetype": "text/x-python",
   "name": "python",
   "nbconvert_exporter": "python",
   "pygments_lexer": "ipython3",
   "version": "3.9.7"
  }
 },
 "nbformat": 4,
 "nbformat_minor": 5
}
