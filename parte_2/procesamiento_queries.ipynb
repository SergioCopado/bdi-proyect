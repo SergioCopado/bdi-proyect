{
 "cells": [
  {
   "cell_type": "code",
   "execution_count": 1,
   "id": "ae63eca1-a769-4510-a5a9-e7aa762d174d",
   "metadata": {},
   "outputs": [
    {
     "name": "stdout",
     "output_type": "stream",
     "text": [
      "Requirement already satisfied: elasticsearch in /usr/local/lib/python3.9/site-packages (8.13.1)\n",
      "Requirement already satisfied: elastic-transport<9,>=8.13 in /usr/local/lib/python3.9/site-packages (from elasticsearch) (8.13.0)\n",
      "Requirement already satisfied: urllib3<3,>=1.26.2 in /usr/local/lib/python3.9/site-packages (from elastic-transport<9,>=8.13->elasticsearch) (2.2.1)\n",
      "Requirement already satisfied: certifi in /usr/local/lib/python3.9/site-packages (from elastic-transport<9,>=8.13->elasticsearch) (2024.2.2)\n",
      "\u001b[33mWARNING: Running pip as the 'root' user can result in broken permissions and conflicting behaviour with the system package manager. It is recommended to use a virtual environment instead: https://pip.pypa.io/warnings/venv\u001b[0m\n",
      "\u001b[33mWARNING: You are using pip version 21.2.3; however, version 24.0 is available.\n",
      "You should consider upgrading via the '/usr/local/bin/python3.9 -m pip install --upgrade pip' command.\u001b[0m\n",
      "Note: you may need to restart the kernel to use updated packages.\n"
     ]
    }
   ],
   "source": [
    "pip install elasticsearch"
   ]
  },
  {
   "cell_type": "code",
   "execution_count": 2,
   "id": "23aa8056-d748-4f31-90c2-90a9e4c6183f",
   "metadata": {},
   "outputs": [
    {
     "name": "stdout",
     "output_type": "stream",
     "text": [
      "Requirement already satisfied: pandas in /usr/local/lib/python3.9/site-packages (2.2.2)\n",
      "Requirement already satisfied: numpy>=1.22.4 in /usr/local/lib/python3.9/site-packages (from pandas) (1.26.4)\n",
      "Requirement already satisfied: pytz>=2020.1 in /usr/local/lib/python3.9/site-packages (from pandas) (2024.1)\n",
      "Requirement already satisfied: python-dateutil>=2.8.2 in /usr/local/lib/python3.9/site-packages (from pandas) (2.9.0.post0)\n",
      "Requirement already satisfied: tzdata>=2022.7 in /usr/local/lib/python3.9/site-packages (from pandas) (2024.1)\n",
      "Requirement already satisfied: six>=1.5 in /usr/local/lib/python3.9/site-packages (from python-dateutil>=2.8.2->pandas) (1.16.0)\n",
      "\u001b[33mWARNING: Running pip as the 'root' user can result in broken permissions and conflicting behaviour with the system package manager. It is recommended to use a virtual environment instead: https://pip.pypa.io/warnings/venv\u001b[0m\n",
      "\u001b[33mWARNING: You are using pip version 21.2.3; however, version 24.0 is available.\n",
      "You should consider upgrading via the '/usr/local/bin/python3.9 -m pip install --upgrade pip' command.\u001b[0m\n",
      "Note: you may need to restart the kernel to use updated packages.\n"
     ]
    }
   ],
   "source": [
    "pip install pandas"
   ]
  },
  {
   "cell_type": "code",
   "execution_count": 3,
   "id": "5b1fb3f5-afe0-42cd-b99e-9b2cce8b6222",
   "metadata": {},
   "outputs": [],
   "source": [
    "import pyspark \n",
    "from pyspark.sql import SparkSession\n",
    "from pyspark.sql.functions import udf\n",
    "from pyspark.sql.types import ArrayType, StringType\n",
    "\n",
    "import os\n",
    "import json\n",
    "from elasticsearch import Elasticsearch"
   ]
  },
  {
   "cell_type": "markdown",
   "id": "faa8c569-2eed-47eb-b5b2-f10e986199bd",
   "metadata": {},
   "source": [
    "### **Spark**"
   ]
  },
  {
   "cell_type": "markdown",
   "id": "4db42766-e80d-4040-9181-3eabfe35429e",
   "metadata": {},
   "source": [
    "#### Inicialización y lectura de archivos JSON con PySpark"
   ]
  },
  {
   "cell_type": "code",
   "execution_count": 4,
   "id": "8a8ba11c-265b-470e-a059-6dda9b9c6f9b",
   "metadata": {},
   "outputs": [
    {
     "name": "stderr",
     "output_type": "stream",
     "text": [
      "Setting default log level to \"WARN\".\n",
      "To adjust logging level use sc.setLogLevel(newLevel). For SparkR, use setLogLevel(newLevel).\n",
      "24/05/20 16:16:15 WARN NativeCodeLoader: Unable to load native-hadoop library for your platform... using builtin-java classes where applicable\n"
     ]
    }
   ],
   "source": [
    "# Creamos una sesión de Spark\n",
    "spark = SparkSession.builder.master(\"local[*]\").appName(\"practica_ibd\").getOrCreate()"
   ]
  },
  {
   "cell_type": "code",
   "execution_count": 5,
   "id": "4c469490-9ded-42bc-a1ef-2d098350ff4c",
   "metadata": {},
   "outputs": [
    {
     "name": "stderr",
     "output_type": "stream",
     "text": [
      "                                                                                \r"
     ]
    }
   ],
   "source": [
    "# Leemos los archivos JSON en un DataFrame\n",
    "archivos_json = spark.read.option(\"multiline\", \"true\").json(\"/opt/workspace\")"
   ]
  },
  {
   "cell_type": "markdown",
   "id": "db4eeda4-a3c5-4f10-b776-8e2b6c1bc535",
   "metadata": {},
   "source": [
    "#### Procesamiento y selección de campos"
   ]
  },
  {
   "cell_type": "code",
   "execution_count": 6,
   "id": "54600ad9-ddf7-4fef-b831-010a73bd565d",
   "metadata": {},
   "outputs": [
    {
     "name": "stderr",
     "output_type": "stream",
     "text": [
      "                                                                                \r"
     ]
    },
    {
     "data": {
      "text/plain": [
       "2144"
      ]
     },
     "execution_count": 6,
     "metadata": {},
     "output_type": "execute_result"
    }
   ],
   "source": [
    "# Seleccionamos los campos interesantes\n",
    "campos_seleccionados = archivos_json.select(\n",
    "    archivos_json['title'].alias('title'),\n",
    "    archivos_json['author_name'].getItem(0).alias('author_name'),\n",
    "    archivos_json['first_publish_year'].alias('publish_year'),\n",
    "    archivos_json['language'].alias('language'),\n",
    "    archivos_json['subject'].alias('subject'),\n",
    "    archivos_json['number_of_pages_median'].alias('num_pages'),\n",
    "    archivos_json['id_amazon'].alias('id_amazon'),\n",
    "    archivos_json['ratings_average'].alias('ratings')\n",
    ")\n",
    "\n",
    "campos_seleccionados.count()"
   ]
  },
  {
   "cell_type": "markdown",
   "id": "a07a1fcc-fec9-4589-884a-c4b0fd400b85",
   "metadata": {},
   "source": [
    "#### Conversión a Pandas y limpieza de datos"
   ]
  },
  {
   "cell_type": "code",
   "execution_count": 7,
   "id": "eb5012a3-b0d6-4229-9b31-73dc04202d2d",
   "metadata": {},
   "outputs": [
    {
     "name": "stderr",
     "output_type": "stream",
     "text": [
      "                                                                                \r"
     ]
    },
    {
     "data": {
      "text/html": [
       "<div>\n",
       "<style scoped>\n",
       "    .dataframe tbody tr th:only-of-type {\n",
       "        vertical-align: middle;\n",
       "    }\n",
       "\n",
       "    .dataframe tbody tr th {\n",
       "        vertical-align: top;\n",
       "    }\n",
       "\n",
       "    .dataframe thead th {\n",
       "        text-align: right;\n",
       "    }\n",
       "</style>\n",
       "<table border=\"1\" class=\"dataframe\">\n",
       "  <thead>\n",
       "    <tr style=\"text-align: right;\">\n",
       "      <th></th>\n",
       "      <th>title</th>\n",
       "      <th>author_name</th>\n",
       "      <th>publish_year</th>\n",
       "      <th>language</th>\n",
       "      <th>subject</th>\n",
       "      <th>num_pages</th>\n",
       "      <th>id_amazon</th>\n",
       "      <th>ratings</th>\n",
       "    </tr>\n",
       "  </thead>\n",
       "  <tbody>\n",
       "    <tr>\n",
       "      <th>0</th>\n",
       "      <td>Frankenstein or The Modern Prometheus</td>\n",
       "      <td>Mary Wollstonecraft Shelley</td>\n",
       "      <td>1818.0</td>\n",
       "      <td>[fre, ita, por, ger, chi, rus, spa, eng, dut]</td>\n",
       "      <td>[Frankenstein (Fictitious character), Frankens...</td>\n",
       "      <td>240.0</td>\n",
       "      <td>[B08M25T3PW, B093XMVLXF, B000LQ3XU2, 198604261...</td>\n",
       "      <td>3.900585</td>\n",
       "    </tr>\n",
       "    <tr>\n",
       "      <th>1</th>\n",
       "      <td>A Christmas Carol</td>\n",
       "      <td>Charles Dickens</td>\n",
       "      <td>1843.0</td>\n",
       "      <td>[chi, spa, rus, eng, kor, fre, und, ita, fin, ...</td>\n",
       "      <td>[Ghost stories, Readers, Ebenzer Scrooge (Fict...</td>\n",
       "      <td>114.0</td>\n",
       "      <td>[B002D6DY1G, B000QNQ8J8, , B01N40IX3W, B0022WF...</td>\n",
       "      <td>3.883117</td>\n",
       "    </tr>\n",
       "    <tr>\n",
       "      <th>2</th>\n",
       "      <td>The Picture of Dorian Gray</td>\n",
       "      <td>Oscar Wilde</td>\n",
       "      <td>1890.0</td>\n",
       "      <td>[dut, chi, heb, arm, ukr, spa, fre, rus, cze, ...</td>\n",
       "      <td>[British and irish fiction (fictional works by...</td>\n",
       "      <td>253.0</td>\n",
       "      <td>[B000OKWFA4, B008MWZR1A, B00ABMJJSQ, B00XF4RG4...</td>\n",
       "      <td>4.041666</td>\n",
       "    </tr>\n",
       "    <tr>\n",
       "      <th>3</th>\n",
       "      <td>Kalender 2021</td>\n",
       "      <td>Paula Paulsen</td>\n",
       "      <td>2020.0</td>\n",
       "      <td>[ger]</td>\n",
       "      <td>None</td>\n",
       "      <td>120.0</td>\n",
       "      <td>None</td>\n",
       "      <td>NaN</td>\n",
       "    </tr>\n",
       "    <tr>\n",
       "      <th>4</th>\n",
       "      <td>Northanger Abbey</td>\n",
       "      <td>Jane Austen</td>\n",
       "      <td>1818.0</td>\n",
       "      <td>[und, eng, spa, por, cat, ger, rus, mul, heb, ...</td>\n",
       "      <td>[Mate selection, Cousins, Fiction, Young women...</td>\n",
       "      <td>254.0</td>\n",
       "      <td>[B000H8TULK, B0012BZNYE, B000HMBM7Q, B0017HFQN...</td>\n",
       "      <td>3.785714</td>\n",
       "    </tr>\n",
       "  </tbody>\n",
       "</table>\n",
       "</div>"
      ],
      "text/plain": [
       "                                   title                  author_name  \\\n",
       "0  Frankenstein or The Modern Prometheus  Mary Wollstonecraft Shelley   \n",
       "1                      A Christmas Carol              Charles Dickens   \n",
       "2             The Picture of Dorian Gray                  Oscar Wilde   \n",
       "3                          Kalender 2021                Paula Paulsen   \n",
       "4                       Northanger Abbey                  Jane Austen   \n",
       "\n",
       "   publish_year                                           language  \\\n",
       "0        1818.0      [fre, ita, por, ger, chi, rus, spa, eng, dut]   \n",
       "1        1843.0  [chi, spa, rus, eng, kor, fre, und, ita, fin, ...   \n",
       "2        1890.0  [dut, chi, heb, arm, ukr, spa, fre, rus, cze, ...   \n",
       "3        2020.0                                              [ger]   \n",
       "4        1818.0  [und, eng, spa, por, cat, ger, rus, mul, heb, ...   \n",
       "\n",
       "                                             subject  num_pages  \\\n",
       "0  [Frankenstein (Fictitious character), Frankens...      240.0   \n",
       "1  [Ghost stories, Readers, Ebenzer Scrooge (Fict...      114.0   \n",
       "2  [British and irish fiction (fictional works by...      253.0   \n",
       "3                                               None      120.0   \n",
       "4  [Mate selection, Cousins, Fiction, Young women...      254.0   \n",
       "\n",
       "                                           id_amazon   ratings  \n",
       "0  [B08M25T3PW, B093XMVLXF, B000LQ3XU2, 198604261...  3.900585  \n",
       "1  [B002D6DY1G, B000QNQ8J8, , B01N40IX3W, B0022WF...  3.883117  \n",
       "2  [B000OKWFA4, B008MWZR1A, B00ABMJJSQ, B00XF4RG4...  4.041666  \n",
       "3                                               None       NaN  \n",
       "4  [B000H8TULK, B0012BZNYE, B000HMBM7Q, B0017HFQN...  3.785714  "
      ]
     },
     "execution_count": 7,
     "metadata": {},
     "output_type": "execute_result"
    }
   ],
   "source": [
    "# Convertimos el Dataframe a Pandas para facilitar la inserción en elasticsearch\n",
    "campos_pandas = campos_seleccionados.toPandas()\n",
    "campos_pandas.head()"
   ]
  },
  {
   "cell_type": "code",
   "execution_count": 8,
   "id": "cfb4a167-f6c0-4322-8921-19161ec6d383",
   "metadata": {},
   "outputs": [
    {
     "name": "stdout",
     "output_type": "stream",
     "text": [
      "   title author_name  publish_year language subject  num_pages id_amazon  \\\n",
      "11  None        None           NaN     None    None        NaN      None   \n",
      "\n",
      "    ratings  \n",
      "11      NaN  \n"
     ]
    }
   ],
   "source": [
    "# Buscamos las filas que son nulas completas\n",
    "filas_con_nulos = campos_pandas[campos_pandas.isnull().all(axis=1)]\n",
    "print(filas_con_nulos)"
   ]
  },
  {
   "cell_type": "code",
   "execution_count": 9,
   "id": "61bec83e-3882-4571-aa88-42a15d8dfc9c",
   "metadata": {},
   "outputs": [
    {
     "data": {
      "text/plain": [
       "[11]"
      ]
     },
     "execution_count": 9,
     "metadata": {},
     "output_type": "execute_result"
    }
   ],
   "source": [
    "indices_eliminar = filas_con_nulos.index.tolist()\n",
    "indices_eliminar"
   ]
  },
  {
   "cell_type": "code",
   "execution_count": 10,
   "id": "ee2949b0-0147-4165-9677-764315c8ad0c",
   "metadata": {},
   "outputs": [],
   "source": [
    "campos_pandas.drop(indices_eliminar, inplace=True)"
   ]
  },
  {
   "cell_type": "code",
   "execution_count": 11,
   "id": "2ec6efd5-5f3d-4c57-b5b8-5473005e7e74",
   "metadata": {},
   "outputs": [
    {
     "data": {
      "text/html": [
       "<div>\n",
       "<style scoped>\n",
       "    .dataframe tbody tr th:only-of-type {\n",
       "        vertical-align: middle;\n",
       "    }\n",
       "\n",
       "    .dataframe tbody tr th {\n",
       "        vertical-align: top;\n",
       "    }\n",
       "\n",
       "    .dataframe thead th {\n",
       "        text-align: right;\n",
       "    }\n",
       "</style>\n",
       "<table border=\"1\" class=\"dataframe\">\n",
       "  <thead>\n",
       "    <tr style=\"text-align: right;\">\n",
       "      <th></th>\n",
       "      <th>title</th>\n",
       "      <th>author_name</th>\n",
       "      <th>publish_year</th>\n",
       "      <th>language</th>\n",
       "      <th>subject</th>\n",
       "      <th>num_pages</th>\n",
       "      <th>id_amazon</th>\n",
       "      <th>ratings</th>\n",
       "    </tr>\n",
       "  </thead>\n",
       "  <tbody>\n",
       "    <tr>\n",
       "      <th>0</th>\n",
       "      <td>Frankenstein or The Modern Prometheus</td>\n",
       "      <td>Mary Wollstonecraft Shelley</td>\n",
       "      <td>1818.0</td>\n",
       "      <td>[fre, ita, por, ger, chi, rus, spa, eng, dut]</td>\n",
       "      <td>[Frankenstein (Fictitious character), Frankens...</td>\n",
       "      <td>240.0</td>\n",
       "      <td>[B08M25T3PW, B093XMVLXF, B000LQ3XU2, 198604261...</td>\n",
       "      <td>3.900585</td>\n",
       "    </tr>\n",
       "    <tr>\n",
       "      <th>1</th>\n",
       "      <td>A Christmas Carol</td>\n",
       "      <td>Charles Dickens</td>\n",
       "      <td>1843.0</td>\n",
       "      <td>[chi, spa, rus, eng, kor, fre, und, ita, fin, ...</td>\n",
       "      <td>[Ghost stories, Readers, Ebenzer Scrooge (Fict...</td>\n",
       "      <td>114.0</td>\n",
       "      <td>[B002D6DY1G, B000QNQ8J8, , B01N40IX3W, B0022WF...</td>\n",
       "      <td>3.883117</td>\n",
       "    </tr>\n",
       "    <tr>\n",
       "      <th>2</th>\n",
       "      <td>The Picture of Dorian Gray</td>\n",
       "      <td>Oscar Wilde</td>\n",
       "      <td>1890.0</td>\n",
       "      <td>[dut, chi, heb, arm, ukr, spa, fre, rus, cze, ...</td>\n",
       "      <td>[British and irish fiction (fictional works by...</td>\n",
       "      <td>253.0</td>\n",
       "      <td>[B000OKWFA4, B008MWZR1A, B00ABMJJSQ, B00XF4RG4...</td>\n",
       "      <td>4.041666</td>\n",
       "    </tr>\n",
       "    <tr>\n",
       "      <th>3</th>\n",
       "      <td>Kalender 2021</td>\n",
       "      <td>Paula Paulsen</td>\n",
       "      <td>2020.0</td>\n",
       "      <td>[ger]</td>\n",
       "      <td>None</td>\n",
       "      <td>120.0</td>\n",
       "      <td>None</td>\n",
       "      <td>NaN</td>\n",
       "    </tr>\n",
       "    <tr>\n",
       "      <th>4</th>\n",
       "      <td>Northanger Abbey</td>\n",
       "      <td>Jane Austen</td>\n",
       "      <td>1818.0</td>\n",
       "      <td>[und, eng, spa, por, cat, ger, rus, mul, heb, ...</td>\n",
       "      <td>[Mate selection, Cousins, Fiction, Young women...</td>\n",
       "      <td>254.0</td>\n",
       "      <td>[B000H8TULK, B0012BZNYE, B000HMBM7Q, B0017HFQN...</td>\n",
       "      <td>3.785714</td>\n",
       "    </tr>\n",
       "    <tr>\n",
       "      <th>...</th>\n",
       "      <td>...</td>\n",
       "      <td>...</td>\n",
       "      <td>...</td>\n",
       "      <td>...</td>\n",
       "      <td>...</td>\n",
       "      <td>...</td>\n",
       "      <td>...</td>\n",
       "      <td>...</td>\n",
       "    </tr>\n",
       "    <tr>\n",
       "      <th>2139</th>\n",
       "      <td>Besessen. Roman. ( Horror).</td>\n",
       "      <td>None</td>\n",
       "      <td>NaN</td>\n",
       "      <td>None</td>\n",
       "      <td>None</td>\n",
       "      <td>NaN</td>\n",
       "      <td>None</td>\n",
       "      <td>NaN</td>\n",
       "    </tr>\n",
       "    <tr>\n",
       "      <th>2140</th>\n",
       "      <td>Gaslit Horror</td>\n",
       "      <td>Hugh Lamb</td>\n",
       "      <td>NaN</td>\n",
       "      <td>None</td>\n",
       "      <td>None</td>\n",
       "      <td>NaN</td>\n",
       "      <td>None</td>\n",
       "      <td>NaN</td>\n",
       "    </tr>\n",
       "    <tr>\n",
       "      <th>2141</th>\n",
       "      <td>Shuttered Horror Hospitals</td>\n",
       "      <td>None</td>\n",
       "      <td>NaN</td>\n",
       "      <td>None</td>\n",
       "      <td>None</td>\n",
       "      <td>NaN</td>\n",
       "      <td>None</td>\n",
       "      <td>NaN</td>\n",
       "    </tr>\n",
       "    <tr>\n",
       "      <th>2142</th>\n",
       "      <td>HORROR-7.</td>\n",
       "      <td>None</td>\n",
       "      <td>NaN</td>\n",
       "      <td>None</td>\n",
       "      <td>None</td>\n",
       "      <td>NaN</td>\n",
       "      <td>[B0010TAAGE]</td>\n",
       "      <td>NaN</td>\n",
       "    </tr>\n",
       "    <tr>\n",
       "      <th>2143</th>\n",
       "      <td>Northern Horror</td>\n",
       "      <td>None</td>\n",
       "      <td>NaN</td>\n",
       "      <td>None</td>\n",
       "      <td>None</td>\n",
       "      <td>NaN</td>\n",
       "      <td>None</td>\n",
       "      <td>NaN</td>\n",
       "    </tr>\n",
       "  </tbody>\n",
       "</table>\n",
       "<p>2143 rows × 8 columns</p>\n",
       "</div>"
      ],
      "text/plain": [
       "                                      title                  author_name  \\\n",
       "0     Frankenstein or The Modern Prometheus  Mary Wollstonecraft Shelley   \n",
       "1                         A Christmas Carol              Charles Dickens   \n",
       "2                The Picture of Dorian Gray                  Oscar Wilde   \n",
       "3                             Kalender 2021                Paula Paulsen   \n",
       "4                          Northanger Abbey                  Jane Austen   \n",
       "...                                     ...                          ...   \n",
       "2139            Besessen. Roman. ( Horror).                         None   \n",
       "2140                          Gaslit Horror                    Hugh Lamb   \n",
       "2141             Shuttered Horror Hospitals                         None   \n",
       "2142                              HORROR-7.                         None   \n",
       "2143                        Northern Horror                         None   \n",
       "\n",
       "      publish_year                                           language  \\\n",
       "0           1818.0      [fre, ita, por, ger, chi, rus, spa, eng, dut]   \n",
       "1           1843.0  [chi, spa, rus, eng, kor, fre, und, ita, fin, ...   \n",
       "2           1890.0  [dut, chi, heb, arm, ukr, spa, fre, rus, cze, ...   \n",
       "3           2020.0                                              [ger]   \n",
       "4           1818.0  [und, eng, spa, por, cat, ger, rus, mul, heb, ...   \n",
       "...            ...                                                ...   \n",
       "2139           NaN                                               None   \n",
       "2140           NaN                                               None   \n",
       "2141           NaN                                               None   \n",
       "2142           NaN                                               None   \n",
       "2143           NaN                                               None   \n",
       "\n",
       "                                                subject  num_pages  \\\n",
       "0     [Frankenstein (Fictitious character), Frankens...      240.0   \n",
       "1     [Ghost stories, Readers, Ebenzer Scrooge (Fict...      114.0   \n",
       "2     [British and irish fiction (fictional works by...      253.0   \n",
       "3                                                  None      120.0   \n",
       "4     [Mate selection, Cousins, Fiction, Young women...      254.0   \n",
       "...                                                 ...        ...   \n",
       "2139                                               None        NaN   \n",
       "2140                                               None        NaN   \n",
       "2141                                               None        NaN   \n",
       "2142                                               None        NaN   \n",
       "2143                                               None        NaN   \n",
       "\n",
       "                                              id_amazon   ratings  \n",
       "0     [B08M25T3PW, B093XMVLXF, B000LQ3XU2, 198604261...  3.900585  \n",
       "1     [B002D6DY1G, B000QNQ8J8, , B01N40IX3W, B0022WF...  3.883117  \n",
       "2     [B000OKWFA4, B008MWZR1A, B00ABMJJSQ, B00XF4RG4...  4.041666  \n",
       "3                                                  None       NaN  \n",
       "4     [B000H8TULK, B0012BZNYE, B000HMBM7Q, B0017HFQN...  3.785714  \n",
       "...                                                 ...       ...  \n",
       "2139                                               None       NaN  \n",
       "2140                                               None       NaN  \n",
       "2141                                               None       NaN  \n",
       "2142                                       [B0010TAAGE]       NaN  \n",
       "2143                                               None       NaN  \n",
       "\n",
       "[2143 rows x 8 columns]"
      ]
     },
     "execution_count": 11,
     "metadata": {},
     "output_type": "execute_result"
    }
   ],
   "source": [
    "campos_pandas"
   ]
  },
  {
   "cell_type": "code",
   "execution_count": 12,
   "id": "e3c5e8a4-12e8-4190-985a-180c192b8621",
   "metadata": {},
   "outputs": [
    {
     "data": {
      "text/plain": [
       "title              0\n",
       "author_name       28\n",
       "publish_year      36\n",
       "language         268\n",
       "subject          772\n",
       "num_pages        655\n",
       "id_amazon       1583\n",
       "ratings         1352\n",
       "dtype: int64"
      ]
     },
     "execution_count": 12,
     "metadata": {},
     "output_type": "execute_result"
    }
   ],
   "source": [
    "campos_pandas.isna().sum()"
   ]
  },
  {
   "cell_type": "code",
   "execution_count": 13,
   "id": "e872030f-c927-409d-bd3a-8fb116bfad60",
   "metadata": {},
   "outputs": [],
   "source": [
    "spark.stop()"
   ]
  },
  {
   "cell_type": "markdown",
   "id": "9b77dfc3-6773-4f71-b123-d4a7ada9a426",
   "metadata": {},
   "source": [
    "### **Elasticsearch**"
   ]
  },
  {
   "cell_type": "markdown",
   "id": "0d721e83-e115-410f-abc1-163ca2d6bc54",
   "metadata": {},
   "source": [
    "#### Inserción de datos en Elasticsearch"
   ]
  },
  {
   "cell_type": "code",
   "execution_count": 14,
   "id": "0a96b0b0-580f-4f2c-a465-b685f7ebaf73",
   "metadata": {},
   "outputs": [],
   "source": [
    "client = Elasticsearch(\"http://elasticsearch:9200\")"
   ]
  },
  {
   "cell_type": "code",
   "execution_count": 16,
   "id": "be05ba0a-9ae1-466a-a36b-bed850c46077",
   "metadata": {},
   "outputs": [],
   "source": [
    "# Iterar sobre cada fila del Pandas DataFrame\n",
    "for index, row in campos_pandas.iterrows():\n",
    "    # Convertir la fila a un objeto JSON\n",
    "    json_obj = row.to_json()\n",
    "    \n",
    "    # Insertar el objeto JSON en Elasticsearch\n",
    "    client.index(index='my_index', body=json_obj)"
   ]
  },
  {
   "cell_type": "markdown",
   "id": "ebc203b6-d723-463d-b70a-6e4cd21724ca",
   "metadata": {},
   "source": [
    "#### Consultas y operaciones en Elasticsearch"
   ]
  },
  {
   "cell_type": "markdown",
   "id": "a01c8a52-4ede-4876-adef-9a9d1c14f660",
   "metadata": {},
   "source": [
    "##### Consulta básica"
   ]
  },
  {
   "cell_type": "code",
   "execution_count": 17,
   "id": "83190427-cc1c-44cc-a9d7-4a77b7ced829",
   "metadata": {},
   "outputs": [
    {
     "name": "stdout",
     "output_type": "stream",
     "text": [
      "{'title': 'Frankenstein or The Modern Prometheus', 'author_name': 'Mary Wollstonecraft Shelley', 'publish_year': 1818.0, 'language': ['fre', 'ita', 'por', 'ger', 'chi', 'rus', 'spa', 'eng', 'dut'], 'subject': ['Frankenstein (Fictitious character)', \"Frankenstein's monster (Fictitious character)\", 'Fiction', 'Victor Frankenstein (Fictitious character)', 'Scientists', 'Monsters', 'Fiction, horror', 'Frankenstein (fictitious character), fiction', 'Physicians, fiction', 'British fiction (fictional works by one author)', 'Scientists, fiction', 'Geneva (Switzerland), fiction', \"Children's fiction\", 'Horror stories', 'Fiction, science fiction, general', 'Fiction, general', 'Horror tales', 'Frankenstein (Shelley, Mary Wollstonecraft)', 'Large type books', 'English fiction', 'Study guides', 'Examinations', 'Criticism and interpretation', 'Fiction, gothic', 'English language, textbooks for foreign speakers', 'Reading comprehension', 'Monsters, fiction', 'English literature', 'Comics & graphic novels, science fiction', 'Comics & graphic novels, horror', 'Comic books, strips, etc.', 'Comics & graphic novels, literary', 'Shelley, Mary Wollstonecraft, 1797-1851', 'English fiction (collections), 19th century', 'Literature and fiction, horror and ghost stories', 'Readers', 'Science fiction, history and criticism', 'Horror tales, history and criticism', \"Children's stories\", 'Monstrous', 'Novela', 'History and criticism', 'Horror fiction', 'British and irish fiction (fictional works by one author)', 'Fiction, historical, general', 'literary criticism', 'English Science fiction', 'English Horror tales', 'Scientists in literature', 'Monsters in literature', 'Science, experiments, fiction', 'Authors', 'Travel', 'Reincarnation', 'Self-actualization (Psychology)', 'Vida espiritual', 'Arte de vivir', 'Conducta (Ética)', 'Self-realization', 'Reading materials', 'Fiction, science fiction, hard science fiction', 'Switzerland, fiction', 'Literature and fiction, women authors', 'Literature, history and criticism', 'Science fiction', 'Cartoons and comics', 'Monstres', 'Romans, nouvelles', 'Comic books, strips', 'Classic science fiction', 'Horror and supernatural fiction', 'Classic fiction', 'Science in literature', 'Illustration', 'Gothic fiction', 'English language, juvenile literature', 'Shelley, Mary Wollstonecraft, 1797-1851. Frankenstein', 'Frankenstein, Victor (Fictitious character) -- Fiction', \"Frankenstein's monster (Fictitious character) -- Fiction\", 'Scientists -- Fiction', 'Monsters -- Fiction', 'Frankenstein’s monster (Fictitious character)', 'Frankenstein’s monster', 'Monsters--fiction', 'Frankenstein, victor (fictitious character)', 'Frankenstein, victor (fictitious character)--fiction', 'Pr5397 .f7 1992', '823.7 f', 'Frankenstein, victor', \"Frankenstein's monster\", 'Scientists--fiction', 'Frankenstein, victor (fictional character)', 'Frankenstein, victor (fictional character)--fiction', 'Frankenstein (fictional character)', 'Frankenstein (fictional character)--fiction', 'Pr5397 .f7 2003c', '823/.7', 'Fic004000', 'Pr5397 .f7 1969', 'Pr5397 .f7 2008f', '823.7', 'Science & technology in literature', 'Literary styles & movements - fiction', 'Books at the movies', 'Occupations - fiction', 'English fiction & prose literature - general & miscellaneous - literary criticism', 'Horror literature - literary criticism', 'English', 'Scot', 'Pr5397 .f7 2007', 'Shelley, mary wollstonecraft , 1797-1851', 'Pr5397 .f7 2012', 'Classics', 'Horror', 'Gothic', 'English & college success -> english -> fiction', 'Mary shelley', 'Mary wollstonecraft shelley', 'Women authors', 'Rhetoric', 'Ya', 'Young adult', 'Juvenile', 'History', 'Historical', 'Classic', 'Literature', 'Books', 'Novels', 'Hardcovers', 'Paperback', 'Ebook', 'Audio-book', 'Stories', 'Tales', 'Madness', 'Mad', 'Science', 'Life conduct', 'Ethics', 'Translations into russian', 'Ficción', 'Frankenstein (personaje literario)', 'Monstruos', 'Epistolary fiction', 'Conducta (etica)', 'Dracula, count (fictitious character), fiction', 'Jekyll, doctor (fictitious character), fiction', 'Fiction, ghost', 'Frankenstein films', 'Juvenile fiction', 'African american women', 'Man-woman relationships', 'Pr5397 .f7 2012d', 'Pr5397 .f7 2008d', '823'], 'num_pages': 240.0, 'id_amazon': ['B08M25T3PW', 'B093XMVLXF', 'B000LQ3XU2', '1986042618', '1613823797', '1374902233', 'B09MJB132T', '9589127568', '194518616X', 'B01NA6I4H7', '1533415889', '1720834342', '1543290027', '1800601352', '1984131400', '', '1613826621', '', '1787550923', '1101997974', 'B00VIMOEJW', '1539652408', '1632060787', '8809817672', '', '', '014130541X', 'B08CJXNBWT', '1096397412', '9509051314', '1772266841', 'B001M25W80', 'B001MBLRSK', '0462003078', '147831947X', '1603400494', '1911405632', '1474924972', '1509827757', '', '1627300155', '', '', '1772268267', '1421851547', '1613826648', '1942341555', '', '1403773734', '0718181123', '1945526262', '1099623987', '193943758X', '1613821670', '0995029121', 'B09HQY2D4J', '0679600590', '8322217218', '1613826656', '0141198966', '161382663X', '', '3806747598', 'B06ZXT4MRB', '0307350150', 'B08M25T3PW', 'B09MJB132T', '1912464063', '1641812117', 'B004GKJR72', '', '', 'B074XFNY18', '850401620X', '0766631737', '109951858X', ''], 'ratings': 3.9005847}\n",
      "{'title': 'A Christmas Carol', 'author_name': 'Charles Dickens', 'publish_year': 1843.0, 'language': ['chi', 'spa', 'rus', 'eng', 'kor', 'fre', 'und', 'ita', 'fin', 'dut', 'ukr', 'wel', 'gag', 'por', 'esp', 'pol', 'ger', 'jpn', 'gle'], 'subject': ['Ghost stories', 'Readers', 'Ebenzer Scrooge (Fictitious character)', 'open_syllabus_project', 'Cartoons and comics', 'Promptbooks', 'Christmas stories', 'French language books', 'Poor families', 'Navidad', 'Esperanto', 'Sick children', 'French language', 'Repentance', 'Criticism and interpretation', 'Facsimiles', 'Christmas', 'English Manuscripts', 'English Christmas stories', 'Fiction,', 'Poor', 'Empathy', 'Animals', 'Adaptations', 'Recluses', 'French language edition', 'Translations into Portuguese', 'Comic books, strips', 'Recitations', 'Generosity', 'Literary collections', 'Cuentos de fantasmas', 'London(England)', \"Children's stories\", 'Ficción', 'Manners and customs', 'Fiction', 'Misers', 'History', 'Ebenezer Scrooge (Fictitious character)', 'Social life and customs', 'Trials (Breach of promise)', 'England', 'Vida social y costumbres', 'Juvenile fiction', 'Fantasmas', 'Bible stories', 'Texts', 'Cuentos de Navidad', 'Scrooge, Ebenezer (Personaje literario)', 'Social conditions', 'Ghosts', 'Juvenile literature', 'Scrooge, Ebenezer (Fictitious character)', 'High interest-low vocabulary books', 'Pictorial works', 'Short stories', 'Christmas, fiction', \"Children's fiction\", 'Scrooge, ebenezer (fictitious character), fiction', 'England, fiction', 'Ghosts, fiction', 'British and irish fiction (fictional works by one author)', 'Drama (dramatic works by one author)', 'London (england), fiction', 'Coloring books', 'Child and youth fiction', 'Fiction, historical', 'Child and youth non-fiction', 'Carols', \"Children's songs\", 'Holidays, fiction', 'Fiction, ghost', 'English literature', 'Parody', 'General', 'Zombies', 'Literature and fiction, juvenile', 'Literature and fiction, historical fiction', 'Large type books', 'Fantasy fiction', 'Songs', 'Christmas, juvenile literature', 'Conduct of life', 'Toy and movable books', 'Specimens', 'English Ghost stories', 'Illustrations', 'Classics', 'Christmas carol (Dickens, Charles)', 'Fiction, historical, general', 'Great britain, fiction', 'Fiction, humorous, general', 'Fiction, general', 'Fiction, action & adventure', 'Fiction, suspense', 'Weihnachten', 'Nächstenliebe', 'Englisch', 'Gespenstergeschichte', 'Avarice', 'Novela juvenil', 'Fiction, christian, general', 'Greece, fiction', 'Literature and fiction, horror and ghost stories', 'Noël', 'Contes', 'Spanish language materials', 'Familles pauvres', 'Romans, nouvelles', 'Avares', 'Spanish language', 'Reading materials', 'Histoires de Noël', 'Fiction, religious', 'Christmas, poetry', 'Color, juvenile literature', 'English language', 'Study and teaching', 'Romans', 'Littérature', 'Enseignement des langues', 'Autoformation', 'Protected DAISY', 'In library', 'Comic books, strips, etc.', 'Fiction, fantasy, general', 'Family', 'Publishers and publishing', 'Christmas trees', 'Redemption', 'Habsucht', 'Egoismus', 'Bekehrung', 'Nineteenth century,', 'Romans, nouvelles, etc. pour la jeunesse', 'Mœurs et coutumes', 'Readers for new literates', 'Animals, fiction', 'British and irish drama (dramatic works by one author)', 'Art', 'Nowele angielskie', 'Tłumaczenia polskie', 'Boże Narodzenie', 'Nowele', 'Fiction, thrillers, suspense', 'Fiction, short stories (single author)', 'Literature, collections', 'Classic Literature', 'Drama', 'Fiction, holidays', 'Fiction, classics', 'Reading, remedial teaching', 'Elementary education of adults'], 'num_pages': 114.0, 'id_amazon': ['B002D6DY1G', 'B000QNQ8J8', '', 'B01N40IX3W', 'B0022WFB8U', 'B0027MW3HC', 'B004R5991K', 'B005B51P5S', 'B00RO4VEEG', 'B003KDPRI4', 'B09DB29ZPT', 'B00PRD9GW8', 'B008E6BUF6', 'B000J561MW', 'B091WGH8V7', '1843653516', '9576276837', '8895264401', '893784852X', '8493962015', '8492359927', '9575291301', '3257067917', '', 'B007HUZMRM', 'B091HP2DVK', 'B0160FFFNK', 'B008ARP6QS', 'B0028U3336', 'B0010XRLXU', 'B0022WFB8U', '', 'B000P1QPDA', 'B0000CHQCR', 'B00CXK8DRC', 'B000Z22K4W', '1984103687', '0141369582', '1640321136', '0615915345', '1600250815', '1946848344', '1499196415', '1515437388', '1717486797', '145512379X', '1421851040', '1530906512', '1461102332', '', '1421850060', '1495490106', '0615928676', '1938357302', '0198822391', '0008325960', '1624061753', '3458194266', '1613825986', '1612618391', '0692573038', '1420952285', '149919417X', '0983150303', '1681130009', '1985743892', '0986400645', '0930012518', '098315032X', '0008313776', '0692585079', '1613825919', '1609440935', '3791528084', '3800055805', '', '1938938399', '', '9137035738', '', '', ''], 'ratings': 3.883117}\n",
      "{'title': 'The Picture of Dorian Gray', 'author_name': 'Oscar Wilde', 'publish_year': 1890.0, 'language': ['dut', 'chi', 'heb', 'arm', 'ukr', 'spa', 'fre', 'rus', 'cze', 'ger', 'yid', 'eng', 'cos', 'jpn', 'und', 'ita', 'rum', 'por'], 'subject': ['British and irish fiction (fictional works by one author)', 'Conduct of life, fiction', 'Fantasy fiction', \"Children's fiction\", 'Appearance (Philosophy)', 'Fiction', 'Conduct of life', 'Youthfulness', 'Portraits', 'Apparence (Philosophie)', 'Romans, nouvelles', 'Morale pratique', 'Juvénilité', 'General', 'Horror', 'Education', 'English literature', 'England, fiction', 'Fiction, general', 'Comics & graphic novels, fantasy', 'Future life', 'Soul', 'Paranormal fiction', 'Fiction, psychological', 'Didactic fiction', 'Drama (dramatic works by one author)', 'Fiction, historical', 'Fiction, fantasy, paranormal', 'Great britain, fiction', 'LGBTQ novels', 'Stonewall Book Awards', 'LGBTQ novels before Stonewall', 'Fiction, historical, general', 'Classics', 'European', 'English, Irish, Scottish, Welsh', 'Drama, history and criticism', 'Hedonism', 'Classic fiction', 'Men', 'Man-woman relationships', 'Influence (Psychology)', 'Novela didáctica', 'Novela psicología', 'Fiction, horror', 'Painting, fiction', 'Large type books', 'Readers', 'Picture of Dorian Gray (Wilde, Oscar)', 'English literature, history and criticism, 19th century', 'Immortality', 'Aging', 'Gothic fiction', 'Irish Occult fiction', 'English fiction', 'Fiction, thrillers, suspense', 'Issues of Presses', 'Le livre.', 'Supernatural', 'History', 'Appearance (philosophy)--fiction', 'Conduct of life--fiction', 'Portraits--fiction', 'Pr5819 .a1 1998b', '823/.8', 'British and irish drama (dramatic works by one author)'], 'num_pages': 253.0, 'id_amazon': ['B000OKWFA4', 'B008MWZR1A', 'B00ABMJJSQ', 'B00XF4RG4G', 'B000BB7FVK', 'B000IBM5YA', 'B01N1SGE4G', 'B000NRBVNA', 'B08Y4FHRM8', 'B000GKTQOU', 'B019AVKTPU', '3458362193', '3423142073', '1984231820', '1983619264', '1607107325', '1983566063', '198353692X', '1945186178', '1936041227', '1934169552', '1717347398', '161382551X', '1613828802', '1613825501', '1612039243', '', '1557424470', '0140623221', '1530214998', '1515430626', 'B01DE646E2', '149961795X', '149910961X', '1497558956', '1478375531', '0984679812', '0692518207', '0007351054', '', '1449560229', 'B01I24RAEY', '', '1435159586', 'B000E4JO4U'], 'ratings': 4.0416665}\n",
      "{'title': 'Kalender 2021', 'author_name': 'Paula Paulsen', 'publish_year': 2020.0, 'language': ['ger'], 'subject': None, 'num_pages': 120.0, 'id_amazon': None, 'ratings': None}\n",
      "{'title': 'Northanger Abbey', 'author_name': 'Jane Austen', 'publish_year': 1818.0, 'language': ['und', 'eng', 'spa', 'por', 'cat', 'ger', 'rus', 'mul', 'heb', 'fre', 'pol', 'jpn', 'ita', 'chi'], 'subject': ['Mate selection', 'Cousins', 'Fiction', 'Young women', 'Horror tales', 'Families', 'Uncles', 'Appreciation', 'Children of the rich', 'English Love stories', 'Sisters', 'Courtship', 'Books and reading', 'Open Library Staff Picks', 'Country homes', 'Rejection (Psychology)', 'Fathers and daughters', 'Female friendship', 'Manners and customs', 'Social classes', 'Ship captains', 'Social life and customs', 'Adoptees', 'Motherless families', 'Love stories, English', 'Emma Woodhouse (Fictitious character)', 'Young women -- Fiction', 'English Romance fiction', 'Romantaic suspense novels', 'Gothic novels', 'Romance fiction', 'Satire', 'Northanger Abbey', 'British and irish fiction (fictional works by one author)', 'England, fiction', 'Young women, fiction', 'English literature', 'Correspondence', 'English Novelists', 'Marriage', 'Gentry', 'Large type books', 'Literature: Classics', 'Fiction, gothic', 'Fiction, satire', 'Fiction, general', 'Fiction, historical, general', 'Fiction, romance, general', 'Powieść angielska', 'Tłumaczenia polskie', 'Economic aspects', 'Northanger Abbey (Austen, Jane)', 'Persuasion (Austen, Jane)', 'Fiction, horror', 'Romans, nouvelles', 'Mœurs et coutumes', 'Nineteenth century,', 'Nineteenth century', 'Romance', 'Suspense', 'Readers', \"Children's fiction\", 'Austen, jane , 1775-1817', 'Morland, catherine', 'Horror tales--appreciation', 'Horror tales--appreciation--fiction', 'Books and reading--fiction', 'Young women--fiction', 'Young women--england--fiction', 'Pr4034 .n7 2004', '823/.7', 'Literature, history and criticism'], 'num_pages': 254.0, 'id_amazon': ['B000H8TULK', 'B0012BZNYE', 'B000HMBM7Q', 'B0017HFQNG', 'B002SQ1XFK', 'B0000CMUPU', 'B0000CKRT2', '', 'B0012BZNYE', 'B0012BZNYE', 'B00KRN0R2G', 'B005E7P68U', 'B000NQA1XW', 'B0007EFBQC', 'B000GWJGMU', 'B001LGLFO2', 'B0007JPUDQ', 'B000WET5RI', 'B001H8CCV4', 'B00GYENS9G', 'B08YQMBW11', 'B001DBNVGK', '3458362436', '2070770834', '', '1974921522', '1684112419', '3442742994', '0674725670', '1926712617', '1985750511', '3423145307', '190752309X', '1494737337', '1530914396', '149914976X', '1974921565', '3423140135', '162686974X', '152870567X', 'B000S4WSC6', ''], 'ratings': 3.7857144}\n"
     ]
    }
   ],
   "source": [
    "# Realizar una consulta para recuperar algunos documentos\n",
    "res = client.search(index='my_index', size=5)  \n",
    "\n",
    "# Mostrar los resultados\n",
    "for hit in res['hits']['hits']:\n",
    "    print(hit['_source'])"
   ]
  },
  {
   "cell_type": "markdown",
   "id": "111550a3",
   "metadata": {},
   "source": [
    "##### Conteo de documentos"
   ]
  },
  {
   "cell_type": "code",
   "execution_count": 18,
   "id": "840717f4-e370-4c04-ab1f-51a41304d45d",
   "metadata": {},
   "outputs": [
    {
     "name": "stdout",
     "output_type": "stream",
     "text": [
      "El número total de documentos en el índice es: 2143\n"
     ]
    }
   ],
   "source": [
    "# Obtener el número total de documentos en el índice\n",
    "doc_count = client.count(index='my_index')['count']\n",
    "print(f\"El número total de documentos en el índice es: {doc_count}\")"
   ]
  },
  {
   "cell_type": "markdown",
   "id": "b384e393-e712-4ef2-91c4-0c703a1f5d12",
   "metadata": {},
   "source": [
    "##### Búsqueda por palabra clave en el título"
   ]
  },
  {
   "cell_type": "code",
   "execution_count": 19,
   "id": "dd2f2d28",
   "metadata": {},
   "outputs": [
    {
     "name": "stdout",
     "output_type": "stream",
     "text": [
      "{'title': 'Frankenstein Illustrated', 'author_name': 'Mary Wollstonecraft Shelley', 'publish_year': 2021.0, 'language': ['eng'], 'subject': None, 'num_pages': None, 'id_amazon': None, 'ratings': None}\n",
      "{'title': \"Dean Koontz's Frankenstein\", 'author_name': 'Dean Koontz', 'publish_year': 2005.0, 'language': ['eng'], 'subject': ['OverDrive', 'Fiction', 'New orleans (la.), fiction', 'Fiction, horror', 'Frankenstein (fictitious character), fiction', 'Scientists, fiction'], 'num_pages': 400.0, 'id_amazon': ['', '1441818308', '0007386974', '1441818316', '1441818294'], 'ratings': 4.0}\n",
      "{'title': 'Frankenstein or The Modern Prometheus', 'author_name': 'Mary Wollstonecraft Shelley', 'publish_year': 1818.0, 'language': ['fre', 'ita', 'por', 'ger', 'chi', 'rus', 'spa', 'eng', 'dut'], 'subject': ['Frankenstein (Fictitious character)', \"Frankenstein's monster (Fictitious character)\", 'Fiction', 'Victor Frankenstein (Fictitious character)', 'Scientists', 'Monsters', 'Fiction, horror', 'Frankenstein (fictitious character), fiction', 'Physicians, fiction', 'British fiction (fictional works by one author)', 'Scientists, fiction', 'Geneva (Switzerland), fiction', \"Children's fiction\", 'Horror stories', 'Fiction, science fiction, general', 'Fiction, general', 'Horror tales', 'Frankenstein (Shelley, Mary Wollstonecraft)', 'Large type books', 'English fiction', 'Study guides', 'Examinations', 'Criticism and interpretation', 'Fiction, gothic', 'English language, textbooks for foreign speakers', 'Reading comprehension', 'Monsters, fiction', 'English literature', 'Comics & graphic novels, science fiction', 'Comics & graphic novels, horror', 'Comic books, strips, etc.', 'Comics & graphic novels, literary', 'Shelley, Mary Wollstonecraft, 1797-1851', 'English fiction (collections), 19th century', 'Literature and fiction, horror and ghost stories', 'Readers', 'Science fiction, history and criticism', 'Horror tales, history and criticism', \"Children's stories\", 'Monstrous', 'Novela', 'History and criticism', 'Horror fiction', 'British and irish fiction (fictional works by one author)', 'Fiction, historical, general', 'literary criticism', 'English Science fiction', 'English Horror tales', 'Scientists in literature', 'Monsters in literature', 'Science, experiments, fiction', 'Authors', 'Travel', 'Reincarnation', 'Self-actualization (Psychology)', 'Vida espiritual', 'Arte de vivir', 'Conducta (Ética)', 'Self-realization', 'Reading materials', 'Fiction, science fiction, hard science fiction', 'Switzerland, fiction', 'Literature and fiction, women authors', 'Literature, history and criticism', 'Science fiction', 'Cartoons and comics', 'Monstres', 'Romans, nouvelles', 'Comic books, strips', 'Classic science fiction', 'Horror and supernatural fiction', 'Classic fiction', 'Science in literature', 'Illustration', 'Gothic fiction', 'English language, juvenile literature', 'Shelley, Mary Wollstonecraft, 1797-1851. Frankenstein', 'Frankenstein, Victor (Fictitious character) -- Fiction', \"Frankenstein's monster (Fictitious character) -- Fiction\", 'Scientists -- Fiction', 'Monsters -- Fiction', 'Frankenstein’s monster (Fictitious character)', 'Frankenstein’s monster', 'Monsters--fiction', 'Frankenstein, victor (fictitious character)', 'Frankenstein, victor (fictitious character)--fiction', 'Pr5397 .f7 1992', '823.7 f', 'Frankenstein, victor', \"Frankenstein's monster\", 'Scientists--fiction', 'Frankenstein, victor (fictional character)', 'Frankenstein, victor (fictional character)--fiction', 'Frankenstein (fictional character)', 'Frankenstein (fictional character)--fiction', 'Pr5397 .f7 2003c', '823/.7', 'Fic004000', 'Pr5397 .f7 1969', 'Pr5397 .f7 2008f', '823.7', 'Science & technology in literature', 'Literary styles & movements - fiction', 'Books at the movies', 'Occupations - fiction', 'English fiction & prose literature - general & miscellaneous - literary criticism', 'Horror literature - literary criticism', 'English', 'Scot', 'Pr5397 .f7 2007', 'Shelley, mary wollstonecraft , 1797-1851', 'Pr5397 .f7 2012', 'Classics', 'Horror', 'Gothic', 'English & college success -> english -> fiction', 'Mary shelley', 'Mary wollstonecraft shelley', 'Women authors', 'Rhetoric', 'Ya', 'Young adult', 'Juvenile', 'History', 'Historical', 'Classic', 'Literature', 'Books', 'Novels', 'Hardcovers', 'Paperback', 'Ebook', 'Audio-book', 'Stories', 'Tales', 'Madness', 'Mad', 'Science', 'Life conduct', 'Ethics', 'Translations into russian', 'Ficción', 'Frankenstein (personaje literario)', 'Monstruos', 'Epistolary fiction', 'Conducta (etica)', 'Dracula, count (fictitious character), fiction', 'Jekyll, doctor (fictitious character), fiction', 'Fiction, ghost', 'Frankenstein films', 'Juvenile fiction', 'African american women', 'Man-woman relationships', 'Pr5397 .f7 2012d', 'Pr5397 .f7 2008d', '823'], 'num_pages': 240.0, 'id_amazon': ['B08M25T3PW', 'B093XMVLXF', 'B000LQ3XU2', '1986042618', '1613823797', '1374902233', 'B09MJB132T', '9589127568', '194518616X', 'B01NA6I4H7', '1533415889', '1720834342', '1543290027', '1800601352', '1984131400', '', '1613826621', '', '1787550923', '1101997974', 'B00VIMOEJW', '1539652408', '1632060787', '8809817672', '', '', '014130541X', 'B08CJXNBWT', '1096397412', '9509051314', '1772266841', 'B001M25W80', 'B001MBLRSK', '0462003078', '147831947X', '1603400494', '1911405632', '1474924972', '1509827757', '', '1627300155', '', '', '1772268267', '1421851547', '1613826648', '1942341555', '', '1403773734', '0718181123', '1945526262', '1099623987', '193943758X', '1613821670', '0995029121', 'B09HQY2D4J', '0679600590', '8322217218', '1613826656', '0141198966', '161382663X', '', '3806747598', 'B06ZXT4MRB', '0307350150', 'B08M25T3PW', 'B09MJB132T', '1912464063', '1641812117', 'B004GKJR72', '', '', 'B074XFNY18', '850401620X', '0766631737', '109951858X', ''], 'ratings': 3.9005847}\n",
      "{'title': 'Frankenstein (Graphic Horror) (Graphic Horror)', 'author_name': 'Mary Wollstonecraft Shelley', 'publish_year': 2007.0, 'language': ['eng'], 'subject': ['Frankenstein (fictitious character), fiction', 'Geneva (switzerland), fiction', 'British and irish fiction (fictional works by one author)', 'Fiction, horror', 'Fiction, science fiction, general', 'Scientists, fiction', 'Comic books, strips', 'Juvenile fiction', 'Graphic novels', \"Children's fiction\", 'Cartoons and comics', 'Horror stories', 'Monsters, fiction'], 'num_pages': 32.0, 'id_amazon': ['0749696834'], 'ratings': None}\n",
      "{'title': \"Mary Shelley's Frankenstein; or, the Modern Prometheus (1818 text)\", 'author_name': 'Mary Wollstonecraft Shelley', 'publish_year': 1818.0, 'language': ['rus', 'eng', 'fre'], 'subject': ['Frankenstein, victor', \"Frankenstein's monster\", 'Shelley, mary wollstonecraft , 1797-1851', 'Scientists', 'Scientists--fiction', 'Monsters', 'Monsters--fiction', 'Medicine in literature', 'Science in literature', 'Pr5397 .f7 2018d', '823/.7', 'Frankestein (personaje ficticio)', 'Frankestein (personaje ficticio)--novela', 'Científicos', 'Científicos--novela', 'Monstruos', 'Monstruos--novela', 'Pr5397 .f7 2008e', 'Hl 4343', 'Women and literature--history', 'Women and literature--england--history--19th century', 'Horror tales, english--history and criticism', 'Monsters in literature', 'Pr5397.f73 m36 1996'], 'num_pages': 270.0, 'id_amazon': ['1609441249', 'B01CD4OCVI', '0198814046', '', 'B018LJYKLQ'], 'ratings': 3.5}\n"
     ]
    }
   ],
   "source": [
    "# Buscar documentos donde el campo 'title' contenga una palabra clave\n",
    "keyword = \"Frankenstein\"\n",
    "\n",
    "query = {\n",
    "    \"query\": {\n",
    "        \"match\": {\n",
    "            \"title\": keyword\n",
    "        }\n",
    "    }\n",
    "}\n",
    "res = client.search(index='my_index', body=query)\n",
    "for hit in res['hits']['hits']:\n",
    "    print(hit['_source'])"
   ]
  },
  {
   "cell_type": "markdown",
   "id": "ffa2ddb2-1a3d-4e13-9feb-82202f8facc5",
   "metadata": {},
   "source": [
    "##### Agregación para contar documentos por autor"
   ]
  },
  {
   "cell_type": "code",
   "execution_count": 20,
   "id": "deac6457",
   "metadata": {},
   "outputs": [
    {
     "name": "stdout",
     "output_type": "stream",
     "text": [
      "Número de libros por autor:\n",
      "  - Autor: R. L. Stine, Número de libros: 204\n",
      "  - Autor: Stephen King, Número de libros: 75\n",
      "  - Autor: Dean Koontz, Número de libros: 37\n",
      "  - Autor: Christopher Pike, Número de libros: 36\n",
      "  - Autor: H.P. Lovecraft, Número de libros: 25\n",
      "  - Autor: Steve Hutchison, Número de libros: 25\n",
      "  - Autor: V. C. Andrews, Número de libros: 24\n",
      "  - Autor: Anne Rice, Número de libros: 23\n",
      "  - Autor: Karl Edward Wagner, Número de libros: 20\n",
      "  - Autor: Edgar Allan Poe, Número de libros: 16\n"
     ]
    }
   ],
   "source": [
    "# Realizar una agregación para contar el número de documentos por 'author_name'\n",
    "query = {\n",
    "    \"size\": 0,\n",
    "    \"aggs\": {\n",
    "        \"authors\": {\n",
    "            \"terms\": {\n",
    "                \"field\": \"author_name.keyword\",\n",
    "                \"size\": 10\n",
    "            }\n",
    "        }\n",
    "    }\n",
    "}\n",
    "res = client.search(index='my_index', body=query)\n",
    "print(\"Número de libros por autor:\")\n",
    "for bucket in res['aggregations']['authors']['buckets']:\n",
    "    print(f\"  - Autor: {bucket['key']}, Número de libros: {bucket['doc_count']}\")"
   ]
  },
  {
   "cell_type": "markdown",
   "id": "2cb7bd36-c75b-4cbb-862e-74894c23e3ad",
   "metadata": {},
   "source": [
    "##### Búsqueda por rango de ratings"
   ]
  },
  {
   "cell_type": "code",
   "execution_count": 21,
   "id": "054fb705",
   "metadata": {},
   "outputs": [
    {
     "name": "stdout",
     "output_type": "stream",
     "text": [
      "Documentos con ratings entre 4.0 y 5.0:\n",
      "  - Autor: Oscar Wilde, Título: The Picture of Dorian Gray, Ratings: 4.0416665\n",
      "  - Autor: Stephen King, Título: It, Ratings: 4.109005\n",
      "  - Autor: Stephen King, Título: Works (Carrie / Night Shift / 'Salem's Lot / Shining), Ratings: 4.5555553\n",
      "  - Autor: Stephen King, Título: The Stand, Ratings: 4.285714\n",
      "  - Autor: Stephen King, Título: Skeleton Crew, Ratings: 4.347826\n",
      "  - Autor: Stephen King, Título: Different Seasons, Ratings: 4.5882354\n",
      "  - Autor: Stephen King, Título: Salem’s Lot, Ratings: 4.0882354\n",
      "  - Autor: Robert W. Chambers, Título: The King in Yellow, Ratings: 4.142857\n",
      "  - Autor: Percy Bysshe Shelley, Título: Poems, Ratings: 4.0\n",
      "  - Autor: Stephen King, Título: The Dead Zone, Ratings: 4.1764708\n"
     ]
    }
   ],
   "source": [
    "# Buscar documentos donde el campo 'ratings' esté dentro de un rango específico\n",
    "gte_rating = 4.0\n",
    "lte_rating = 5.0\n",
    "\n",
    "query = {\n",
    "    \"query\": {\n",
    "        \"range\": {\n",
    "            \"ratings\": {\n",
    "                \"gte\": gte_rating,\n",
    "                \"lte\": lte_rating\n",
    "            }\n",
    "        }\n",
    "    }\n",
    "}\n",
    "\n",
    "# Ejecutar la consulta\n",
    "res = client.search(index='my_index', body=query)\n",
    "\n",
    "# Imprimir sólo el autor, el título y los ratings, para que se vea bien si ratings esta correcto\n",
    "print(f\"Documentos con ratings entre {gte_rating} y {lte_rating}:\")\n",
    "for hit in res['hits']['hits']:\n",
    "    source = hit['_source']\n",
    "    autor = source.get('author_name', 'Autor desconocido')\n",
    "    titulo = source.get('title', 'Título desconocido')\n",
    "    ratings = source.get('ratings', 'Ratings desconocidos')\n",
    "    print(f\"  - Autor: {autor}, Título: {titulo}, Ratings: {ratings}\")"
   ]
  },
  {
   "cell_type": "markdown",
   "id": "465e4fc3-af7d-4c33-902a-607a3a6b54b5",
   "metadata": {},
   "source": [
    "##### Obtener IDs de documentos"
   ]
  },
  {
   "cell_type": "code",
   "execution_count": 22,
   "id": "43e0f69a",
   "metadata": {},
   "outputs": [
    {
     "name": "stdout",
     "output_type": "stream",
     "text": [
      "IDs de los documentos en el índice:\n",
      "  - FZHNlo8BxCWCIpnrWepf\n",
      "  - FpHNlo8BxCWCIpnrWuoJ\n",
      "  - F5HNlo8BxCWCIpnrWuoZ\n",
      "  - GJHNlo8BxCWCIpnrWuok\n",
      "  - GZHNlo8BxCWCIpnrWuor\n",
      "  - GpHNlo8BxCWCIpnrWuo1\n",
      "  - G5HNlo8BxCWCIpnrWuo8\n",
      "  - HJHNlo8BxCWCIpnrWupG\n",
      "  - HZHNlo8BxCWCIpnrWupP\n",
      "  - HpHNlo8BxCWCIpnrWupX\n"
     ]
    }
   ],
   "source": [
    "# Definir la consulta para obtener los IDs de los documentos\n",
    "query = {\n",
    "    \"_source\": False,  # No necesitamos los datos completos, solo los IDs\n",
    "    \"query\": {\n",
    "        \"match_all\": {}  # Obtener todos los documentos\n",
    "    }\n",
    "}\n",
    "\n",
    "# Ejecutar la consulta\n",
    "res = client.search(index='my_index', body=query)  # Ajusta el tamaño según sea necesario\n",
    "\n",
    "# Extraer y mostrar los IDs de los documentos\n",
    "document_ids = [hit['_id'] for hit in res['hits']['hits']]\n",
    "print(\"IDs de los documentos en el índice:\")\n",
    "for doc_id in document_ids:\n",
    "    print(f\"  - {doc_id}\")"
   ]
  },
  {
   "cell_type": "markdown",
   "id": "bd11263c-2866-47f2-81f6-8965a5347eda",
   "metadata": {},
   "source": [
    "##### Obtener campos únicos de un documento específico"
   ]
  },
  {
   "cell_type": "code",
   "execution_count": 23,
   "id": "627b637c",
   "metadata": {},
   "outputs": [
    {
     "name": "stdout",
     "output_type": "stream",
     "text": [
      "dict_keys(['title', 'author_name', 'publish_year', 'language', 'subject', 'num_pages', 'id_amazon', 'ratings'])\n"
     ]
    }
   ],
   "source": [
    "# Obtener todos los campos únicos de un documento específico\n",
    "doc_id = 'FZHNlo8BxCWCIpnrWepf'  # Reemplaza con el ID del documento\n",
    "res = client.get(index='my_index', id=doc_id)\n",
    "print(res['_source'].keys())"
   ]
  },
  {
   "cell_type": "markdown",
   "id": "3de2854d-bb63-4331-98af-b7284db3259e",
   "metadata": {},
   "source": [
    "##### Obtener un documento por su ID"
   ]
  },
  {
   "cell_type": "code",
   "execution_count": 24,
   "id": "94d13be0",
   "metadata": {},
   "outputs": [
    {
     "name": "stdout",
     "output_type": "stream",
     "text": [
      "Campos y valores del documento con ID 'FZHNlo8BxCWCIpnrWepf':\n",
      "  - title: Frankenstein or The Modern Prometheus\n",
      "  - author_name: Mary Wollstonecraft Shelley\n",
      "  - publish_year: 1818.0\n",
      "  - language: ['fre', 'ita', 'por', 'ger', 'chi', 'rus', 'spa', 'eng', 'dut']\n",
      "  - subject: ['Frankenstein (Fictitious character)', \"Frankenstein's monster (Fictitious character)\", 'Fiction', 'Victor Frankenstein (Fictitious character)', 'Scientists', 'Monsters', 'Fiction, horror', 'Frankenstein (fictitious character), fiction', 'Physicians, fiction', 'British fiction (fictional works by one author)', 'Scientists, fiction', 'Geneva (Switzerland), fiction', \"Children's fiction\", 'Horror stories', 'Fiction, science fiction, general', 'Fiction, general', 'Horror tales', 'Frankenstein (Shelley, Mary Wollstonecraft)', 'Large type books', 'English fiction', 'Study guides', 'Examinations', 'Criticism and interpretation', 'Fiction, gothic', 'English language, textbooks for foreign speakers', 'Reading comprehension', 'Monsters, fiction', 'English literature', 'Comics & graphic novels, science fiction', 'Comics & graphic novels, horror', 'Comic books, strips, etc.', 'Comics & graphic novels, literary', 'Shelley, Mary Wollstonecraft, 1797-1851', 'English fiction (collections), 19th century', 'Literature and fiction, horror and ghost stories', 'Readers', 'Science fiction, history and criticism', 'Horror tales, history and criticism', \"Children's stories\", 'Monstrous', 'Novela', 'History and criticism', 'Horror fiction', 'British and irish fiction (fictional works by one author)', 'Fiction, historical, general', 'literary criticism', 'English Science fiction', 'English Horror tales', 'Scientists in literature', 'Monsters in literature', 'Science, experiments, fiction', 'Authors', 'Travel', 'Reincarnation', 'Self-actualization (Psychology)', 'Vida espiritual', 'Arte de vivir', 'Conducta (Ética)', 'Self-realization', 'Reading materials', 'Fiction, science fiction, hard science fiction', 'Switzerland, fiction', 'Literature and fiction, women authors', 'Literature, history and criticism', 'Science fiction', 'Cartoons and comics', 'Monstres', 'Romans, nouvelles', 'Comic books, strips', 'Classic science fiction', 'Horror and supernatural fiction', 'Classic fiction', 'Science in literature', 'Illustration', 'Gothic fiction', 'English language, juvenile literature', 'Shelley, Mary Wollstonecraft, 1797-1851. Frankenstein', 'Frankenstein, Victor (Fictitious character) -- Fiction', \"Frankenstein's monster (Fictitious character) -- Fiction\", 'Scientists -- Fiction', 'Monsters -- Fiction', 'Frankenstein’s monster (Fictitious character)', 'Frankenstein’s monster', 'Monsters--fiction', 'Frankenstein, victor (fictitious character)', 'Frankenstein, victor (fictitious character)--fiction', 'Pr5397 .f7 1992', '823.7 f', 'Frankenstein, victor', \"Frankenstein's monster\", 'Scientists--fiction', 'Frankenstein, victor (fictional character)', 'Frankenstein, victor (fictional character)--fiction', 'Frankenstein (fictional character)', 'Frankenstein (fictional character)--fiction', 'Pr5397 .f7 2003c', '823/.7', 'Fic004000', 'Pr5397 .f7 1969', 'Pr5397 .f7 2008f', '823.7', 'Science & technology in literature', 'Literary styles & movements - fiction', 'Books at the movies', 'Occupations - fiction', 'English fiction & prose literature - general & miscellaneous - literary criticism', 'Horror literature - literary criticism', 'English', 'Scot', 'Pr5397 .f7 2007', 'Shelley, mary wollstonecraft , 1797-1851', 'Pr5397 .f7 2012', 'Classics', 'Horror', 'Gothic', 'English & college success -> english -> fiction', 'Mary shelley', 'Mary wollstonecraft shelley', 'Women authors', 'Rhetoric', 'Ya', 'Young adult', 'Juvenile', 'History', 'Historical', 'Classic', 'Literature', 'Books', 'Novels', 'Hardcovers', 'Paperback', 'Ebook', 'Audio-book', 'Stories', 'Tales', 'Madness', 'Mad', 'Science', 'Life conduct', 'Ethics', 'Translations into russian', 'Ficción', 'Frankenstein (personaje literario)', 'Monstruos', 'Epistolary fiction', 'Conducta (etica)', 'Dracula, count (fictitious character), fiction', 'Jekyll, doctor (fictitious character), fiction', 'Fiction, ghost', 'Frankenstein films', 'Juvenile fiction', 'African american women', 'Man-woman relationships', 'Pr5397 .f7 2012d', 'Pr5397 .f7 2008d', '823']\n",
      "  - num_pages: 240.0\n",
      "  - id_amazon: ['B08M25T3PW', 'B093XMVLXF', 'B000LQ3XU2', '1986042618', '1613823797', '1374902233', 'B09MJB132T', '9589127568', '194518616X', 'B01NA6I4H7', '1533415889', '1720834342', '1543290027', '1800601352', '1984131400', '', '1613826621', '', '1787550923', '1101997974', 'B00VIMOEJW', '1539652408', '1632060787', '8809817672', '', '', '014130541X', 'B08CJXNBWT', '1096397412', '9509051314', '1772266841', 'B001M25W80', 'B001MBLRSK', '0462003078', '147831947X', '1603400494', '1911405632', '1474924972', '1509827757', '', '1627300155', '', '', '1772268267', '1421851547', '1613826648', '1942341555', '', '1403773734', '0718181123', '1945526262', '1099623987', '193943758X', '1613821670', '0995029121', 'B09HQY2D4J', '0679600590', '8322217218', '1613826656', '0141198966', '161382663X', '', '3806747598', 'B06ZXT4MRB', '0307350150', 'B08M25T3PW', 'B09MJB132T', '1912464063', '1641812117', 'B004GKJR72', '', '', 'B074XFNY18', '850401620X', '0766631737', '109951858X', '']\n",
      "  - ratings: 3.9005847\n"
     ]
    }
   ],
   "source": [
    "# Obtener un documento por su ID\n",
    "doc_id = 'FZHNlo8BxCWCIpnrWepf'  \n",
    "\n",
    "try:\n",
    "    res = client.get(index='my_index', id=doc_id)\n",
    "    \n",
    "    # Imprimir los campos y sus valores del documento\n",
    "    print(f\"Campos y valores del documento con ID '{doc_id}':\")\n",
    "    for field, value in res['_source'].items():\n",
    "        print(f\"  - {field}: {value}\")\n",
    "except Exception as e:\n",
    "    print(f\"No se pudo obtener el documento con ID '{doc_id}'. Error: {e}\")"
   ]
  },
  {
   "cell_type": "markdown",
   "id": "0e0c00de-8347-4a21-bcf8-4ff325699053",
   "metadata": {},
   "source": [
    "##### Búsqueda por idiomas"
   ]
  },
  {
   "cell_type": "code",
   "execution_count": 25,
   "id": "228aa002-7080-44a4-a258-e24ac870cf77",
   "metadata": {},
   "outputs": [
    {
     "name": "stdout",
     "output_type": "stream",
     "text": [
      "Libros disponibles en eng, spa:\n",
      "  - Título: Horrorstör, Autor: Grady Hendrix, Idiomas: spa\n",
      "  - Título: El horror econòmico, Autor: Viviane Forrester, Idiomas: spa\n",
      "  - Título: Pauline, la noche del horror, Autor: Fco. Xavier Ramírez S., Idiomas: spa\n",
      "  - Título: Ficciones del horror, Autor: Carlos Surghi, Idiomas: spa\n",
      "  - Título: Fe de horrores, Autor: Aurelio Arteta, Idiomas: spa\n",
      "  - Título: Horrores estridentes, Autor: Diego Lizarazo Arias, Idiomas: spa\n",
      "  - Título: El ángulo del horror, Autor: Cristina Fernández Cubas, Idiomas: spa\n",
      "  - Título: Spanish horror, Autor: Víctor Matellano García, Idiomas: spa\n",
      "  - Título: El horror lingüístico, Autor: Mitsu Miura, Idiomas: spa\n",
      "  - Título: Horror de ángeles, Autor: Josué Trejos Campos, Idiomas: spa\n"
     ]
    }
   ],
   "source": [
    "# Definir los idiomas de interés\n",
    "languages = [\"eng\", \"spa\"]\n",
    "\n",
    "query = {\n",
    "    \"query\": {\n",
    "        \"bool\": {\n",
    "            \"should\": [{\"match\": {\"language\": lang}} for lang in languages]\n",
    "        }\n",
    "    }\n",
    "}\n",
    "\n",
    "res = client.search(index='my_index', body=query)\n",
    "language_names = ', '.join(languages)\n",
    "print(f\"Libros disponibles en {language_names}:\")\n",
    "for hit in res['hits']['hits']:\n",
    "    source = hit['_source']\n",
    "    titulo = source.get('title', 'Título desconocido')\n",
    "    autor = source.get('author_name', 'Autor desconocido')\n",
    "    idiomas = source.get('language', [])\n",
    "    print(f\"  - Título: {titulo}, Autor: {autor}, Idiomas: {', '.join(idiomas)}\")"
   ]
  },
  {
   "cell_type": "markdown",
   "id": "4294022a-e28d-46fa-997b-90a0b9b77282",
   "metadata": {},
   "source": [
    "##### Búsqueda por año de publicación"
   ]
  },
  {
   "cell_type": "code",
   "execution_count": 26,
   "id": "010894a8-40ef-44cb-9f00-7f47529e6b06",
   "metadata": {},
   "outputs": [
    {
     "name": "stdout",
     "output_type": "stream",
     "text": [
      "Libros publicados entre 1990 y 2000:\n",
      "  - Título: Bag of Bones, Autor: Stephen King, Año de Publicación: 1998.0\n",
      "  - Título: Four Past Midnight, Autor: Stephen King, Año de Publicación: 1990.0\n",
      "  - Título: Insomnia, Autor: Stephen King, Año de Publicación: 1994.0\n",
      "  - Título: Northern Lights, Autor: Philip Pullman, Año de Publicación: 1995.0\n",
      "  - Título: The Regulators, Autor: Stephen King, Año de Publicación: 1996.0\n",
      "  - Título: Needful Things, Autor: Stephen King, Año de Publicación: 1991.0\n",
      "  - Título: The Green Mile, Autor: Stephen King, Año de Publicación: 1996.0\n",
      "  - Título: The Subtle Knife, Autor: Philip Pullman, Año de Publicación: 1997.0\n",
      "  - Título: Tales of Horror and Mystery, Autor: Roald Dahl, Año de Publicación: 1993.0\n",
      "  - Título: The best horror stories, Autor: Bloch, Robert, Año de Publicación: 1990.0\n"
     ]
    }
   ],
   "source": [
    "# Definir los años de inicio y fin\n",
    "start_year = 1990\n",
    "end_year = 2000\n",
    "\n",
    "query = {\n",
    "    \"query\": {\n",
    "        \"range\": {\n",
    "            \"publish_year\": {\n",
    "                \"gte\": start_year,\n",
    "                \"lte\": end_year\n",
    "            }\n",
    "        }\n",
    "    }\n",
    "}\n",
    "\n",
    "res = client.search(index='my_index', body=query)\n",
    "print(f\"Libros publicados entre {start_year} y {end_year}:\")\n",
    "for hit in res['hits']['hits']:\n",
    "    source = hit['_source']\n",
    "    titulo = source.get('title', 'Título desconocido')\n",
    "    autor = source.get('author_name', 'Autor desconocido')\n",
    "    publish_year = source.get('publish_year', 'Año desconocido')\n",
    "    print(f\"  - Título: {titulo}, Autor: {autor}, Año de Publicación: {publish_year}\")"
   ]
  },
  {
   "cell_type": "markdown",
   "id": "b1c876f9-e81f-4395-bd5e-404e0569ba78",
   "metadata": {},
   "source": [
    "##### Agregación por número de páginas"
   ]
  },
  {
   "cell_type": "code",
   "execution_count": 27,
   "id": "42831fbe-b93f-4f18-b0cf-a29dea1a4911",
   "metadata": {},
   "outputs": [
    {
     "name": "stdout",
     "output_type": "stream",
     "text": [
      "Distribución de libros por número de páginas:\n",
      "Menos de 100.0 páginas: 172 libros\n",
      "Ejemplos de libros en este rango:\n",
      "  - Daisy Miller por Henry James\n",
      "  - The Haunted House por Charles Dickens\n",
      "  - The Willows por Algernon Blackwood\n",
      "  - The Great God Pan por Arthur Machen\n",
      "  - The Parasite por Arthur Conan Doyle\n",
      "  - The Polar Express Gift Set por Chris Van Allsburg\n",
      "  - Bunnicula por Deborah Howe\n",
      "  - The Haunted and the Haunters, Or, The House and the Brain por Edward Bulwer Lytton, Baron Lytton\n",
      "  - The Fall of the House of Usher por Edgar Allan Poe\n",
      "  - Rikki-Tikki-Tavi por Rudyard Kipling\n",
      "100.0 - 300.0 páginas: 826 libros\n",
      "Ejemplos de libros en este rango:\n",
      "  - Frankenstein or The Modern Prometheus por Mary Wollstonecraft Shelley\n",
      "  - A Christmas Carol por Charles Dickens\n",
      "  - The Picture of Dorian Gray por Oscar Wilde\n",
      "  - Kalender 2021 por Paula Paulsen\n",
      "  - Northanger Abbey por Jane Austen\n",
      "  - The Strange Case of Dr. Jekyll and Mr. Hyde por Robert Louis Stevenson\n",
      "  - Flatland por Edwin Abbott Abbott\n",
      "  - The Invisible Man por H. G. Wells\n",
      "  - KALENDER 2020 por Skateboarding Geschenke für Männer und Frauen Skateboarder Kalender\n",
      "  - Fahrenheit 451 por Ray Bradbury\n",
      "300.0 - 500.0 páginas: 356 libros\n",
      "Ejemplos de libros en este rango:\n",
      "  - The Hobbit por J.R.R. Tolkien\n",
      "  - The House of the Seven Gables por Nathaniel Hawthorne\n",
      "  - Poems por Percy Bysshe Shelley\n",
      "  - The Dead Zone por Stephen King\n",
      "  - Northern Lights por Philip Pullman\n",
      "  - The Regulators por Stephen King\n",
      "  - Night Shift por Stephen King\n",
      "  - Misery por Stephen King\n",
      "  - Firestarter por Stephen King\n",
      "  - Pet Sematary por Stephen King\n",
      "Más de 500.0 páginas: 134 libros\n",
      "Ejemplos de libros en este rango:\n",
      "  - It por Stephen King\n",
      "  - Works (Carrie / Night Shift / 'Salem's Lot / Shining) por Stephen King\n",
      "  - The Stand por Stephen King\n",
      "  - Black House por Stephen King\n",
      "  - The Bachman Books por Stephen King\n",
      "  - Skeleton Crew por Stephen King\n",
      "  - Different Seasons por Stephen King\n",
      "  - Bag of Bones por Stephen King\n",
      "  - Salem’s Lot por Stephen King\n",
      "  - Four Past Midnight por Stephen King\n"
     ]
    }
   ],
   "source": [
    "# Definir el número de libros de ejemplo a recomendar por rango\n",
    "num_examples = 10\n",
    "\n",
    "query = {\n",
    "    \"size\": 0,\n",
    "    \"aggs\": {\n",
    "        \"page_ranges\": {\n",
    "            \"range\": {\n",
    "                \"field\": \"num_pages\",\n",
    "                \"ranges\": [\n",
    "                    {\"to\": 100},\n",
    "                    {\"from\": 100, \"to\": 300},\n",
    "                    {\"from\": 300, \"to\": 500},\n",
    "                    {\"from\": 500}\n",
    "                ]\n",
    "            },\n",
    "            \"aggs\": {\n",
    "                \"sample_books\": {\n",
    "                    \"top_hits\": {\n",
    "                        \"size\": num_examples,\n",
    "                        \"_source\": [\"title\", \"author_name\"]\n",
    "                    }\n",
    "                }\n",
    "            }\n",
    "        }\n",
    "    }\n",
    "}\n",
    "\n",
    "res = client.search(index='my_index', body=query)\n",
    "print(\"Distribución de libros por número de páginas:\")\n",
    "for bucket in res['aggregations']['page_ranges']['buckets']:\n",
    "    range_label = f\"{bucket['from']} - {bucket['to']} páginas\" if 'from' in bucket and 'to' in bucket else \\\n",
    "                  (f\"Menos de {bucket['to']} páginas\" if 'to' in bucket else f\"Más de {bucket['from']} páginas\")\n",
    "    example_books = bucket['sample_books']['hits']['hits']\n",
    "    print(f\"{range_label}: {bucket['doc_count']} libros\")\n",
    "    if example_books:\n",
    "        print(f\"Ejemplos de libros en este rango:\")\n",
    "        for example in example_books:\n",
    "            example_source = example['_source']\n",
    "            example_title = example_source.get('title', 'Título desconocido')\n",
    "            example_author = example_source.get('author_name', 'Autor desconocido')\n",
    "            print(f\"  - {example_title} por {example_author}\")\n",
    "    else:\n",
    "        print(\"  No hay ejemplos disponibles\")"
   ]
  },
  {
   "cell_type": "markdown",
   "id": "41245f13-bed8-4e9d-ba77-9b51596b440c",
   "metadata": {},
   "source": [
    "##### Búsqueda por nombre del autor"
   ]
  },
  {
   "cell_type": "code",
   "execution_count": 28,
   "id": "5acf8a25-b4b1-4d4c-b6b0-583908bba16b",
   "metadata": {},
   "outputs": [
    {
     "name": "stdout",
     "output_type": "stream",
     "text": [
      "Libros escritos por Stephen King:\n",
      "  - Título: It, Año de Publicación: 1986.0, Ratings: 4.109005\n",
      "  - Título: Works (Carrie / Night Shift / 'Salem's Lot / Shining), Año de Publicación: 1981.0, Ratings: 4.5555553\n",
      "  - Título: The Stand, Año de Publicación: 1978.0, Ratings: 4.285714\n",
      "  - Título: Black House, Año de Publicación: 2001.0, Ratings: 3.5625\n",
      "  - Título: The Bachman Books, Año de Publicación: 1985.0, Ratings: 3.7435896\n",
      "  - Título: Skeleton Crew, Año de Publicación: 1985.0, Ratings: 4.347826\n",
      "  - Título: Different Seasons, Año de Publicación: 1982.0, Ratings: 4.5882354\n",
      "  - Título: Bag of Bones, Año de Publicación: 1998.0, Ratings: 3.9629629\n",
      "  - Título: Salem’s Lot, Año de Publicación: 1975.0, Ratings: 4.0882354\n",
      "  - Título: Four Past Midnight, Año de Publicación: 1990.0, Ratings: 3.9473684\n"
     ]
    }
   ],
   "source": [
    "# Definir el nombre del autor a buscar\n",
    "author_name = \"Stephen King\"\n",
    "\n",
    "query = {\n",
    "    \"query\": {\n",
    "        \"match\": {\n",
    "            \"author_name\": author_name\n",
    "        }\n",
    "    }\n",
    "}\n",
    "\n",
    "res = client.search(index='my_index', body=query)\n",
    "print(f\"Libros escritos por {author_name}:\")\n",
    "for hit in res['hits']['hits']:\n",
    "    source = hit['_source']\n",
    "    titulo = source.get('title', 'Título desconocido')\n",
    "    publish_year = source.get('publish_year', 'Año desconocido')\n",
    "    ratings = source.get('ratings', 'Ratings desconocidos')\n",
    "    print(f\"  - Título: {titulo}, Año de Publicación: {publish_year}, Ratings: {ratings}\")"
   ]
  },
  {
   "cell_type": "code",
   "execution_count": 29,
   "id": "226af6fd",
   "metadata": {},
   "outputs": [
    {
     "name": "stdout",
     "output_type": "stream",
     "text": [
      "El índice my_index ha sido eliminado.\n"
     ]
    }
   ],
   "source": [
    "# Verificar si el índice existe antes de intentar eliminarlo\n",
    "if client.indices.exists(index='my_index'):\n",
    "    # Eliminar el índice\n",
    "    client.indices.delete(index='my_index')\n",
    "    print(f\"El índice my_index ha sido eliminado.\")\n",
    "else:\n",
    "    print(f\"El índice my_index no existe.\")"
   ]
  }
 ],
 "metadata": {
  "kernelspec": {
   "display_name": "Python 3 (ipykernel)",
   "language": "python",
   "name": "python3"
  },
  "language_info": {
   "codemirror_mode": {
    "name": "ipython",
    "version": 3
   },
   "file_extension": ".py",
   "mimetype": "text/x-python",
   "name": "python",
   "nbconvert_exporter": "python",
   "pygments_lexer": "ipython3",
   "version": "3.9.7"
  }
 },
 "nbformat": 4,
 "nbformat_minor": 5
}
