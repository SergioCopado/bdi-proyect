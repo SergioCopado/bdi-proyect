{
 "cells": [
  {
   "cell_type": "markdown",
   "id": "3543d768-6881-494b-a8f7-5a75d842ceab",
   "metadata": {},
   "source": [
    "#### Elasticsearch"
   ]
  },
  {
   "cell_type": "code",
   "execution_count": 1,
   "id": "ad931551-06cb-433d-b905-24122d38b590",
   "metadata": {},
   "outputs": [
    {
     "name": "stdout",
     "output_type": "stream",
     "text": [
      "Requirement already satisfied: elasticsearch in /opt/conda/lib/python3.11/site-packages (8.13.1)\n",
      "Requirement already satisfied: elastic-transport<9,>=8.13 in /opt/conda/lib/python3.11/site-packages (from elasticsearch) (8.13.0)\n",
      "Requirement already satisfied: urllib3<3,>=1.26.2 in /opt/conda/lib/python3.11/site-packages (from elastic-transport<9,>=8.13->elasticsearch) (2.0.7)\n",
      "Requirement already satisfied: certifi in /opt/conda/lib/python3.11/site-packages (from elastic-transport<9,>=8.13->elasticsearch) (2023.7.22)\n",
      "Note: you may need to restart the kernel to use updated packages.\n"
     ]
    }
   ],
   "source": [
    "pip install elasticsearch"
   ]
  },
  {
   "cell_type": "code",
   "execution_count": 10,
   "id": "6fa8b594",
   "metadata": {},
   "outputs": [],
   "source": [
    "# !pip3 install pandas"
   ]
  },
  {
   "cell_type": "code",
   "execution_count": 5,
   "id": "31fe0cbd",
   "metadata": {},
   "outputs": [
    {
     "data": {
      "text/plain": [
       "ObjectApiResponse({'acknowledged': True, 'shards_acknowledged': True, 'index': 'my_index'})"
      ]
     },
     "execution_count": 5,
     "metadata": {},
     "output_type": "execute_result"
    }
   ],
   "source": [
    "from elasticsearch import Elasticsearch\n",
    "import json\n",
    "import os\n",
    "\n",
    "client = Elasticsearch(\"http://elasticsearch:9200\")\n",
    "\n",
    "settings = {\n",
    "\t\"settings\":{\n",
    "\t\t\"number_of_shards\":1,\n",
    "\t\t\"number_of_replicas\":0\n",
    "\t}\n",
    "}\n",
    "client.indices.create(index=\"my_index\", body=settings)"
   ]
  },
  {
   "cell_type": "code",
   "execution_count": 4,
   "id": "046ddaf8",
   "metadata": {},
   "outputs": [
    {
     "name": "stdout",
     "output_type": "stream",
     "text": [
      "Índices disponibles:\n"
     ]
    }
   ],
   "source": [
    "# Para ver los índices disponibles\n",
    "indices = client.indices.get_alias(index=\"*\")\n",
    "\n",
    "# Mostrar los nombres de los índices\n",
    "print(\"Índices disponibles:\")\n",
    "for index in indices:\n",
    "    print(index)"
   ]
  },
  {
   "cell_type": "code",
   "execution_count": 3,
   "id": "d1a53f34",
   "metadata": {},
   "outputs": [
    {
     "data": {
      "text/plain": [
       "ObjectApiResponse({'acknowledged': True})"
      ]
     },
     "execution_count": 3,
     "metadata": {},
     "output_type": "execute_result"
    }
   ],
   "source": [
    "# Para borrar un índice \n",
    "client.indices.delete(index=\"my_index\")"
   ]
  },
  {
   "cell_type": "code",
   "execution_count": 16,
   "id": "39862580",
   "metadata": {},
   "outputs": [],
   "source": [
    "from elasticsearch.helpers import bulk\n",
    "\n",
    "def importar_jsons_campo_especifico(carpeta_json, campos_deseados, batch_size=1000):\n",
    "    # carpetas_json: carpeta donde se encuentran los archivos JSON\n",
    "    # campos_deseados: campos que se desean indexar\n",
    "    # batch_size: tamaño del lote para indexar\n",
    "    total_documents = 0\n",
    "    my_documents = []\n",
    "    for carpeta_json in carpeta_json:\n",
    "        for filename in os.listdir(carpeta_json):\n",
    "            if filename.endswith('.json'):\n",
    "                with open(os.path.join(carpeta_json, filename), 'r') as f:\n",
    "                    data = json.load(f)\n",
    "                    # Selecciona solo los campos deseados\n",
    "                    documento = {campo: data.get(campo, None) for campo in campos_deseados}\n",
    "                    # Agrega el documento a la lista de documentos\n",
    "                    my_documents.append({\"_index\": 'my_index', \"_source\": documento})\n",
    "                    total_documents += 1\n",
    "                    # Indexa por lotes\n",
    "                    if total_documents % batch_size == 0:\n",
    "                        print(\"Indexando\", total_documents, \"documentos\")\n",
    "                        bulk(client, my_documents)\n",
    "                        my_documents = []\n",
    "    # Indexa los documentos restantes\n",
    "    if my_documents:\n",
    "        print(\"Indexando\", total_documents, \"documentos\")\n",
    "        bulk(client, my_documents)"
   ]
  },
  {
   "cell_type": "code",
   "execution_count": 17,
   "id": "7ec01976",
   "metadata": {},
   "outputs": [],
   "source": [
    "carpeta_json = ['work/json/'] # Carpeta donde se encuentran los JSONs\n",
    "campos_deseados = ['author_name', 'first_publish_year', 'title', 'type', 'isbn', 'ebook_access']"
   ]
  },
  {
   "cell_type": "code",
   "execution_count": 19,
   "id": "59623fbc",
   "metadata": {},
   "outputs": [
    {
     "name": "stdout",
     "output_type": "stream",
     "text": [
      "Total de documentos JSON en la carpeta: 33693\n"
     ]
    }
   ],
   "source": [
    "# Para contar cuántos documentos JSON hay en la carpeta 'work/json/'\n",
    "\n",
    "def contar_documentos_json(carpetas_json):\n",
    "    total_documentos = 0\n",
    "    for carpeta_json in carpetas_json:\n",
    "        for filename in os.listdir(carpeta_json):\n",
    "            if filename.endswith('.json'):\n",
    "                total_documentos += 1\n",
    "    return total_documentos\n",
    "\n",
    "carpetas_json = ['work/json/']  # Carpeta donde se encuentran los JSONs\n",
    "total_documentos = contar_documentos_json(carpetas_json)\n",
    "print(\"Total de documentos JSON en la carpeta:\", total_documentos)"
   ]
  },
  {
   "cell_type": "code",
   "execution_count": 18,
   "id": "3f279bbb",
   "metadata": {},
   "outputs": [
    {
     "name": "stdout",
     "output_type": "stream",
     "text": [
      "Indexando 100 documentos\n",
      "Indexando 200 documentos\n",
      "Indexando 300 documentos\n",
      "Indexando 400 documentos\n"
     ]
    }
   ],
   "source": [
    "importar_jsons_campo_especifico(carpeta_json, campos_deseados)"
   ]
  },
  {
   "cell_type": "code",
   "execution_count": 10,
   "id": "20f20a92",
   "metadata": {},
   "outputs": [
    {
     "name": "stdout",
     "output_type": "stream",
     "text": [
      "Documentos en el índice:\n",
      "{'author_name': ['Changjak'], 'first_publish_year': 2013, 'title': '0.0 MHz', 'type': 'work', 'isbn': ['9788967970123', '8967970129'], 'ebook_access': 'no_ebook'}\n",
      "{'author_name': ['Paul D. Storrie'], 'first_publish_year': 2011, 'title': '#02 Made for Each Other', 'type': 'work', 'isbn': ['1282961632', '9780761376040', '9781282961630', '0761376046'], 'ebook_access': 'no_ebook'}\n",
      "{'author_name': ['Thomas Opdahl'], 'first_publish_year': 2023, 'title': '045 Dis-Charges Horror in the Prairie - Movie Script EBOOK', 'type': 'work', 'isbn': ['9781312269408', '1312269405'], 'ebook_access': 'no_ebook'}\n",
      "{'author_name': ['Yuki Amemiya'], 'first_publish_year': 2013, 'title': '07-ghost', 'type': 'work', 'isbn': ['9781421549996', '1421549999'], 'ebook_access': 'no_ebook'}\n",
      "{'author_name': ['Peter Galarneau Jr.'], 'first_publish_year': 2010, 'title': '0-Time', 'type': 'work', 'isbn': ['9780982512937', '0982512937'], 'ebook_access': 'no_ebook'}\n",
      "{'author_name': ['Zander'], 'first_publish_year': 2022, 'title': '0. 0MHz (New Edition) : (Best Horror Book)', 'type': 'work', 'isbn': ['9798835227341'], 'ebook_access': 'no_ebook'}\n",
      "{'author_name': ['James Egan'], 'first_publish_year': 2015, 'title': '1000 Facts about Horror Movies', 'type': 'work', 'isbn': ['9781326515270', '1326515276'], 'ebook_access': 'no_ebook'}\n",
      "{'author_name': ['James Egan'], 'first_publish_year': 2018, 'title': '1000 Facts about Horror Movies Vol. 2', 'type': 'work', 'isbn': ['024439248X', '9780244392482'], 'ebook_access': 'no_ebook'}\n",
      "{'author_name': ['James Egan'], 'first_publish_year': 2018, 'title': '1000 Facts about Horror Movies Vol. 3', 'type': 'work', 'isbn': ['0244692483', '9780244692483'], 'ebook_access': 'no_ebook'}\n",
      "{'author_name': ['Gyles Brandreth'], 'first_publish_year': 1983, 'title': '1000 horrors', 'type': 'work', 'isbn': ['0552542474', '9780552542470'], 'ebook_access': 'no_ebook'}\n"
     ]
    }
   ],
   "source": [
    "# Consulta de todos los documentos para verificar que se han importado correctamente\n",
    "response = client.search(index=\"my_index\", body={\"query\": {\"match_all\": {}}})\n",
    "print(\"Documentos en el índice:\")\n",
    "for hit in response['hits']['hits']:\n",
    "    print(hit['_source'])"
   ]
  }
 ],
 "metadata": {
  "kernelspec": {
   "display_name": "Python 3 (ipykernel)",
   "language": "python",
   "name": "python3"
  },
  "language_info": {
   "codemirror_mode": {
    "name": "ipython",
    "version": 3
   },
   "file_extension": ".py",
   "mimetype": "text/x-python",
   "name": "python",
   "nbconvert_exporter": "python",
   "pygments_lexer": "ipython3",
   "version": "3.9.7"
  }
 },
 "nbformat": 4,
 "nbformat_minor": 5
}
