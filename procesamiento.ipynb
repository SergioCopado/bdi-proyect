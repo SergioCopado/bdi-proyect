{
 "cells": [
  {
   "cell_type": "markdown",
   "id": "faa8c569-2eed-47eb-b5b2-f10e986199bd",
   "metadata": {},
   "source": [
    "#### Spark"
   ]
  },
  {
   "cell_type": "code",
   "execution_count": 1,
   "id": "8a8ba11c-265b-470e-a059-6dda9b9c6f9b",
   "metadata": {},
   "outputs": [
    {
     "name": "stderr",
     "output_type": "stream",
     "text": [
      "Setting default log level to \"WARN\".\n",
      "To adjust logging level use sc.setLogLevel(newLevel). For SparkR, use setLogLevel(newLevel).\n",
      "24/05/11 21:02:54 WARN NativeCodeLoader: Unable to load native-hadoop library for your platform... using builtin-java classes where applicable\n"
     ]
    }
   ],
   "source": [
    "import pyspark \n",
    "from pyspark.sql import SparkSession\n",
    "\n",
    "spark = SparkSession.builder.master(\"local[*]\").appName(\"practica_ibd\").getOrCreate()"
   ]
  },
  {
   "cell_type": "code",
   "execution_count": 3,
   "id": "e872030f-c927-409d-bd3a-8fb116bfad60",
   "metadata": {},
   "outputs": [],
   "source": [
    "#spark.stop()"
   ]
  },
  {
   "cell_type": "code",
   "execution_count": null,
   "id": "54600ad9-ddf7-4fef-b831-010a73bd565d",
   "metadata": {},
   "outputs": [],
   "source": [
    "# Lee los archivos JSON en un DataFrame\n",
    "archivos_json = spark.read.option(\"multiline\", \"true\").json(\"json\")\n",
    "\n",
    "# Selecciona el campo 'author_name'\n",
    "campos_seleccionados = archivos_json.select(\n",
    "    archivos_json['author_name'].getItem(0).alias('author_name'),\n",
    "    archivos_json['first_publish_year'].alias('publish_year'),\n",
    "    archivos_json['title'].alias('title'),\n",
    "    archivos_json['type'].alias('type'),\n",
    "    archivos_json['isbn'].alias('isbn'),\n",
    "    archivos_json['ebook_access'].alias('ebook_access')\n",
    "    # Añadir los campos que haga falta\n",
    ")\n",
    "\n",
    "# Muestra el DataFrame resultante\n",
    "campos_seleccionados.show()"
   ]
  },
  {
   "cell_type": "markdown",
   "id": "3543d768-6881-494b-a8f7-5a75d842ceab",
   "metadata": {},
   "source": [
    "#### Elasticsearch"
   ]
  },
  {
   "cell_type": "code",
   "execution_count": null,
   "id": "ad931551-06cb-433d-b905-24122d38b590",
   "metadata": {},
   "outputs": [],
   "source": [
    "pip install elasticsearch"
   ]
  },
  {
   "cell_type": "code",
   "execution_count": null,
   "id": "58a5db9a-e9a5-4452-beaa-4f58478d7fc3",
   "metadata": {},
   "outputs": [],
   "source": [
    "from elasticsearch import Elasticsearch\n",
    "from elasticsearch import helpers\n",
    "import json\n",
    "\n",
    "# Función para convertir un DataFrame de Spark a un formato compatible con Elasticsearch\n",
    "def df_to_es(df):\n",
    "    for row in df.toJSON().collect():\n",
    "        yield json.loads(row)\n",
    "\n",
    "# Conectar con Elasticsearch\n",
    "client = Elasticsearch([{'host': 'localhost', 'port': 9200, 'scheme': 'http'}])  # Reemplaza localhost con la dirección de tu Elasticsearch si es necesario\n",
    "\n",
    "# Definir un DataFrame de Spark con las columnas seleccionadas\n",
    "# Suponiendo que tienes un DataFrame llamado 'campos_seleccionados' correctamente definido\n",
    "\n",
    "# Indexar documentos en Elasticsearch utilizando Spark\n",
    "try:\n",
    "    helpers.bulk(client, df_to_es(campos_seleccionados), index='my-index')\n",
    "    print(\"Documentos indexados correctamente.\")\n",
    "except Exception as e:\n",
    "    print(\"Error al indexar documentos:\", e)\n",
    "\n",
    "# Realizar una consulta para recuperar algunos documentos\n",
    "try:\n",
    "    res = client.search(index='my-index', size=5)  \n",
    "    for hit in res['hits']['hits']:\n",
    "        print(hit['_source'])\n",
    "except Exception as e:\n",
    "    print(\"Error al realizar la consulta:\", e)\n",
    "\n",
    "# Cierra la sesión de Spark\n",
    "#spark.stop()"
   ]
  }
 ],
 "metadata": {
  "kernelspec": {
   "display_name": "Python 3 (ipykernel)",
   "language": "python",
   "name": "python3"
  },
  "language_info": {
   "codemirror_mode": {
    "name": "ipython",
    "version": 3
   },
   "file_extension": ".py",
   "mimetype": "text/x-python",
   "name": "python",
   "nbconvert_exporter": "python",
   "pygments_lexer": "ipython3",
   "version": "3.9.7"
  }
 },
 "nbformat": 4,
 "nbformat_minor": 5
}
